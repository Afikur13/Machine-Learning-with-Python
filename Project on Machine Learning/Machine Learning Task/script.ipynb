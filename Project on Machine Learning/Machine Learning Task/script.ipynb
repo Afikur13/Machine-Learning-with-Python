{
 "cells": [
  {
   "cell_type": "code",
   "execution_count": 1,
   "metadata": {},
   "outputs": [],
   "source": [
    "import pandas as pd\n",
    "import numpy as np \n",
    "import matplotlib.pyplot as plt\n",
    "import seaborn as sb"
   ]
  },
  {
   "cell_type": "code",
   "execution_count": 2,
   "metadata": {},
   "outputs": [],
   "source": [
    "df=pd.read_csv('categorized_resumes.csv')  # Load the dataset"
   ]
  },
  {
   "cell_type": "code",
   "execution_count": 3,
   "metadata": {},
   "outputs": [
    {
     "data": {
      "text/html": [
       "<div>\n",
       "<style scoped>\n",
       "    .dataframe tbody tr th:only-of-type {\n",
       "        vertical-align: middle;\n",
       "    }\n",
       "\n",
       "    .dataframe tbody tr th {\n",
       "        vertical-align: top;\n",
       "    }\n",
       "\n",
       "    .dataframe thead th {\n",
       "        text-align: right;\n",
       "    }\n",
       "</style>\n",
       "<table border=\"1\" class=\"dataframe\">\n",
       "  <thead>\n",
       "    <tr style=\"text-align: right;\">\n",
       "      <th></th>\n",
       "      <th>ID</th>\n",
       "      <th>Resume_str</th>\n",
       "      <th>Resume_html</th>\n",
       "      <th>Category</th>\n",
       "    </tr>\n",
       "  </thead>\n",
       "  <tbody>\n",
       "    <tr>\n",
       "      <th>0</th>\n",
       "      <td>16852973</td>\n",
       "      <td>HR ADMINISTRATOR/MARKETING ASSOCIATE\\...</td>\n",
       "      <td>&lt;div class=\"fontsize fontface vmargins hmargin...</td>\n",
       "      <td>HR</td>\n",
       "    </tr>\n",
       "    <tr>\n",
       "      <th>1</th>\n",
       "      <td>22323967</td>\n",
       "      <td>HR SPECIALIST, US HR OPERATIONS      ...</td>\n",
       "      <td>&lt;div class=\"fontsize fontface vmargins hmargin...</td>\n",
       "      <td>HR</td>\n",
       "    </tr>\n",
       "    <tr>\n",
       "      <th>2</th>\n",
       "      <td>33176873</td>\n",
       "      <td>HR DIRECTOR       Summary      Over 2...</td>\n",
       "      <td>&lt;div class=\"fontsize fontface vmargins hmargin...</td>\n",
       "      <td>HR</td>\n",
       "    </tr>\n",
       "    <tr>\n",
       "      <th>3</th>\n",
       "      <td>27018550</td>\n",
       "      <td>HR SPECIALIST       Summary    Dedica...</td>\n",
       "      <td>&lt;div class=\"fontsize fontface vmargins hmargin...</td>\n",
       "      <td>HR</td>\n",
       "    </tr>\n",
       "    <tr>\n",
       "      <th>4</th>\n",
       "      <td>17812897</td>\n",
       "      <td>HR MANAGER         Skill Highlights  ...</td>\n",
       "      <td>&lt;div class=\"fontsize fontface vmargins hmargin...</td>\n",
       "      <td>HR</td>\n",
       "    </tr>\n",
       "    <tr>\n",
       "      <th>...</th>\n",
       "      <td>...</td>\n",
       "      <td>...</td>\n",
       "      <td>...</td>\n",
       "      <td>...</td>\n",
       "    </tr>\n",
       "    <tr>\n",
       "      <th>2479</th>\n",
       "      <td>99416532</td>\n",
       "      <td>RANK: SGT/E-5 NON- COMMISSIONED OFFIC...</td>\n",
       "      <td>&lt;div class=\"fontsize fontface vmargins hmargin...</td>\n",
       "      <td>AVIATION</td>\n",
       "    </tr>\n",
       "    <tr>\n",
       "      <th>2480</th>\n",
       "      <td>24589765</td>\n",
       "      <td>GOVERNMENT RELATIONS, COMMUNICATIONS ...</td>\n",
       "      <td>&lt;div class=\"fontsize fontface vmargins hmargin...</td>\n",
       "      <td>AVIATION</td>\n",
       "    </tr>\n",
       "    <tr>\n",
       "      <th>2481</th>\n",
       "      <td>31605080</td>\n",
       "      <td>GEEK SQUAD AGENT         Professional...</td>\n",
       "      <td>&lt;div class=\"fontsize fontface vmargins hmargin...</td>\n",
       "      <td>AVIATION</td>\n",
       "    </tr>\n",
       "    <tr>\n",
       "      <th>2482</th>\n",
       "      <td>21190805</td>\n",
       "      <td>PROGRAM DIRECTOR / OFFICE MANAGER    ...</td>\n",
       "      <td>&lt;div class=\"fontsize fontface vmargins hmargin...</td>\n",
       "      <td>AVIATION</td>\n",
       "    </tr>\n",
       "    <tr>\n",
       "      <th>2483</th>\n",
       "      <td>37473139</td>\n",
       "      <td>STOREKEEPER II       Professional Sum...</td>\n",
       "      <td>&lt;div class=\"fontsize fontface vmargins hmargin...</td>\n",
       "      <td>AVIATION</td>\n",
       "    </tr>\n",
       "  </tbody>\n",
       "</table>\n",
       "<p>2484 rows × 4 columns</p>\n",
       "</div>"
      ],
      "text/plain": [
       "            ID                                         Resume_str  \\\n",
       "0     16852973           HR ADMINISTRATOR/MARKETING ASSOCIATE\\...   \n",
       "1     22323967           HR SPECIALIST, US HR OPERATIONS      ...   \n",
       "2     33176873           HR DIRECTOR       Summary      Over 2...   \n",
       "3     27018550           HR SPECIALIST       Summary    Dedica...   \n",
       "4     17812897           HR MANAGER         Skill Highlights  ...   \n",
       "...        ...                                                ...   \n",
       "2479  99416532           RANK: SGT/E-5 NON- COMMISSIONED OFFIC...   \n",
       "2480  24589765           GOVERNMENT RELATIONS, COMMUNICATIONS ...   \n",
       "2481  31605080           GEEK SQUAD AGENT         Professional...   \n",
       "2482  21190805           PROGRAM DIRECTOR / OFFICE MANAGER    ...   \n",
       "2483  37473139           STOREKEEPER II       Professional Sum...   \n",
       "\n",
       "                                            Resume_html  Category  \n",
       "0     <div class=\"fontsize fontface vmargins hmargin...        HR  \n",
       "1     <div class=\"fontsize fontface vmargins hmargin...        HR  \n",
       "2     <div class=\"fontsize fontface vmargins hmargin...        HR  \n",
       "3     <div class=\"fontsize fontface vmargins hmargin...        HR  \n",
       "4     <div class=\"fontsize fontface vmargins hmargin...        HR  \n",
       "...                                                 ...       ...  \n",
       "2479  <div class=\"fontsize fontface vmargins hmargin...  AVIATION  \n",
       "2480  <div class=\"fontsize fontface vmargins hmargin...  AVIATION  \n",
       "2481  <div class=\"fontsize fontface vmargins hmargin...  AVIATION  \n",
       "2482  <div class=\"fontsize fontface vmargins hmargin...  AVIATION  \n",
       "2483  <div class=\"fontsize fontface vmargins hmargin...  AVIATION  \n",
       "\n",
       "[2484 rows x 4 columns]"
      ]
     },
     "execution_count": 3,
     "metadata": {},
     "output_type": "execute_result"
    }
   ],
   "source": [
    "df"
   ]
  },
  {
   "cell_type": "code",
   "execution_count": 4,
   "metadata": {},
   "outputs": [
    {
     "data": {
      "text/plain": [
       "(2484, 4)"
      ]
     },
     "execution_count": 4,
     "metadata": {},
     "output_type": "execute_result"
    }
   ],
   "source": [
    "df.shape  # Check the dataset shape"
   ]
  },
  {
   "cell_type": "code",
   "execution_count": 5,
   "metadata": {},
   "outputs": [
    {
     "data": {
      "text/plain": [
       "ID             0\n",
       "Resume_str     0\n",
       "Resume_html    0\n",
       "Category       0\n",
       "dtype: int64"
      ]
     },
     "execution_count": 5,
     "metadata": {},
     "output_type": "execute_result"
    }
   ],
   "source": [
    "df.isnull().sum()"
   ]
  },
  {
   "cell_type": "code",
   "execution_count": 6,
   "metadata": {},
   "outputs": [
    {
     "name": "stdout",
     "output_type": "stream",
     "text": [
      "<class 'pandas.core.frame.DataFrame'>\n",
      "RangeIndex: 2484 entries, 0 to 2483\n",
      "Data columns (total 4 columns):\n",
      " #   Column       Non-Null Count  Dtype \n",
      "---  ------       --------------  ----- \n",
      " 0   ID           2484 non-null   int64 \n",
      " 1   Resume_str   2484 non-null   object\n",
      " 2   Resume_html  2484 non-null   object\n",
      " 3   Category     2484 non-null   object\n",
      "dtypes: int64(1), object(3)\n",
      "memory usage: 77.8+ KB\n"
     ]
    }
   ],
   "source": [
    "df.info() # basic info about the dataset"
   ]
  },
  {
   "cell_type": "code",
   "execution_count": 7,
   "metadata": {},
   "outputs": [
    {
     "data": {
      "text/plain": [
       "array(['HR', 'DESIGNER', 'INFORMATION-TECHNOLOGY', 'TEACHER', 'ADVOCATE',\n",
       "       'BUSINESS-DEVELOPMENT', 'HEALTHCARE', 'FITNESS', 'AGRICULTURE',\n",
       "       'BPO', 'SALES', 'CONSULTANT', 'DIGITAL-MEDIA', 'AUTOMOBILE',\n",
       "       'CHEF', 'FINANCE', 'APPAREL', 'ENGINEERING', 'ACCOUNTANT',\n",
       "       'CONSTRUCTION', 'PUBLIC-RELATIONS', 'BANKING', 'ARTS', 'AVIATION'],\n",
       "      dtype=object)"
      ]
     },
     "execution_count": 7,
     "metadata": {},
     "output_type": "execute_result"
    }
   ],
   "source": [
    "df['Category'].unique()  # check the unique values"
   ]
  },
  {
   "cell_type": "code",
   "execution_count": 8,
   "metadata": {},
   "outputs": [
    {
     "data": {
      "text/plain": [
       "BUSINESS-DEVELOPMENT      120\n",
       "INFORMATION-TECHNOLOGY    120\n",
       "ADVOCATE                  118\n",
       "ACCOUNTANT                118\n",
       "FINANCE                   118\n",
       "ENGINEERING               118\n",
       "CHEF                      118\n",
       "AVIATION                  117\n",
       "FITNESS                   117\n",
       "SALES                     116\n",
       "CONSULTANT                115\n",
       "HEALTHCARE                115\n",
       "BANKING                   115\n",
       "CONSTRUCTION              112\n",
       "PUBLIC-RELATIONS          111\n",
       "HR                        110\n",
       "DESIGNER                  107\n",
       "ARTS                      103\n",
       "TEACHER                   102\n",
       "APPAREL                    97\n",
       "DIGITAL-MEDIA              96\n",
       "AGRICULTURE                63\n",
       "AUTOMOBILE                 36\n",
       "BPO                        22\n",
       "Name: Category, dtype: int64"
      ]
     },
     "execution_count": 8,
     "metadata": {},
     "output_type": "execute_result"
    }
   ],
   "source": [
    "# Explore the distribution of categories\n",
    "df['Category'].value_counts()"
   ]
  },
  {
   "cell_type": "code",
   "execution_count": 9,
   "metadata": {},
   "outputs": [],
   "source": [
    "# merging the Resume_str and Resume_html\n",
    "df['text'] = df['Resume_str']+' '+df['Resume_html']"
   ]
  },
  {
   "cell_type": "code",
   "execution_count": 10,
   "metadata": {},
   "outputs": [
    {
     "name": "stdout",
     "output_type": "stream",
     "text": [
      "0                HR ADMINISTRATOR/MARKETING ASSOCIATE\\...\n",
      "1                HR SPECIALIST, US HR OPERATIONS      ...\n",
      "2                HR DIRECTOR       Summary      Over 2...\n",
      "3                HR SPECIALIST       Summary    Dedica...\n",
      "4                HR MANAGER         Skill Highlights  ...\n",
      "                              ...                        \n",
      "2479             RANK: SGT/E-5 NON- COMMISSIONED OFFIC...\n",
      "2480             GOVERNMENT RELATIONS, COMMUNICATIONS ...\n",
      "2481             GEEK SQUAD AGENT         Professional...\n",
      "2482             PROGRAM DIRECTOR / OFFICE MANAGER    ...\n",
      "2483             STOREKEEPER II       Professional Sum...\n",
      "Name: text, Length: 2484, dtype: object\n"
     ]
    }
   ],
   "source": [
    "print(df['text'])"
   ]
  },
  {
   "cell_type": "code",
   "execution_count": 11,
   "metadata": {},
   "outputs": [
    {
     "data": {
      "text/html": [
       "<div>\n",
       "<style scoped>\n",
       "    .dataframe tbody tr th:only-of-type {\n",
       "        vertical-align: middle;\n",
       "    }\n",
       "\n",
       "    .dataframe tbody tr th {\n",
       "        vertical-align: top;\n",
       "    }\n",
       "\n",
       "    .dataframe thead th {\n",
       "        text-align: right;\n",
       "    }\n",
       "</style>\n",
       "<table border=\"1\" class=\"dataframe\">\n",
       "  <thead>\n",
       "    <tr style=\"text-align: right;\">\n",
       "      <th></th>\n",
       "      <th>ID</th>\n",
       "      <th>Resume_str</th>\n",
       "      <th>Resume_html</th>\n",
       "      <th>text</th>\n",
       "    </tr>\n",
       "  </thead>\n",
       "  <tbody>\n",
       "    <tr>\n",
       "      <th>0</th>\n",
       "      <td>16852973</td>\n",
       "      <td>HR ADMINISTRATOR/MARKETING ASSOCIATE\\...</td>\n",
       "      <td>&lt;div class=\"fontsize fontface vmargins hmargin...</td>\n",
       "      <td>HR ADMINISTRATOR/MARKETING ASSOCIATE\\...</td>\n",
       "    </tr>\n",
       "    <tr>\n",
       "      <th>1</th>\n",
       "      <td>22323967</td>\n",
       "      <td>HR SPECIALIST, US HR OPERATIONS      ...</td>\n",
       "      <td>&lt;div class=\"fontsize fontface vmargins hmargin...</td>\n",
       "      <td>HR SPECIALIST, US HR OPERATIONS      ...</td>\n",
       "    </tr>\n",
       "    <tr>\n",
       "      <th>2</th>\n",
       "      <td>33176873</td>\n",
       "      <td>HR DIRECTOR       Summary      Over 2...</td>\n",
       "      <td>&lt;div class=\"fontsize fontface vmargins hmargin...</td>\n",
       "      <td>HR DIRECTOR       Summary      Over 2...</td>\n",
       "    </tr>\n",
       "    <tr>\n",
       "      <th>3</th>\n",
       "      <td>27018550</td>\n",
       "      <td>HR SPECIALIST       Summary    Dedica...</td>\n",
       "      <td>&lt;div class=\"fontsize fontface vmargins hmargin...</td>\n",
       "      <td>HR SPECIALIST       Summary    Dedica...</td>\n",
       "    </tr>\n",
       "    <tr>\n",
       "      <th>4</th>\n",
       "      <td>17812897</td>\n",
       "      <td>HR MANAGER         Skill Highlights  ...</td>\n",
       "      <td>&lt;div class=\"fontsize fontface vmargins hmargin...</td>\n",
       "      <td>HR MANAGER         Skill Highlights  ...</td>\n",
       "    </tr>\n",
       "    <tr>\n",
       "      <th>...</th>\n",
       "      <td>...</td>\n",
       "      <td>...</td>\n",
       "      <td>...</td>\n",
       "      <td>...</td>\n",
       "    </tr>\n",
       "    <tr>\n",
       "      <th>2479</th>\n",
       "      <td>99416532</td>\n",
       "      <td>RANK: SGT/E-5 NON- COMMISSIONED OFFIC...</td>\n",
       "      <td>&lt;div class=\"fontsize fontface vmargins hmargin...</td>\n",
       "      <td>RANK: SGT/E-5 NON- COMMISSIONED OFFIC...</td>\n",
       "    </tr>\n",
       "    <tr>\n",
       "      <th>2480</th>\n",
       "      <td>24589765</td>\n",
       "      <td>GOVERNMENT RELATIONS, COMMUNICATIONS ...</td>\n",
       "      <td>&lt;div class=\"fontsize fontface vmargins hmargin...</td>\n",
       "      <td>GOVERNMENT RELATIONS, COMMUNICATIONS ...</td>\n",
       "    </tr>\n",
       "    <tr>\n",
       "      <th>2481</th>\n",
       "      <td>31605080</td>\n",
       "      <td>GEEK SQUAD AGENT         Professional...</td>\n",
       "      <td>&lt;div class=\"fontsize fontface vmargins hmargin...</td>\n",
       "      <td>GEEK SQUAD AGENT         Professional...</td>\n",
       "    </tr>\n",
       "    <tr>\n",
       "      <th>2482</th>\n",
       "      <td>21190805</td>\n",
       "      <td>PROGRAM DIRECTOR / OFFICE MANAGER    ...</td>\n",
       "      <td>&lt;div class=\"fontsize fontface vmargins hmargin...</td>\n",
       "      <td>PROGRAM DIRECTOR / OFFICE MANAGER    ...</td>\n",
       "    </tr>\n",
       "    <tr>\n",
       "      <th>2483</th>\n",
       "      <td>37473139</td>\n",
       "      <td>STOREKEEPER II       Professional Sum...</td>\n",
       "      <td>&lt;div class=\"fontsize fontface vmargins hmargin...</td>\n",
       "      <td>STOREKEEPER II       Professional Sum...</td>\n",
       "    </tr>\n",
       "  </tbody>\n",
       "</table>\n",
       "<p>2484 rows × 4 columns</p>\n",
       "</div>"
      ],
      "text/plain": [
       "            ID                                         Resume_str  \\\n",
       "0     16852973           HR ADMINISTRATOR/MARKETING ASSOCIATE\\...   \n",
       "1     22323967           HR SPECIALIST, US HR OPERATIONS      ...   \n",
       "2     33176873           HR DIRECTOR       Summary      Over 2...   \n",
       "3     27018550           HR SPECIALIST       Summary    Dedica...   \n",
       "4     17812897           HR MANAGER         Skill Highlights  ...   \n",
       "...        ...                                                ...   \n",
       "2479  99416532           RANK: SGT/E-5 NON- COMMISSIONED OFFIC...   \n",
       "2480  24589765           GOVERNMENT RELATIONS, COMMUNICATIONS ...   \n",
       "2481  31605080           GEEK SQUAD AGENT         Professional...   \n",
       "2482  21190805           PROGRAM DIRECTOR / OFFICE MANAGER    ...   \n",
       "2483  37473139           STOREKEEPER II       Professional Sum...   \n",
       "\n",
       "                                            Resume_html  \\\n",
       "0     <div class=\"fontsize fontface vmargins hmargin...   \n",
       "1     <div class=\"fontsize fontface vmargins hmargin...   \n",
       "2     <div class=\"fontsize fontface vmargins hmargin...   \n",
       "3     <div class=\"fontsize fontface vmargins hmargin...   \n",
       "4     <div class=\"fontsize fontface vmargins hmargin...   \n",
       "...                                                 ...   \n",
       "2479  <div class=\"fontsize fontface vmargins hmargin...   \n",
       "2480  <div class=\"fontsize fontface vmargins hmargin...   \n",
       "2481  <div class=\"fontsize fontface vmargins hmargin...   \n",
       "2482  <div class=\"fontsize fontface vmargins hmargin...   \n",
       "2483  <div class=\"fontsize fontface vmargins hmargin...   \n",
       "\n",
       "                                                   text  \n",
       "0              HR ADMINISTRATOR/MARKETING ASSOCIATE\\...  \n",
       "1              HR SPECIALIST, US HR OPERATIONS      ...  \n",
       "2              HR DIRECTOR       Summary      Over 2...  \n",
       "3              HR SPECIALIST       Summary    Dedica...  \n",
       "4              HR MANAGER         Skill Highlights  ...  \n",
       "...                                                 ...  \n",
       "2479           RANK: SGT/E-5 NON- COMMISSIONED OFFIC...  \n",
       "2480           GOVERNMENT RELATIONS, COMMUNICATIONS ...  \n",
       "2481           GEEK SQUAD AGENT         Professional...  \n",
       "2482           PROGRAM DIRECTOR / OFFICE MANAGER    ...  \n",
       "2483           STOREKEEPER II       Professional Sum...  \n",
       "\n",
       "[2484 rows x 4 columns]"
      ]
     },
     "execution_count": 11,
     "metadata": {},
     "output_type": "execute_result"
    }
   ],
   "source": [
    "x=df.drop(['Category'],axis=1) # drop Category column\n",
    "x"
   ]
  },
  {
   "cell_type": "code",
   "execution_count": 12,
   "metadata": {},
   "outputs": [
    {
     "data": {
      "text/plain": [
       "0             HR\n",
       "1             HR\n",
       "2             HR\n",
       "3             HR\n",
       "4             HR\n",
       "          ...   \n",
       "2479    AVIATION\n",
       "2480    AVIATION\n",
       "2481    AVIATION\n",
       "2482    AVIATION\n",
       "2483    AVIATION\n",
       "Name: Category, Length: 2484, dtype: object"
      ]
     },
     "execution_count": 12,
     "metadata": {},
     "output_type": "execute_result"
    }
   ],
   "source": [
    "y=df['Category']  # Assuming y is a column named 'category' from your DataFrame\n",
    "y"
   ]
  },
  {
   "cell_type": "code",
   "execution_count": 13,
   "metadata": {},
   "outputs": [],
   "source": [
    "x = df['text'].values\n",
    "y = df['Category'].values"
   ]
  },
  {
   "cell_type": "code",
   "execution_count": 14,
   "metadata": {},
   "outputs": [
    {
     "name": "stdout",
     "output_type": "stream",
     "text": [
      "['         HR ADMINISTRATOR/MARKETING ASSOCIATE\\n\\nHR ADMINISTRATOR       Summary     Dedicated Customer Service Manager with 15+ years of experience in Hospitality and Customer Service Management.   Respected builder and leader of customer-focused teams; strives to instill a shared, enthusiastic commitment to customer service.         Highlights         Focused on customer satisfaction  Team management  Marketing savvy  Conflict resolution techniques     Training and development  Skilled multi-tasker  Client relations specialist           Accomplishments      Missouri DOT Supervisor Training Certification  Certified by IHG in Customer Loyalty and Marketing by Segment   Hilton Worldwide General Manager Training Certification  Accomplished Trainer for cross server hospitality systems such as    Hilton OnQ  ,   Micros    Opera PMS   , Fidelio    OPERA    Reservation System (ORS) ,   Holidex    Completed courses and seminars in customer service, sales strategies, inventory control, loss prevention, safety, time management, leadership and performance assessment.        Experience      HR Administrator/Marketing Associate\\n\\nHR Administrator     Dec 2013   to   Current      Company Name   －   City  ,   State     Helps to develop policies, directs and coordinates activities such as employment, compensation, labor relations, benefits, training, and employee services.  Prepares employee separation notices and related documentation  Keeps records of benefits plans participation such as insurance and pension plan, personnel transactions such as hires, promotions, transfers, performance reviews, and terminations, and employee statistics for government reporting.  Advises management in appropriate resolution of employee relations issues.  Administers benefits programs such as life, health, dental, insurance, pension plans, vacation, sick leave, leave of absence, and employee assistance.     Marketing Associate \\xa0   Designed and created marketing collateral for sales meetings, trade shows and company executives.  Managed the in-house advertising program consisting of print and media collateral pieces.  Assisted in the complete design and launch of the company\\'s website in 2 months.  Created an official company page on Facebook to facilitate interaction with customers.  Analyzed ratings and programming features of competitors to evaluate the effectiveness of marketing strategies.         Advanced Medical Claims Analyst     Mar 2012   to   Dec 2013      Company Name   －   City  ,   State     Reviewed medical bills for the accuracy of the treatments, tests, and hospital stays prior to sanctioning the claims.  Trained to interpret the codes (ICD-9, CPT) and terminology commonly used in medical billing to fully understand the paperwork that is submitted by healthcare providers.  Required to have organizational and analytical skills as well as computer skills, knowledge of medical terminology and procedures, statistics, billing standards, data analysis and laws regarding medical billing.         Assistant General Manager     Jun 2010   to   Dec 2010      Company Name   －   City  ,   State     Performed duties including but not limited to, budgeting and financial management, accounting, human resources, payroll and purchasing.  Established and maintained close working relationships with all departments of the hotel to ensure maximum operation, productivity, morale and guest service.  Handled daily operations and reported directly to the corporate office.  Hired and trained staff on overall objectives and goals with an emphasis on high customer service.  Marketing and Advertising, working on public relations with the media, government and local businesses and Chamber of Commerce.         Executive Support / Marketing Assistant     Jul 2007   to   Jun 2010      Company Name   －   City  ,   State     Provided assistance to various department heads - Executive, Marketing, Customer Service, Human Resources.  Managed front-end operations to ensure friendly and efficient transactions.  Ensured the swift resolution of customer issues to preserve customer loyalty while complying with company policies.  Exemplified the second-to-none customer service delivery in all interactions with customers and potential clients.         Reservation & Front Office Manager     Jun 2004   to   Jul 2007      Company Name   －   City  ,   State          Owner/ Partner     Dec 2001   to   May 2004      Company Name   －   City  ,   State          Price Integrity Coordinator     Aug 1999   to   Dec 2001      Company Name   －   City  ,   State          Education      N/A  ,   Business Administration   1999     Jefferson College   －   City  ,   State       Business Administration  Marketing / Advertising         High School Diploma  ,   College Prep. studies   1998     Sainte Genevieve Senior High   －   City  ,   State       Awarded American Shrubel Leadership Scholarship to Jefferson College         Skills     Accounting, ads, advertising, analytical skills, benefits, billing, budgeting, clients, Customer Service, data analysis, delivery, documentation, employee relations, financial management, government relations, Human Resources, insurance, labor relations, layout, Marketing, marketing collateral, medical billing, medical terminology, office, organizational, payroll, performance reviews, personnel, policies, posters, presentations, public relations, purchasing, reporting, statistics, website.     <div class=\"fontsize fontface vmargins hmargins linespacing pagesize\" id=\"document\"> <div class=\"section firstsection\" id=\"SECTION_NAME500375979\" style=\"\\n      padding-top:0px;\\n    \"> <div class=\"paragraph PARAGRAPH_NAME firstparagraph\" id=\"PARAGRAPH_500375979_1_326506904\" style=\"\\n      padding-top:0px;\\n    \"> <div class=\"name\" itemprop=\"name\"> <span class=\"field fName\" id=\"500375979FNAM1\"> </span> <span> </span> <span class=\"field\" id=\"500375979LNAM1\"> HR ADMINISTRATOR/MARKETING ASSOCIATE\\n\\nHR ADMINISTRATOR</span> </div> </div> </div> <div class=\"section\" id=\"SECTION_SUMM500375981\" style=\"\\n      padding-top:0px;\\n    \"> <div class=\"heading bottomborder\"> <div class=\"sectiontitle\" id=\"SECTNAME_SUMM500375981\"> Summary</div> </div> <div class=\"paragraph firstparagraph\" id=\"PARAGRAPH_500375981_1_326506917\" style=\"\\n      padding-top:0px;\\n    \"> <div class=\"field singlecolumn\" id=\"500375981FRFM1\"> <p align=\"LEFT\"> Dedicated Customer Service Manager with 15+ years of experience in Hospitality and Customer Service Management. </p> <p align=\"LEFT\"> Respected builder and leader of customer-focused teams; strives to instill a shared, enthusiastic commitment to customer service.  </p> </div> </div> </div> <div class=\"section\" id=\"SECTION_HILT500375982\" style=\"\\n      padding-top:0px;\\n    \"> <div class=\"heading bottomborder\"> <div class=\"sectiontitle\" id=\"SECTNAME_HILT500375982\"> Highlights</div> </div> <div class=\"paragraph firstparagraph\" id=\"PARAGRAPH_500375982_1_326509244\" style=\"\\n      padding-top:0px;\\n    \"> <div class=\"singlecolumn maincolumn\"> <table class=\"twocol\"> <tbody> <tr> <td class=\"field twocol_1\" id=\"500375982SKC11\"> <p align=\"CENTER\"> Focused on customer satisfaction</p> <p align=\"CENTER\"> Team management</p> <p align=\"CENTER\"> Marketing savvy</p> <p align=\"CENTER\"> Conflict resolution techniques</p> <br/> </td> <td class=\"field twocol_2\" id=\"500375982SKC21\"> <p align=\"CENTER\"> Training and development</p> <p align=\"CENTER\"> Skilled multi-tasker</p> <p align=\"CENTER\"> Client relations specialist</p> </td> </tr> </tbody> </table> </div> </div> </div> <div class=\"section\" id=\"SECTION_ACCM500375993\" style=\"\\n      padding-top:0px;\\n    \"> <div class=\"heading bottomborder\"> <div class=\"sectiontitle\" id=\"SECTNAME_ACCM500375993\"> Accomplishments</div> </div> <div class=\"paragraph firstparagraph\" id=\"PARAGRAPH_500375993_1_326506914\" style=\"\\n      padding-top:0px;\\n    \"> <div class=\"field singlecolumn\" id=\"500375993FRFM1\"> <ul> <li> Missouri DOT Supervisor Training Certification</li> <li> Certified by IHG in Customer Loyalty and Marketing by Segment </li> <li> Hilton Worldwide General Manager Training Certification</li> <li> Accomplished Trainer for cross server hospitality systems such as  <b> <u> Hilton OnQ</u> </b> ,  <u> Micros </u> <b> <u> Opera PMS</u> </b> <u> , Fidelio </u> <b> <u> OPERA</u> </b> <u>  Reservation System (ORS)</u> , <b> <u> Holidex</u> </b> </li> <li> Completed courses and seminars in customer service, sales strategies, inventory control, loss prevention, safety, time management, leadership and performance assessment.</li> </ul> </div> </div> </div> <div class=\"section\" id=\"SECTION_EXPR500375983\" style=\"\\n      padding-top:0px;\\n    \"> <div class=\"heading bottomborder\"> <div class=\"sectiontitle\" id=\"SECTNAME_EXPR500375983\"> Experience</div> </div> <div class=\"paragraph firstparagraph\" id=\"PARAGRAPH_500375983_1_326506906\" itemscope=\"\" itemtype=\"https://schema.org/Organization\" style=\"\\n      padding-top:0px;\\n    \"> <div class=\"singlecolumn\"> <span class=\"paddedline\"> <span class=\"jobtitle\" id=\"500375983JTIT1\"> HR Administrator/Marketing Associate\\n\\nHR Administrator</span> <span> </span> <span class=\"datesWrapper\"> <span class=\"jobdates\" format=\"%b %Y\" id=\"500375983JSTD1\"> Dec 2013</span> <span>  to </span> <span class=\"jobdates\" format=\"%b %Y\" id=\"500375983EDDT1\"> Current</span> <br/> </span> </span> <span class=\"paddedline\" itemscope=\"\" itemtype=\"https://schema.org/postalAddress\"> <span class=\"companyname\" id=\"500375983COMP1\" itemprop=\"name\"> Company Name</span> <span>  － </span> <span class=\"joblocation jobcity\" id=\"500375983JCIT1\" itemprop=\"addressLocality\"> City</span> <span> , </span> <span class=\"joblocation jobstate\" id=\"500375983JSTA1\" itemprop=\"addressRegion\"> State</span> </span> <span class=\"jobline\" id=\"500375983JDES1\" itemprop=\"description\"> <ul> <li> Helps to develop policies, directs and coordinates activities such as employment, compensation, labor relations, benefits, training, and employee services.</li> <li> Prepares employee separation notices and related documentation</li> <li> Keeps records of benefits plans participation such as insurance and pension plan, personnel transactions such as hires, promotions, transfers, performance reviews, and terminations, and employee statistics for government reporting.</li> <li> Advises management in appropriate resolution of employee relations issues.</li> <li> Administers benefits programs such as life, health, dental, insurance, pension plans, vacation, sick leave, leave of absence, and employee assistance.</li> </ul> <br/> <p align=\"LEFT\"> <b> Marketing Associate</b> \\xa0</p> <ul> <li> Designed and created marketing collateral for sales meetings, trade shows and company executives.</li> <li> Managed the in-house advertising program consisting of print and media collateral pieces.</li> <li> Assisted in the complete design and launch of the company\\'s website in 2 months.</li> <li> Created an official company page on Facebook to facilitate interaction with customers.</li> <li> Analyzed ratings and programming features of competitors to evaluate the effectiveness of marketing strategies.</li> </ul> </span> </div> </div> <div class=\"paragraph\" id=\"PARAGRAPH_500375983_2_326506907\" itemscope=\"\" itemtype=\"https://schema.org/Organization\" style=\"\\n      padding-top:10px;\\n    \"> <div class=\"singlecolumn\"> <span class=\"paddedline\"> <span class=\"jobtitle\" id=\"500375983JTIT2\"> Advanced Medical Claims Analyst</span> <span> </span> <span class=\"datesWrapper\"> <span class=\"jobdates\" format=\"%b %Y\" id=\"500375983JSTD2\"> Mar 2012</span> <span>  to </span> <span class=\"jobdates\" format=\"%b %Y\" id=\"500375983EDDT2\"> Dec 2013</span> <br/> </span> </span> <span class=\"paddedline\" itemscope=\"\" itemtype=\"https://schema.org/postalAddress\"> <span class=\"companyname\" id=\"500375983COMP2\" itemprop=\"name\"> Company Name</span> <span>  － </span> <span class=\"joblocation jobcity\" id=\"500375983JCIT2\" itemprop=\"addressLocality\"> City</span> <span> , </span> <span class=\"joblocation jobstate\" id=\"500375983JSTA2\" itemprop=\"addressRegion\"> State</span> </span> <span class=\"jobline\" id=\"500375983JDES2\" itemprop=\"description\"> <ul> <li> Reviewed medical bills for the accuracy of the treatments, tests, and hospital stays prior to sanctioning the claims.</li> <li> Trained to interpret the codes (ICD-9, CPT) and terminology commonly used in medical billing to fully understand the paperwork that is submitted by healthcare providers.</li> <li> Required to have organizational and analytical skills as well as computer skills, knowledge of medical terminology and procedures, statistics, billing standards, data analysis and laws regarding medical billing.</li> </ul> </span> </div> </div> <div class=\"paragraph\" id=\"PARAGRAPH_500375983_3_326506908\" itemscope=\"\" itemtype=\"https://schema.org/Organization\" style=\"\\n      padding-top:15px;\\n    \"> <div class=\"singlecolumn\"> <span class=\"paddedline\"> <span class=\"jobtitle\" id=\"500375983JTIT3\"> Assistant General Manager</span> <span> </span> <span class=\"datesWrapper\"> <span class=\"jobdates\" format=\"%b %Y\" id=\"500375983JSTD3\"> Jun 2010</span> <span>  to </span> <span class=\"jobdates\" format=\"%b %Y\" id=\"500375983EDDT3\"> Dec 2010</span> <br/> </span> </span> <span class=\"paddedline\" itemscope=\"\" itemtype=\"https://schema.org/postalAddress\"> <span class=\"companyname\" id=\"500375983COMP3\" itemprop=\"name\"> Company Name</span> <span>  － </span> <span class=\"joblocation jobcity\" id=\"500375983JCIT3\" itemprop=\"addressLocality\"> City</span> <span> , </span> <span class=\"joblocation jobstate\" id=\"500375983JSTA3\" itemprop=\"addressRegion\"> State</span> </span> <span class=\"jobline\" id=\"500375983JDES3\" itemprop=\"description\"> <ul> <li> Performed duties including but not limited to, budgeting and financial management, accounting, human resources, payroll and purchasing.</li> <li> Established and maintained close working relationships with all departments of the hotel to ensure maximum operation, productivity, morale and guest service.</li> <li> Handled daily operations and reported directly to the corporate office.</li> <li> Hired and trained staff on overall objectives and goals with an emphasis on high customer service.</li> <li> Marketing and Advertising, working on public relations with the media, government and local businesses and Chamber of Commerce.</li> </ul> </span> </div> </div> <div class=\"paragraph\" id=\"PARAGRAPH_500375983_4_326506910\" itemscope=\"\" itemtype=\"https://schema.org/Organization\" style=\"\\n      padding-top:5px;\\n    \"> <div class=\"singlecolumn\"> <span class=\"paddedline\"> <span class=\"jobtitle\" id=\"500375983JTIT4\"> Executive Support / Marketing Assistant</span> <span> </span> <span class=\"datesWrapper\"> <span class=\"jobdates\" format=\"%b %Y\" id=\"500375983JSTD4\"> Jul 2007</span> <span>  to </span> <span class=\"jobdates\" format=\"%b %Y\" id=\"500375983EDDT4\"> Jun 2010</span> <br/> </span> </span> <span class=\"paddedline\" itemscope=\"\" itemtype=\"https://schema.org/postalAddress\"> <span class=\"companyname\" id=\"500375983COMP4\" itemprop=\"name\"> Company Name</span> <span>  － </span> <span class=\"joblocation jobcity\" id=\"500375983JCIT4\" itemprop=\"addressLocality\"> City</span> <span> , </span> <span class=\"joblocation jobstate\" id=\"500375983JSTA4\" itemprop=\"addressRegion\"> State</span> </span> <span class=\"jobline\" id=\"500375983JDES4\" itemprop=\"description\"> <ul> <li> Provided assistance to various department heads - Executive, Marketing, Customer Service, Human Resources.</li> <li> Managed front-end operations to ensure friendly and efficient transactions.</li> <li> Ensured the swift resolution of customer issues to preserve customer loyalty while complying with company policies.</li> <li> Exemplified the second-to-none customer service delivery in all interactions with customers and potential clients.</li> </ul> </span> </div> </div> <div class=\"paragraph\" id=\"PARAGRAPH_500375983_5_326506911\" itemscope=\"\" itemtype=\"https://schema.org/Organization\" style=\"\\n      padding-top:10px;\\n    \"> <div class=\"singlecolumn\"> <span class=\"paddedline\"> <span class=\"jobtitle\" id=\"500375983JTIT5\"> Reservation &amp; Front Office Manager</span> <span> </span> <span class=\"datesWrapper\"> <span class=\"jobdates\" format=\"%b %Y\" id=\"500375983JSTD5\"> Jun 2004</span> <span>  to </span> <span class=\"jobdates\" format=\"%b %Y\" id=\"500375983EDDT5\"> Jul 2007</span> <br/> </span> </span> <span class=\"paddedline\" itemscope=\"\" itemtype=\"https://schema.org/postalAddress\"> <span class=\"companyname\" id=\"500375983COMP5\" itemprop=\"name\"> Company Name</span> <span>  － </span> <span class=\"joblocation jobcity\" id=\"500375983JCIT5\" itemprop=\"addressLocality\"> City</span> <span> , </span> <span class=\"joblocation jobstate\" id=\"500375983JSTA5\" itemprop=\"addressRegion\"> State</span> </span> <span class=\"jobline\" id=\"500375983JDES5\" itemprop=\"description\"> </span> </div> </div> <div class=\"paragraph\" id=\"PARAGRAPH_500375983_6_326506912\" itemscope=\"\" itemtype=\"https://schema.org/Organization\" style=\"\\n      padding-top:10px;\\n    \"> <div class=\"singlecolumn\"> <span class=\"paddedline\"> <span class=\"jobtitle\" id=\"500375983JTIT6\"> Owner/ Partner</span> <span> </span> <span class=\"datesWrapper\"> <span class=\"jobdates\" format=\"%b %Y\" id=\"500375983JSTD6\"> Dec 2001</span> <span>  to </span> <span class=\"jobdates\" format=\"%b %Y\" id=\"500375983EDDT6\"> May 2004</span> <br/> </span> </span> <span class=\"paddedline\" itemscope=\"\" itemtype=\"https://schema.org/postalAddress\"> <span class=\"companyname\" id=\"500375983COMP6\" itemprop=\"name\"> Company Name</span> <span>  － </span> <span class=\"joblocation jobcity\" id=\"500375983JCIT6\" itemprop=\"addressLocality\"> City</span> <span> , </span> <span class=\"joblocation jobstate\" id=\"500375983JSTA6\" itemprop=\"addressRegion\"> State</span> </span> <span class=\"jobline\" id=\"500375983JDES6\" itemprop=\"description\"> </span> </div> </div> <div class=\"paragraph\" id=\"PARAGRAPH_500375983_7_326506913\" itemscope=\"\" itemtype=\"https://schema.org/Organization\" style=\"\\n      padding-top:10px;\\n    \"> <div class=\"singlecolumn\"> <span class=\"paddedline\"> <span class=\"jobtitle\" id=\"500375983JTIT7\"> Price Integrity Coordinator</span> <span> </span> <span class=\"datesWrapper\"> <span class=\"jobdates\" format=\"%b %Y\" id=\"500375983JSTD7\"> Aug 1999</span> <span>  to </span> <span class=\"jobdates\" format=\"%b %Y\" id=\"500375983EDDT7\"> Dec 2001</span> <br/> </span> </span> <span class=\"paddedline\" itemscope=\"\" itemtype=\"https://schema.org/postalAddress\"> <span class=\"companyname\" id=\"500375983COMP7\" itemprop=\"name\"> Company Name</span> <span>  － </span> <span class=\"joblocation jobcity\" id=\"500375983JCIT7\" itemprop=\"addressLocality\"> City</span> <span> , </span> <span class=\"joblocation jobstate\" id=\"500375983JSTA7\" itemprop=\"addressRegion\"> State</span> </span> <span class=\"jobline\" id=\"500375983JDES7\" itemprop=\"description\"> </span> </div> </div> </div> <div class=\"section\" id=\"SECTION_EDUC500400498\" style=\"\\n      padding-top:0px;\\n    \"> <div class=\"heading bottomborder\"> <div class=\"sectiontitle\" id=\"SECTNAME_EDUC500400498\"> Education</div> </div> <div class=\"paragraph firstparagraph\" id=\"PARAGRAPH_500400498_1_326523310\" itemscope=\"\" itemtype=\"https://schema.org/EducationalOrganization\" style=\"\\n      padding-top:0px;\\n    \"> <div class=\"singlecolumn\"> <span class=\"paddedline\" itemprop=\"description\"> <span class=\"degree\" id=\"500400498DGRE1\" itemprop=\"name\"> N/A</span> <span> , </span> <span class=\"programline\" id=\"500400498STUY1\"> Business Administration</span> <span class=\"datesWrapper\"> <span class=\"jobdates\" id=\"500400498GRYR1\"> 1999</span> </span> </span> <span class=\"paddedline\"> <span class=\"companyname companyname_educ\" id=\"500400498SCHO1\" itemprop=\"name\"> Jefferson College</span> <span>  － </span> <span class=\"joblocation jobcity\" id=\"500400498SCIT1\"> City</span> <span> , </span> <span class=\"joblocation jobstate\" id=\"500400498SSTA1\"> State</span> <span class=\"joblocation jobstate\" id=\"500400498SCNT1\"> </span> </span> <span class=\"field\" id=\"500400498FRFM1\"> <ul> <li> Business Administration</li> <li> Marketing / Advertising</li> </ul> </span> </div> </div> <div class=\"paragraph\" id=\"PARAGRAPH_500400498_2_326522471\" itemscope=\"\" itemtype=\"https://schema.org/EducationalOrganization\" style=\"\\n      padding-top:0px;\\n    \"> <div class=\"singlecolumn\"> <span class=\"paddedline\" itemprop=\"description\"> <span class=\"degree\" id=\"500400498DGRE2\" itemprop=\"name\"> High School Diploma</span> <span> , </span> <span class=\"programline\" id=\"500400498STUY2\"> College Prep. studies</span> <span class=\"datesWrapper\"> <span class=\"jobdates\" id=\"500400498GRYR2\"> 1998</span> </span> </span> <span class=\"paddedline\"> <span class=\"companyname companyname_educ\" id=\"500400498SCHO2\" itemprop=\"name\"> Sainte Genevieve Senior High</span> <span>  － </span> <span class=\"joblocation jobcity\" id=\"500400498SCIT2\"> City</span> <span> , </span> <span class=\"joblocation jobstate\" id=\"500400498SSTA2\"> State</span> <span class=\"joblocation jobstate\" id=\"500400498SCNT2\"> </span> </span> <span class=\"field\" id=\"500400498FRFM2\"> <ul> <li> Awarded American Shrubel Leadership Scholarship to Jefferson College</li> </ul> </span> </div> </div> </div> <div class=\"section\" id=\"SECTION_SKLL500375994\" style=\"\\n      padding-top:0px;\\n    \"> <div class=\"heading bottomborder\"> <div class=\"sectiontitle\" id=\"SECTNAME_SKLL500375994\"> Skills</div> </div> <div class=\"paragraph firstparagraph\" id=\"PARAGRAPH_500375994_1_326506918\" style=\"\\n      padding-top:0px;\\n    \"> <div class=\"field singlecolumn\" id=\"500375994FRFM1\"> <p align=\"LEFT\"> Accounting, ads, advertising, analytical skills, benefits, billing, budgeting, clients, Customer Service, data analysis, delivery, documentation, employee relations, financial management, government relations, Human Resources, insurance, labor relations, layout, Marketing, marketing collateral, medical billing, medical terminology, office, organizational, payroll, performance reviews, personnel, policies, posters, presentations, public relations, purchasing, reporting, statistics, website.</p> </div> </div> </div> </div>'\n",
      " '         HR SPECIALIST, US HR OPERATIONS       Summary     Versatile  media professional with background in Communications, Marketing, Human Resources and Technology.\\xa0        Experience     09/2015   to   Current     HR Specialist, US HR Operations    Company Name   －   City  ,   State       Managed communication regarding launch of Operations group, policy changes and system outages      Designed standard work and job aids to create comprehensive training program for new employees and contractors         Audited job postings for old, pending, on-hold and draft positions.           Audited union hourly, non-union hourly and salary background checks and drug screens             Conducted monthly new hire benefits briefing to new employees across all business units               Served as a link between HR Managers and vendors by handling questions and resolving system-related issues         Provide real-time process improvement feedback on key metrics and initiatives  Successfully re-branded US HR Operations SharePoint site  Business Unit project manager for RFI/RFP on Background Check and Drug Screen vendor         01/2014   to   05/2015     IT, Marketing and Communications Co-op    Company Name   －   City  ,   State      Posted new articles, changes and updates to corporate SharePoint site including graphics and visual communications.  Researched and drafted articles and feature stories to promote company activities and programs.  Co-edited and developed content for quarterly published newsletter.  Provided communication support for internal and external events.  Collaborated with Communication team, media professionals and vendors to determine program needs for print materials, web design and digital communications.  Entrusted to lead product, service and software launches for Digital Asset Management tool, Marketing Toolkit website and Executive Tradeshows Calendar.  Created presentations for management and executive approval to ensure alignment with corporate guidelines and branding.  Maintained the MySikorsky SharePoint site and provided timely solutions to mitigate issues.\\xa0\\xa0\\xa0\\xa0  Created story board and produced video for annual IT All Hands meeting.         10/2012   to   01/2014     Relationship Coordinator/Marketing Specialist    Company Name   －   City  ,   State       Partnered with vendor to manage the in-house advertising program consisting of print and media collateral pieces.     Coordinated pre-show and post-show activities at trade shows.     Managed marketing campaigns to generate new business and to support partner and sales teams.     Ordered marketing collateral for meetings, trade shows and advisors.    Improved, administered and modified marketing programs to increase product awareness.  Assisted in preparing internal promotional publications, managed marketing material inventory and supervised distribution of publications to ensure high quality product output.  Coordinated marketing materials including brochures, promotional materials and products.  Partnered with graphic designers to develop appropriate materials and branding for brochures.  Used tracking and reporting systems for sales leads and appointments.         09/2009   to   10/2012     Assistant Head Teller    Company Name   －   City  ,   State       Received an internal audit score of  100 %.     Performed daily and monthly audits of ATM machines and tellers.     Educated customers on a variety of retail products and available credit options.       Consistently met or exceeded quarterly sales goals     Promoted products and services to\\ncustomers while maintaining company brand identity\\n\\n·\\xa0\\xa0\\xa0\\xa0\\n  Implemented programs to achieve\\nand exceed customer and company participation goals\\xa0\\n\\n\\xa0  Organized company sponsored events on campus resulting in increased\\nbrand awareness\\n\\n·\\xa0\\xa0\\xa0\\xa0\\n  Coached peers on\\nthe proper use of programs to improve work flow efficiency  Utilized product knowledge to successfully sell\\nto and refer clients based on individual needs  Promoted marketing the grand opening\\nof new branch locations to strengthen company brand affinity\\n\\n·\\xa0\\xa0\\xa0\\xa0   Organized company sponsored events\\nresulting in increased brand awareness and improved sales\\n\\n·\\xa0\\xa0\\xa0\\xa0   Coached peers on the proper use of\\nprograms to increase work flow efficiency\\n\\n          Senior Producer - 2014 SHU Media Exchange    Company Name   －   City  ,   State      Planned and executed event\\xa0focusing on Connecticut\\'s creative corridor, growth of industry and opportunities that come with development. A\\xa0 panel of industry professionals addressed topics related to media and hosted a question and answer session for approximately 110 attendees. Following the forum, guests were invited to engage in networking and conversation at a post-event reception.         Education     2014     Master of Arts  :   Corporate Communication & Public Relations    Sacred Heart University   －   City  ,   State             2013     Bachelor of Arts  :   Relational Communication    Western Connecticut State University   －   City  ,   State              Skills    Adobe Photoshop, ADP, Asset Management, branding, brochures, content, Customer Care, Final Cut Pro, graphics, graphic, HR, Illustrator, InDesign, Innovation, inventory, Lotus Notes, marketing, marketing materials, marketing material, materials, Microsoft Office, SharePoint, newsletter, presentations, process improvement, Project Management, promotional materials, publications, Quality, real-time, Recruitment, reporting, RFP, sales, stories, Employee Development, video, web design, website, articles    <div class=\"fontsize fontface vmargins hmargins linespacing pagesize\" id=\"document\"> <div class=\"section firstsection\" id=\"SECTION_NAME911808366\" style=\"padding-top:0px;\"> <div class=\"paragraph PARAGRAPH_NAME firstparagraph\" id=\"PARAGRAPH_911808366_1_598530989\" style=\"padding-top:0px;\"> <div class=\"name thinbottomborder\" itemprop=\"name\"> <span class=\"field fName\" id=\"911808366FNAM1\"> </span> <span> </span> <span class=\"field\" id=\"911808366LNAM1\"> HR SPECIALIST, US HR OPERATIONS</span> </div> </div> </div> <div class=\"section\" id=\"SECTION_SUMM911808372\" style=\"padding-top:0px;\"> <div class=\"heading\"> <div class=\"sectiontitle\" id=\"SECTNAME_SUMM911808372\"> Summary</div> </div> <div class=\"paragraph firstparagraph\" id=\"PARAGRAPH_911808372_1_598532134\" style=\"padding-top:0px;\"> <div class=\"field singlecolumn noPind\" id=\"911808372FRFM1\"> <span class=\"\"> Versatile <font color=\"#000\" style=\"color: rgb(0, 0, 0);\"> media professional with background in Communications, Marketing, Human Resources and Technology.\\xa0</font> </span> </div> </div> </div> <div class=\"section\" id=\"SECTION_EXPR911808368\" style=\"padding-top:0px;\"> <div class=\"heading\"> <div class=\"sectiontitle\" id=\"SECTNAME_EXPR911808368\"> Experience</div> </div> <div class=\"paragraph firstparagraph\" id=\"PARAGRAPH_911808368_1_598530991\" itemscope=\"\" itemtype=\"https://schema.org/Organization\" style=\"padding-top:0px;\"> <span class=\"dates_wrapper\"> <span class=\"jobdates\" format=\"%m/%Y\" id=\"911808368JSTD1\"> 09/2015</span> <span>  to </span> <span class=\"jobdates\" format=\"%m/%Y\" id=\"911808368EDDT1\"> Current</span> </span> <div class=\"singlecolumn\"> <span class=\"paddedline\"> <span class=\"jobtitle\" id=\"911808368JTIT1\"> HR Specialist, US HR Operations</span> </span> <span class=\"paddedline\" itemscope=\"\" itemtype=\"https://schema.org/postalAddress\"> <span class=\"companyname\" id=\"911808368COMP1\" itemprop=\"name\"> Company Name</span> <span>  － </span> <span class=\"joblocation jobcity\" id=\"911808368JCIT1\" itemprop=\"addressLocality\"> City</span> <span> , </span> <span class=\"joblocation jobstate\" id=\"911808368JSTA1\" itemprop=\"addressRegion\"> State</span> </span> <span class=\"paddedline\"> <span class=\"jobline\" id=\"911808368JDES1\" itemprop=\"description\"> <ul> <li> <span class=\"\"> Managed communication regarding launch of Operations group, policy changes and system outages</span> </li> <li> <span class=\"\"> <span class=\"\"> <span class=\"\"> Designed standard work and job aids to create comprehensive training program for new employees and contractors</span> </span> </span> </li> <li> <span class=\"\"> <span class=\"\"> <span class=\"\"> <span class=\"\"> Audited job postings for old, pending, on-hold and draft positions.</span> </span> </span> </span> </li> <li> <span class=\"\"> <span class=\"\"> <span class=\"\"> <span class=\"\"> <span class=\"\"> Audited union hourly, non-union hourly and salary background checks and drug screens</span> </span> </span> </span> </span> </li> <li> <span class=\"\"> <span class=\"\"> <span class=\"\"> <span class=\"\"> <span class=\"\"> <span class=\"\"> Conducted monthly new hire benefits briefing to new employees across all business units</span> </span> </span> </span> </span> </span> </li> <li> <span class=\"\"> <span class=\"\"> <span class=\"\"> <span class=\"\"> <span class=\"\"> <span class=\"\"> <span class=\"\"> Served as a link between HR Managers and vendors by handling questions and resolving system-related issues</span> </span> </span> </span> </span> </span> </span> </li> <li> Provide real-time process improvement feedback on key metrics and initiatives</li> <li> Successfully re-branded US HR Operations SharePoint site</li> <li> Business Unit project manager for RFI/RFP on Background Check and Drug Screen vendor</li> </ul> </span> </span> </div> </div> <div class=\"paragraph\" id=\"PARAGRAPH_911808368_2_598530992\" itemscope=\"\" itemtype=\"https://schema.org/Organization\" style=\"padding-top:0px;\"> <span class=\"dates_wrapper\"> <span class=\"jobdates\" format=\"%m/%Y\" id=\"911808368JSTD2\"> 01/2014</span> <span>  to </span> <span class=\"jobdates\" format=\"%m/%Y\" id=\"911808368EDDT2\"> 05/2015</span> </span> <div class=\"singlecolumn\"> <span class=\"paddedline\"> <span class=\"jobtitle\" id=\"911808368JTIT2\"> IT, Marketing and Communications Co-op</span> </span> <span class=\"paddedline\" itemscope=\"\" itemtype=\"https://schema.org/postalAddress\"> <span class=\"companyname\" id=\"911808368COMP2\" itemprop=\"name\"> Company Name</span> <span>  － </span> <span class=\"joblocation jobcity\" id=\"911808368JCIT2\" itemprop=\"addressLocality\"> City</span> <span> , </span> <span class=\"joblocation jobstate\" id=\"911808368JSTA2\" itemprop=\"addressRegion\"> State</span> </span> <span class=\"paddedline\"> <span class=\"jobline\" id=\"911808368JDES2\" itemprop=\"description\"> <ul> <li> Posted new articles, changes and updates to corporate SharePoint site including graphics and visual communications.</li> <li> Researched and drafted articles and feature stories to promote company activities and programs.</li> <li> Co-edited and developed content for quarterly published newsletter.</li> <li> Provided communication support for internal and external events.</li> <li> Collaborated with Communication team, media professionals and vendors to determine program needs for print materials, web design and digital communications.</li> <li> Entrusted to lead product, service and software launches for Digital Asset Management tool, Marketing Toolkit website and Executive Tradeshows Calendar.</li> <li> Created presentations for management and executive approval to ensure alignment with corporate guidelines and branding.</li> <li> Maintained the MySikorsky SharePoint site and provided timely solutions to mitigate issues.\\xa0\\xa0\\xa0\\xa0</li> <li> Created story board and produced video for annual IT All Hands meeting.</li> </ul> </span> </span> </div> </div> <div class=\"paragraph\" id=\"PARAGRAPH_911808368_3_598530994\" itemscope=\"\" itemtype=\"https://schema.org/Organization\" style=\"padding-top:0px;\"> <span class=\"dates_wrapper\"> <span class=\"jobdates\" format=\"%m/%Y\" id=\"911808368JSTD3\"> 10/2012</span> <span>  to </span> <span class=\"jobdates\" format=\"%m/%Y\" id=\"911808368EDDT3\"> 01/2014</span> </span> <div class=\"singlecolumn\"> <span class=\"paddedline\"> <span class=\"jobtitle\" id=\"911808368JTIT3\"> Relationship Coordinator/Marketing Specialist</span> </span> <span class=\"paddedline\" itemscope=\"\" itemtype=\"https://schema.org/postalAddress\"> <span class=\"companyname\" id=\"911808368COMP3\" itemprop=\"name\"> Company Name</span> <span>  － </span> <span class=\"joblocation jobcity\" id=\"911808368JCIT3\" itemprop=\"addressLocality\"> City</span> <span> , </span> <span class=\"joblocation jobstate\" id=\"911808368JSTA3\" itemprop=\"addressRegion\"> State</span> </span> <span class=\"paddedline\"> <span class=\"jobline\" id=\"911808368JDES3\" itemprop=\"description\"> <ul> <li> <span class=\"\"> Partnered with vendor to manage the in-house advertising program consisting of print and media collateral pieces. </span> </li> <li> <span class=\"\"> Coordinated pre-show and post-show activities at trade shows. </span> </li> <li> <span class=\"\"> Managed marketing campaigns to generate new business and to support partner and sales teams.</span> </li> <li> <span class=\"\"> <span class=\"\"> Ordered marketing collateral for meetings, trade shows and advisors.</span> </span> </li> <li> Improved, administered and modified marketing programs to increase product awareness.</li> <li> Assisted in preparing internal promotional publications, managed marketing material inventory and supervised distribution of publications to ensure high quality product output.</li> <li> Coordinated marketing materials including brochures, promotional materials and products.</li> <li> Partnered with graphic designers to develop appropriate materials and branding for brochures.</li> <li> Used tracking and reporting systems for sales leads and appointments.</li> </ul> </span> </span> </div> </div> <div class=\"paragraph\" id=\"PARAGRAPH_911808368_4_598533900\" itemscope=\"\" itemtype=\"https://schema.org/Organization\" style=\"padding-top:0px;\"> <span class=\"dates_wrapper\"> <span class=\"jobdates\" format=\"%m/%Y\" id=\"911808368JSTD4\"> 09/2009</span> <span>  to </span> <span class=\"jobdates\" format=\"%m/%Y\" id=\"911808368EDDT4\"> 10/2012</span> </span> <div class=\"singlecolumn\"> <span class=\"paddedline\"> <span class=\"jobtitle\" id=\"911808368JTIT4\"> Assistant Head Teller</span> </span> <span class=\"paddedline\" itemscope=\"\" itemtype=\"https://schema.org/postalAddress\"> <span class=\"companyname\" id=\"911808368COMP4\" itemprop=\"name\"> Company Name</span> <span>  － </span> <span class=\"joblocation jobcity\" id=\"911808368JCIT4\" itemprop=\"addressLocality\"> City</span> <span> , </span> <span class=\"joblocation jobstate\" id=\"911808368JSTA4\" itemprop=\"addressRegion\"> State</span> </span> <span class=\"paddedline\"> <span class=\"jobline\" id=\"911808368JDES4\" itemprop=\"description\"> <ul> <li> <span class=\"\"> Received an internal audit score of <font color=\"#000\" style=\"color: rgb(0, 0, 0);\"> 100</font> %. </span> </li> <li> <span class=\"\"> Performed daily and monthly audits of ATM machines and tellers.</span> </li> <li> <span class=\"\"> <span class=\"\"> Educated customers on a variety of retail products and available credit options.</span> </span> </li> <li> <span class=\"\"> <span class=\"\"> <span class=\"\"> Consistently met or exceeded quarterly sales goals</span> </span> </span> </li> <li> Promoted products and services to\\ncustomers while maintaining company brand identity\\n\\n·\\xa0\\xa0\\xa0\\xa0\\n</li> <li> Implemented programs to achieve\\nand exceed customer and company participation goals\\xa0\\n\\n\\xa0</li> <li> Organized company sponsored events on campus resulting in increased\\nbrand awareness\\n\\n·\\xa0\\xa0\\xa0\\xa0\\n</li> <li> Coached peers on\\nthe proper use of programs to improve work flow efficiency</li> <li> Utilized product knowledge to successfully sell\\nto and refer clients based on individual needs</li> <li> Promoted marketing the grand opening\\nof new branch locations to strengthen company brand affinity\\n\\n·\\xa0\\xa0\\xa0\\xa0 </li> <li> Organized company sponsored events\\nresulting in increased brand awareness and improved sales\\n\\n·\\xa0\\xa0\\xa0\\xa0 </li> <li> Coached peers on the proper use of\\nprograms to increase work flow efficiency\\n\\n</li> </ul> </span> </span> </div> </div> <div class=\"paragraph\" id=\"PARAGRAPH_911808368_5_598599144\" itemscope=\"\" itemtype=\"https://schema.org/Organization\" style=\"padding-top:0px;\"> <div class=\"singlecolumn\"> <span class=\"paddedline\"> <span class=\"jobtitle\" id=\"911808368JTIT5\"> Senior Producer - 2014 SHU Media Exchange</span> </span> <span class=\"paddedline\" itemscope=\"\" itemtype=\"https://schema.org/postalAddress\"> <span class=\"companyname\" id=\"911808368COMP5\" itemprop=\"name\"> Company Name</span> <span>  － </span> <span class=\"joblocation jobcity\" id=\"911808368JCIT5\" itemprop=\"addressLocality\"> City</span> <span> , </span> <span class=\"joblocation jobstate\" id=\"911808368JSTA5\" itemprop=\"addressRegion\"> State</span> </span> <span class=\"paddedline\"> <span class=\"jobline\" id=\"911808368JDES5\" itemprop=\"description\"> <div> <span class=\"\"> Planned and executed event\\xa0focusing on Connecticut\\'s creative corridor, growth of industry and opportunities that come with development. A\\xa0</span> panel of industry professionals addressed topics related to media and hosted a question and answer session for approximately 110 attendees. Following the forum, guests were invited to engage in networking and conversation at a post-event reception.</div> </span> </span> </div> </div> </div> <div class=\"section\" id=\"SECTION_EDUC911808369\" style=\"padding-top:0px;\"> <div class=\"heading\"> <div class=\"sectiontitle\" id=\"SECTNAME_EDUC911808369\"> Education</div> </div> <div class=\"paragraph firstparagraph\" id=\"PARAGRAPH_911808369_1_598530995\" itemscope=\"\" itemtype=\"https://schema.org/EducationalOrganization\" style=\"padding-top:0px;\"> <span class=\"dates_wrapper\"> <span class=\"jobdates\" id=\"911808369GRYR1\"> 2014</span> </span> <div class=\"singlecolumn\"> <span class=\"paddedline\" itemprop=\"description\"> <span class=\"degree\" id=\"911808369DGRE1\" itemprop=\"name\"> Master of Arts</span> <span> : </span> <span class=\"programline\" id=\"911808369STUY1\"> Corporate Communication &amp; Public Relations</span> </span> <span class=\"paddedline\"> <span class=\"companyname companyname_educ\" dependency=\"SCHO\" id=\"911808369SCHO1\" itemprop=\"name\"> Sacred Heart University</span> <span class=\"statesWrapper\">  － </span> <span class=\"joblocation jobcity\" id=\"911808369SCIT1\"> City</span> <span> , </span> <span class=\"joblocation jobstate\" id=\"911808369SSTA1\"> State</span> <span class=\"joblocation jobstate\" id=\"911808369SCNT1\"> </span> </span> <span class=\"paddedline\"> <span class=\"field\" id=\"911808369FRFM1\"> </span> </span> </div> </div> <div class=\"paragraph\" id=\"PARAGRAPH_911808369_2_598530996\" itemscope=\"\" itemtype=\"https://schema.org/EducationalOrganization\" style=\"padding-top:0px;\"> <span class=\"dates_wrapper\"> <span class=\"jobdates\" id=\"911808369GRYR2\"> 2013</span> </span> <div class=\"singlecolumn\"> <span class=\"paddedline\" itemprop=\"description\"> <span class=\"degree\" id=\"911808369DGRE2\" itemprop=\"name\"> Bachelor of Arts</span> <span> : </span> <span class=\"programline\" id=\"911808369STUY2\"> Relational Communication</span> </span> <span class=\"paddedline\"> <span class=\"companyname companyname_educ\" dependency=\"SCHO\" id=\"911808369SCHO2\" itemprop=\"name\"> Western Connecticut State University</span> <span class=\"statesWrapper\">  － </span> <span class=\"joblocation jobcity\" id=\"911808369SCIT2\"> City</span> <span> , </span> <span class=\"joblocation jobstate\" id=\"911808369SSTA2\"> State</span> <span class=\"joblocation jobstate\" id=\"911808369SCNT2\"> </span> </span> <span class=\"paddedline\"> <span class=\"field\" id=\"911808369FRFM2\"> </span> </span> </div> </div> </div> <div class=\"section\" id=\"SECTION_SKLL911808371\" style=\"padding-top:0px;\"> <div class=\"heading\"> <div class=\"sectiontitle\" id=\"SECTNAME_SKLL911808371\"> Skills</div> </div> <div class=\"paragraph firstparagraph\" id=\"PARAGRAPH_911808371_1_598531001\" style=\"padding-top:0px;\"> <div class=\"field singlecolumn\" id=\"911808371FRFM1\"> Adobe Photoshop, ADP, Asset Management, branding, brochures, content, Customer Care, Final Cut Pro, graphics, graphic, HR, Illustrator, InDesign, Innovation, inventory, Lotus Notes, marketing, marketing materials, marketing material, materials, Microsoft Office, SharePoint, newsletter, presentations, process improvement, Project Management, promotional materials, publications, Quality, real-time, Recruitment, reporting, RFP, sales, stories, Employee Development, video, web design, website, articles</div> </div> </div> </div>'\n",
      " '         HR DIRECTOR       Summary      Over 20 years experience in recruiting,   15 plus years in Human Resources Executive Management,   5 years of HRIS development and maintenance  4 years working in a Healthcare Enviroment        Skills          Recruiting  FMLA/EEO/FLSA\\xa0  HRIS Development      Benefit Administration  Policy Development  Web Page Development\\xa0            Accomplishments      Kansas Health Institute -Health Outcomes for the State of Kansas -1999 \\nMemberships and Accolades: Project Management Institute Member, SHRM, Chamber of Commerce, 1999 Friends University President\\'s Honor Roll, 1997 Friends University Dean\\'s Honor Roll, Student Liaison for Friends University Topeka (member of Mother-To-Mother, member of the Topeka \\nAdvertising Federation, several production pieces created nominated for ADDY Awards, received recognition for outstanding customer service assistance by the State of Kansas Travel and Tourism Department., ASHHRA, KAHHR, ACM.  Additional Information: \\nLeading Change -I have been instrumental in development and implementation of the Adjutant General\\'s Retention Research project, involving survey development and analyzing the results of the surveys to present to the Adjutant General to help retain the qualified talent of the Departments.  I have been tasked with working with the Federal Security Manager for the Joint Forces Headquarters in developing policies, procedures and processes to ensure that all current and new State Employees have the appropriate security clearances for the position held per the Federal Government Requirements.  While at LMIS, I lead the Job Vacancy Project and was able to produce results in less time and man hours than in years before with staff that were inexperienced in the JVC process and procedures.  I have been responsible to develop, plan and implement database programs, for the last three positions I have held.  These were designed to cultivate, involve, renew contact, and promote active and potential employees.  These databases were used for reporting FTE usage, budget management and turnover reports.  While working in the healthcare field, I took the initiative in creating a local website that was used to receive and respond to requests for information and assistance in marketing and promoting the healthcare facility along with recruitment of potential employees.  As Human Resource Coordinator in the healthcare field, I managed the front office personnel, reduced contract labor costs for nursing staff and implemented a unique pay structure to increase PRN staff utilization.  I continually think \"Outside-the-box\" to create and develop strategies to resolve issues faced in my work environment.  In my current position, I have met and exceeded all hiring goals for the firm.  This resulted in our client increasing the business transferred to our location.        Experience      HR Director   09/2016   to   Current     Company Name   City  ,   State       Developed New Website for Agency, payroll processing changes, and implementation of\\nnew HRIS System.   Oversaw the employment process taking the lead role in clinician, physician and management\\nteam recruitment initiatives.\\n\\n  Developed, maintain\\nand interpret HR policy. Authored the Employee Handbook.\\n\\nProvided coaching\\nand support to management and supervisors on performance management and other\\nrelated issues. \\n\\n  Maintained in-depth\\nknowledge of legal requirements related to day-to-day management of employees,\\nreducing legal risks and ensuring regulatory compliance.   Evaluated and\\nrecommend changes to the employee benefits plan. Oversaw day to day\\nadministration of benefits.\\xa0           HR Director   04/2009   to   09/2016     Company Name   City  ,   State       Develped Supervisory Education, SHRO Website, SHRO HRIS System and Automation of payroll processing.  Established and directed a comprehensive statewide human resource program for both classified and unclassified State employees/positions in the Adjutant General\\'s Department.  Resolved non-routine HR related issues associated as they arose; reviewed documents and approved all hires and promotions; reviews and approved, modified and/or disapproved wage/salary requests to hire individuals above the pre-established minimum classified or unclassified pay rate,  \\xa0Reviewed any significant changes to position descriptions and determined if reclassification should be pursued; reviewed position descriptions for new positions and determined the appropriate wage range based on comparable classified position (if they exist),   Consulted with the TAG and both military and state manager/ supervisors in order to provide technical and common sense guidance on properly addressing sensitive or complex employee and organizational issues; aided them in achieving their ever changing program goals and provided innovative ideas for staffing;             Served as the administration\\'s management representative in labor negotiations with the local KAPE unit at the 190th Fire Department.          HR Manager/Sr. Recruiter   10/2003   to   06/2006     Company Name   City  ,   State       Created an HRIS tracking system used for recruitment.  Responsible for Ramp up and hiring of all customer service agents, and other positions as needed.  Placement and development of all advertising \\nMet and exceeded all hiring goals. Responsible for Hiring Senior Management to cover such duties as: Team Managers, Payroll, Quality Control.  Responsible for recruitment of 950 new employees, meeting and exceeded goals set.  Coordinated and facilitated manpower planning, recruitment and retention, career development and training, staff relations, compensation and benefits, compliance with local, state and federal statutory regulations, public programs, and regulatory audit procedures.  Served as a resource person to administration, mid-level management and staff regarding HR related.          Human Resources Coordinator   03/1996   to   02/2000     Company Name   City  ,   State       Developed HRIS database from ground up for employee records and monitoring.  Instrumental in reducing the use of Agency Staffing needs for hospital.  Coordinated and facilitates manpower planning, recruitment and retention, career development and training, staff relations, compensation and benefits, compliance with local, state and federal statutory regulations, public programs, and regulatory audit procedures.  Served as the HR resource source for administration, mid-level management and staff.  Coordinated hiring procedures, appraisals, pay increases, promotions, transfers, terminations, job postings, and all corrective actions;  One Person Office, responsible for all OSHA, Work Comp, Benefits, payroll, etc.          Education and Training      Master\\'s Degree  :   Information Management Systems   05/2005       Friends University   City  ,   State  ,   United States     3.5 Credits Earned: 62 Semester hours Information Management Systems        Bachelor of Science  :   Organizational Management   05/2000       Friends University   City  ,   State  ,   United States      4.0 Credits Earned: 62 Semester hours             Activities and Honors    Topeka Chamber of Commerce -Ambassador \\nKansas Hospital Association -Health Care Human Resources Member \\nSHRM -Legislative Liaison      Skills      Desktop Publishing,\\xa0  Newsletter productions,   DATABASE Management,   Leadership \\n\\nTraining,  OSHA, FMLA, \\n\\nWorkers Compensation.   PageMaker,   Agency Automation, back-up,   Benefits,  Budget management,  Corel Suite,   Harvard Graphics,  Access, Excel, Microsoft Publisher, MS Word,\\xa0   Quark Express, Quattro Pro,   Strategic Planning,\\xa0   Web page development,   WordPerfect      <div class=\"fontsize fontface vmargins hmargins linespacing pagesize\" id=\"document\"> <div class=\"section firstsection\" id=\"SECTION_NAME1008511259\" style=\"padding-top:0px;\"> <div class=\"paragraph PARAGRAPH_NAME firstparagraph\" id=\"PARAGRAPH_1008511259_1_669264982\" style=\"padding-top:0px;\"> <div class=\"name\" itemprop=\"name\"> <span class=\"field\" id=\"1008511259FNAM1\"> </span> <span> </span> <span class=\"field lName\" id=\"1008511259LNAM1\"> HR DIRECTOR</span> </div> </div> </div> <div class=\"section\" id=\"SECTION_SUMM1008511268\" style=\"padding-top:0px;\"> <div class=\"heading\"> <div class=\"sectiontitle\" id=\"SECTNAME_SUMM1008511268\"> Summary</div> </div> <div class=\"paragraph firstparagraph\" id=\"PARAGRAPH_1008511268_1_669265697\" style=\"padding-top:0px;\"> <div class=\"field singlecolumn\" id=\"1008511268FRFM1\"> <ul> <li> Over 20 years experience in recruiting, </li> <li> 15 plus years in Human Resources Executive Management, </li> <li> 5 years of HRIS development and maintenance</li> <li> 4 years working in a Healthcare Enviroment</li> </ul> </div> </div> </div> <div class=\"section\" id=\"SECTION_HILT1008511269\" style=\"padding-top:0px;\"> <div class=\"heading\"> <div class=\"sectiontitle\" id=\"SECTNAME_HILT1008511269\"> Skills</div> </div> <div class=\"paragraph firstparagraph\" id=\"PARAGRAPH_1008511269_1_669266591\" style=\"padding-top:0px;\"> <div class=\"singlecolumn maincolumn\"> <table class=\"twocol\"> <tbody> <tr> <td class=\"field twocol_1\" id=\"1008511269SKC11\"> <ul> <li> Recruiting</li> <li> FMLA/EEO/FLSA\\xa0</li> <li> HRIS Development</li> </ul> </td> <td class=\"field twocol_2\" id=\"1008511269SKC21\"> <ul> <li> Benefit Administration</li> <li> Policy Development</li> <li> Web Page Development\\xa0</li> </ul> </td> </tr> </tbody> </table> </div> </div> </div> <div class=\"section\" id=\"SECTION_ACCM1008511264\" style=\"padding-top:0px;\"> <div class=\"heading\"> <div class=\"sectiontitle\" id=\"SECTNAME_ACCM1008511264\"> Accomplishments</div> </div> <div class=\"paragraph firstparagraph\" id=\"PARAGRAPH_1008511264_1_669264997\" style=\"padding-top:0px;\"> <div class=\"field singlecolumn\" id=\"1008511264FRFM1\"> <ul> <li> Kansas Health Institute -Health Outcomes for the State of Kansas -1999 \\nMemberships and Accolades: Project Management Institute Member, SHRM, Chamber of Commerce, 1999 Friends University President\\'s Honor Roll, 1997 Friends University Dean\\'s Honor Roll, Student Liaison for Friends University Topeka (member of Mother-To-Mother, member of the Topeka \\nAdvertising Federation, several production pieces created nominated for ADDY Awards, received recognition for outstanding customer service assistance by the State of Kansas Travel and Tourism Department., ASHHRA, KAHHR, ACM.</li> <li> Additional Information: \\nLeading Change -I have been instrumental in development and implementation of the Adjutant General\\'s Retention Research project, involving survey development and analyzing the results of the surveys to present to the Adjutant General to help retain the qualified talent of the Departments.</li> <li> I have been tasked with working with the Federal Security Manager for the Joint Forces Headquarters in developing policies, procedures and processes to ensure that all current and new State Employees have the appropriate security clearances for the position held per the Federal Government Requirements.</li> <li> While at LMIS, I lead the Job Vacancy Project and was able to produce results in less time and man hours than in years before with staff that were inexperienced in the JVC process and procedures.</li> <li> I have been responsible to develop, plan and implement database programs, for the last three positions I have held.</li> <li> These were designed to cultivate, involve, renew contact, and promote active and potential employees.</li> <li> These databases were used for reporting FTE usage, budget management and turnover reports.</li> <li> While working in the healthcare field, I took the initiative in creating a local website that was used to receive and respond to requests for information and assistance in marketing and promoting the healthcare facility along with recruitment of potential employees.</li> <li> As Human Resource Coordinator in the healthcare field, I managed the front office personnel, reduced contract labor costs for nursing staff and implemented a unique pay structure to increase PRN staff utilization.</li> <li> I continually think \"Outside-the-box\" to create and develop strategies to resolve issues faced in my work environment.</li> <li> In my current position, I have met and exceeded all hiring goals for the firm.</li> <li> This resulted in our client increasing the business transferred to our location.</li> </ul> </div> </div> </div> <div class=\"section\" id=\"SECTION_EXPR1008511263\" style=\"padding-top:0px;\"> <div class=\"heading\"> <div class=\"sectiontitle\" id=\"SECTNAME_EXPR1008511263\"> Experience</div> </div> <div class=\"paragraph firstparagraph\" id=\"PARAGRAPH_1008511263_1_669264984\" itemscope=\"\" itemtype=\"https://schema.org/Organization\" style=\"padding-top:0px;\"> <div class=\"singlecolumn\"> <span class=\"paddedline\"> <span class=\"jobtitle\" id=\"1008511263JTIT1\"> HR Director</span> <span class=\"datesWrapper\"> <span class=\"jobdates\" format=\"%m/%Y\" id=\"1008511263JSTD1\"> 09/2016</span> <span class=\"jobdates\">  to </span> <span class=\"jobdates\" format=\"%m/%Y\" id=\"1008511263EDDT1\"> Current</span> </span> </span> <span class=\"paddedline\" itemscope=\"\" itemtype=\"https://schema.org/postalAddress\"> <span class=\"companyname\" id=\"1008511263COMP1\" itemprop=\"name\"> Company Name</span> <span class=\"datesWrapper\"> <span class=\"joblocation jobcity\" id=\"1008511263JCIT1\" itemprop=\"addressLocality\"> City</span> <span class=\"joblocation\"> , </span> <span class=\"joblocation jobstate\" id=\"1008511263JSTA1\" itemprop=\"addressRegion\"> State</span> </span> </span> <span class=\"paddedline\"> <span class=\"jobline\" id=\"1008511263JDES1\" itemprop=\"description\"> <ul> <li> Developed New Website for Agency, payroll processing changes, and implementation of\\nnew HRIS System. </li> <li> Oversaw the employment process taking the lead role in clinician, physician and management\\nteam recruitment initiatives.\\n\\n</li> <li> Developed, maintain\\nand interpret HR policy. Authored the Employee Handbook.\\n\\nProvided coaching\\nand support to management and supervisors on performance management and other\\nrelated issues. \\n\\n</li> <li> Maintained in-depth\\nknowledge of legal requirements related to day-to-day management of employees,\\nreducing legal risks and ensuring regulatory compliance. </li> <li> Evaluated and\\nrecommend changes to the employee benefits plan. Oversaw day to day\\nadministration of benefits.\\xa0<br/> </li> </ul> </span> </span> </div> </div> <div class=\"paragraph\" id=\"PARAGRAPH_1008511263_2_669264985\" itemscope=\"\" itemtype=\"https://schema.org/Organization\" style=\"padding-top:0px;\"> <div class=\"singlecolumn\"> <span class=\"paddedline\"> <span class=\"jobtitle\" id=\"1008511263JTIT2\"> HR Director</span> <span class=\"datesWrapper\"> <span class=\"jobdates\" format=\"%m/%Y\" id=\"1008511263JSTD2\"> 04/2009</span> <span class=\"jobdates\">  to </span> <span class=\"jobdates\" format=\"%m/%Y\" id=\"1008511263EDDT2\"> 09/2016</span> </span> </span> <span class=\"paddedline\" itemscope=\"\" itemtype=\"https://schema.org/postalAddress\"> <span class=\"companyname\" id=\"1008511263COMP2\" itemprop=\"name\"> Company Name</span> <span class=\"datesWrapper\"> <span class=\"joblocation jobcity\" id=\"1008511263JCIT2\" itemprop=\"addressLocality\"> City</span> <span class=\"joblocation\"> , </span> <span class=\"joblocation jobstate\" id=\"1008511263JSTA2\" itemprop=\"addressRegion\"> State</span> </span> </span> <span class=\"paddedline\"> <span class=\"jobline\" id=\"1008511263JDES2\" itemprop=\"description\"> <ul> <li> Develped Supervisory Education, SHRO Website, SHRO HRIS System and Automation of payroll processing.</li> <li> Established and directed a comprehensive statewide human resource program for both classified and unclassified State employees/positions in the Adjutant General\\'s Department.</li> <li> Resolved non-routine HR related issues associated as they arose; reviewed documents and approved all hires and promotions; reviews and approved, modified and/or disapproved wage/salary requests to hire individuals above the pre-established minimum classified or unclassified pay rate,</li> <li> \\xa0Reviewed any significant changes to position descriptions and determined if reclassification should be pursued; reviewed position descriptions for new positions and determined the appropriate wage range based on comparable classified position (if they exist),<br/> </li> <li> Consulted with the TAG and both military and state manager/ supervisors in order to provide technical and common sense guidance on properly addressing sensitive or complex employee and organizational issues; aided them in achieving their ever changing program goals and provided innovative ideas for staffing; </li> <li class=\"tempListItem\" style=\"list-style-type:none\"> </li> <li class=\"tempListItem\" style=\"list-style-type:none\"> </li> <div class=\"newSpan\" style=\"margin-left: -53px;\"> </div> <li class=\"tempListItem\" style=\"list-style-type:none\"> </li> <li class=\"tempListItem\" style=\"list-style-type:none\"> </li> <li> Served as the administration\\'s management representative in labor negotiations with the local KAPE unit at the 190th Fire Department.</li> </ul> </span> </span> </div> </div> <div class=\"paragraph\" id=\"PARAGRAPH_1008511263_3_669264992\" itemscope=\"\" itemtype=\"https://schema.org/Organization\" style=\"padding-top:0px;\"> <div class=\"singlecolumn\"> <span class=\"paddedline\"> <span class=\"jobtitle\" id=\"1008511263JTIT3\"> HR Manager/Sr. Recruiter</span> <span class=\"datesWrapper\"> <span class=\"jobdates\" format=\"%m/%Y\" id=\"1008511263JSTD3\"> 10/2003</span> <span class=\"jobdates\">  to </span> <span class=\"jobdates\" format=\"%m/%Y\" id=\"1008511263EDDT3\"> 06/2006</span> </span> </span> <span class=\"paddedline\" itemscope=\"\" itemtype=\"https://schema.org/postalAddress\"> <span class=\"companyname\" id=\"1008511263COMP3\" itemprop=\"name\"> Company Name</span> <span class=\"datesWrapper\"> <span class=\"joblocation jobcity\" id=\"1008511263JCIT3\" itemprop=\"addressLocality\"> City</span> <span class=\"joblocation\"> , </span> <span class=\"joblocation jobstate\" id=\"1008511263JSTA3\" itemprop=\"addressRegion\"> State</span> </span> </span> <span class=\"paddedline\"> <span class=\"jobline\" id=\"1008511263JDES3\" itemprop=\"description\"> <ul> <li> Created an HRIS tracking system used for recruitment.</li> <li> Responsible for Ramp up and hiring of all customer service agents, and other positions as needed.</li> <li> Placement and development of all advertising \\nMet and exceeded all hiring goals. Responsible for Hiring Senior Management to cover such duties as: Team Managers, Payroll, Quality Control.</li> <li> Responsible for recruitment of 950 new employees, meeting and exceeded goals set.</li> <li> Coordinated and facilitated manpower planning, recruitment and retention, career development and training, staff relations, compensation and benefits, compliance with local, state and federal statutory regulations, public programs, and regulatory audit procedures.</li> <li> Served as a resource person to administration, mid-level management and staff regarding HR related.</li> </ul> </span> </span> </div> </div> <div class=\"paragraph\" id=\"PARAGRAPH_1008511263_4_669264993\" itemscope=\"\" itemtype=\"https://schema.org/Organization\" style=\"padding-top:0px;\"> <div class=\"singlecolumn\"> <span class=\"paddedline\"> <span class=\"jobtitle\" id=\"1008511263JTIT4\"> Human Resources Coordinator</span> <span class=\"datesWrapper\"> <span class=\"jobdates\" format=\"%m/%Y\" id=\"1008511263JSTD4\"> 03/1996</span> <span class=\"jobdates\">  to </span> <span class=\"jobdates\" format=\"%m/%Y\" id=\"1008511263EDDT4\"> 02/2000</span> </span> </span> <span class=\"paddedline\" itemscope=\"\" itemtype=\"https://schema.org/postalAddress\"> <span class=\"companyname\" id=\"1008511263COMP4\" itemprop=\"name\"> Company Name</span> <span class=\"datesWrapper\"> <span class=\"joblocation jobcity\" id=\"1008511263JCIT4\" itemprop=\"addressLocality\"> City</span> <span class=\"joblocation\"> , </span> <span class=\"joblocation jobstate\" id=\"1008511263JSTA4\" itemprop=\"addressRegion\"> State</span> </span> </span> <span class=\"paddedline\"> <span class=\"jobline\" id=\"1008511263JDES4\" itemprop=\"description\"> <ul> <li> Developed HRIS database from ground up for employee records and monitoring.</li> <li> Instrumental in reducing the use of Agency Staffing needs for hospital.</li> <li> Coordinated and facilitates manpower planning, recruitment and retention, career development and training, staff relations, compensation and benefits, compliance with local, state and federal statutory regulations, public programs, and regulatory audit procedures.</li> <li> Served as the HR resource source for administration, mid-level management and staff.</li> <li> Coordinated hiring procedures, appraisals, pay increases, promotions, transfers, terminations, job postings, and all corrective actions;</li> <li> One Person Office, responsible for all OSHA, Work Comp, Benefits, payroll, etc.</li> </ul> </span> </span> </div> </div> </div> <div class=\"section\" id=\"SECTION_EDUC1008511265\" style=\"padding-top:0px;\"> <div class=\"heading\"> <div class=\"sectiontitle\" id=\"SECTNAME_EDUC1008511265\"> Education and Training</div> </div> <div class=\"paragraph firstparagraph\" id=\"PARAGRAPH_1008511265_1_669264998\" itemscope=\"\" itemtype=\"https://schema.org/EducationalOrganization\" style=\"padding-top:0px;\"> <div class=\"singlecolumn\"> <span class=\"paddedline\" itemprop=\"description\"> <span class=\"degree\" id=\"1008511265DGRE1\" itemprop=\"name\"> Master\\'s Degree</span> <span> : </span> <span class=\"programline\" id=\"1008511265STUY1\"> Information Management Systems</span> <span class=\"datesWrapper\"> <span class=\"jobdates\" id=\"1008511265GRYR1\"> 05/2005</span> <span> </span> </span> </span> <span class=\"paddedline\"> <span class=\"companyname companyname_educ\" id=\"1008511265SCHO1\" itemprop=\"name\"> Friends University</span> <span class=\"datesWrapper\"> <span class=\"joblocation jobcity educity\" id=\"1008511265SCIT1\"> City</span> <span> , </span> <span class=\"joblocation jobstate edustate\" id=\"1008511265SSTA1\"> State</span> <span> , </span> <span class=\"joblocation eduCountry\" id=\"1008511265SCNT1\"> United States</span> </span> </span> <span class=\"paddedline\"> <span class=\"field\" id=\"1008511265FRFM1\"> 3.5 Credits Earned: 62 Semester hours Information Management Systems</span> </span> </div> </div> <div class=\"paragraph\" id=\"PARAGRAPH_1008511265_2_669264999\" itemscope=\"\" itemtype=\"https://schema.org/EducationalOrganization\" style=\"padding-top:0px;\"> <div class=\"singlecolumn\"> <span class=\"paddedline\" itemprop=\"description\"> <span class=\"degree\" id=\"1008511265DGRE2\" itemprop=\"name\"> Bachelor of Science</span> <span> : </span> <span class=\"programline\" id=\"1008511265STUY2\"> Organizational Management</span> <span class=\"datesWrapper\"> <span class=\"jobdates\" id=\"1008511265GRYR2\"> 05/2000</span> <span> </span> </span> </span> <span class=\"paddedline\"> <span class=\"companyname companyname_educ\" id=\"1008511265SCHO2\" itemprop=\"name\"> Friends University</span> <span class=\"datesWrapper\"> <span class=\"joblocation jobcity educity\" id=\"1008511265SCIT2\"> City</span> <span> , </span> <span class=\"joblocation jobstate edustate\" id=\"1008511265SSTA2\"> State</span> <span> , </span> <span class=\"joblocation eduCountry\" id=\"1008511265SCNT2\"> United States</span> </span> </span> <span class=\"paddedline\"> <span class=\"field\" id=\"1008511265FRFM2\"> <div> 4.0 Credits Earned: 62 Semester hours </div> <div> <br/> </div> </span> </span> </div> </div> </div> <div class=\"section\" id=\"SECTION_AFIL1008511266\" style=\"padding-top:0px;\"> <div class=\"heading\"> <div class=\"sectiontitle\" id=\"SECTNAME_AFIL1008511266\"> Activities and Honors</div> </div> <div class=\"paragraph firstparagraph\" id=\"PARAGRAPH_1008511266_1_669265000\" style=\"padding-top:0px;\"> <div class=\"field singlecolumn\" id=\"1008511266FRFM1\"> Topeka Chamber of Commerce -Ambassador \\nKansas Hospital Association -Health Care Human Resources Member \\nSHRM -Legislative Liaison</div> </div> </div> <div class=\"section\" id=\"SECTION_SKLL1008511267\" style=\"padding-top:0px;\"> <div class=\"heading\"> <div class=\"sectiontitle\" id=\"SECTNAME_SKLL1008511267\"> Skills</div> </div> <div class=\"paragraph firstparagraph\" id=\"PARAGRAPH_1008511267_1_669265001\" style=\"padding-top:0px;\"> <div class=\"field singlecolumn\" id=\"1008511267FRFM1\"> <ul> <li> Desktop Publishing,\\xa0</li> <li> Newsletter productions, </li> <li> DATABASE Management, </li> <li> Leadership \\n\\nTraining,</li> <li> OSHA, FMLA, \\n\\nWorkers Compensation. </li> <li> PageMaker, </li> <li> Agency Automation, back-up, </li> <li> Benefits,</li> <li> Budget management,</li> <li> Corel Suite, </li> <li> Harvard Graphics,</li> <li> Access, Excel, Microsoft Publisher, MS Word,\\xa0 </li> <li> Quark Express, Quattro Pro, </li> <li> Strategic Planning,\\xa0 </li> <li> Web page development, </li> <li> WordPerfect</li> </ul> </div> </div> </div> </div>'\n",
      " ...\n",
      " '         GEEK SQUAD AGENT         Professional Profile    IT support specialist with experience across multiple disciplines including technical\\nsupport, customer service, computer repair, and military service. I am hard working,\\nwilling to learn, team oriented, and comfortable working independently as well.      Qualifications        Windows / Mac / IOS / Android Technical Support \\nHardware & Software Maintenance User Training \\nMalware Detection & Removal  Customer Service \\nEntry Level Active Directory & Ticketing Problem Solving & Research              Experience      Company Name     August 2014   to   October 2016     Geek Squad Agent   City  ,   State      Provided technical support in person and over the phone.  Performed hardware and software installation and repair.  Refurbished and setup PCs and peripheral devices.          Company Name     January 2013   to   January 2014     Shipping & Receiving Associate   City  ,   State      Performed shipping and receiving of product.  Assisted with inventory management.  General logistics and warehouse duties.          Company Name     January 2009   to   January 2012     Assembler/Shipping & Receiving Associate   City  ,   State      Assembled and tested tanks according to specifications.  Maintained inventory of tools and supplies.  Performed shipping and receiving duties.          Company Name     January 2005   to   January 2009     Aviation Electrician   City  ,   State      Performed troubleshooting and maintenance of aircraft.  Performed ground handling and marshalling of aircraft.  Performed daily safe for flight inspections.          Education      Purdue University     2014       B.S  :   Computer & Information Technology    City  ,   State      Computer & Information Technology          Skills    Active Directory, Hardware, Customer Service, inventory management, inventory, logistics, Mac, Windows, Problem Solving, receiving, Research, shipping, software installation, technical support, User Training, phone, troubleshooting    <div class=\"fontsize fontface vmargins hmargins linespacing pagesize\" id=\"document\"> <div class=\"section firstsection\" id=\"SECTION_NAME927947889\" style=\"padding-top:0px;\"> <div class=\"paragraph PARAGRAPH_NAME firstparagraph\" id=\"PARAGRAPH_927947889_1_609980872\" style=\"padding-top:0px;\"> <div class=\"name bottomborder\" itemprop=\"name\"> <span class=\"field\" id=\"927947889FNAM1\"> </span> <span> </span> <span class=\"field\" id=\"927947889LNAM1\"> GEEK SQUAD AGENT</span> </div> <div class=\"lowerborder bottomborder\"> </div> </div> </div> <div class=\"section\" id=\"SECTION_SUMM927947900\" style=\"padding-top:0px;\"> <div class=\"heading\"> <div class=\"sectiontitle\" id=\"SECTNAME_SUMM927947900\"> Professional Profile</div> </div> <div class=\"paragraph firstparagraph\" id=\"PARAGRAPH_927947900_1_609980880\" style=\"padding-top:0px;\"> <div class=\"field singlecolumn\" id=\"927947900FRFM1\"> IT support specialist with experience across multiple disciplines including technical\\nsupport, customer service, computer repair, and military service. I am hard working,\\nwilling to learn, team oriented, and comfortable working independently as well.</div> </div> </div> <div class=\"section\" id=\"SECTION_HILT927947901\" style=\"padding-top:0px;\"> <div class=\"heading\"> <div class=\"sectiontitle\" id=\"SECTNAME_HILT927947901\"> Qualifications</div> </div> <div class=\"paragraph firstparagraph\" id=\"PARAGRAPH_927947901_1_609980881\" style=\"padding-top:0px;\"> <div class=\"singlecolumn maincolumn\"> <table class=\"twocol\"> <tbody> <tr> <td class=\"field twocol_1\" id=\"927947901SKC11\"> Windows / Mac / IOS / Android Technical Support \\nHardware &amp; Software Maintenance User Training \\nMalware Detection &amp; Removal  Customer Service \\nEntry Level Active Directory &amp; Ticketing Problem Solving &amp; Research</td> <td class=\"field twocol_2\" id=\"927947901SKC21\"> </td> </tr> </tbody> </table> </div> </div> </div> <div class=\"section\" id=\"SECTION_ACCM927948163\" style=\"padding-top:0px;\"> </div> <div class=\"section\" id=\"SECTION_EXPR927947891\" style=\"padding-top:0px;\"> <div class=\"heading\"> <div class=\"sectiontitle\" id=\"SECTNAME_EXPR927947891\"> Experience</div> </div> <div class=\"paragraph firstparagraph\" id=\"PARAGRAPH_927947891_1_609980874\" itemscope=\"\" itemtype=\"https://schema.org/Organization\" style=\"padding-top:0px;\"> <div class=\"singlecolumn\"> <span class=\"paddedline\"> <span class=\"companyname\" id=\"927947891COMP1\" itemprop=\"name\"> Company Name</span> <span> </span> <span class=\"datesWrapper\"> <span class=\"jobdates\" format=\"%B %Y\" id=\"927947891JSTD1\"> August 2014</span> <span>  to </span> <span class=\"jobdates\" format=\"%B %Y\" id=\"927947891EDDT1\"> October 2016</span> </span> </span> <span class=\"paddedline\" itemscope=\"\" itemtype=\"https://schema.org/postalAddress\"> <span class=\"jobtitle\" id=\"927947891JTIT1\"> Geek Squad Agent</span> <br/> <span class=\"joblocation jobcity\" id=\"927947891JCIT1\" itemprop=\"addressLocality\"> City</span> <span> , </span> <span class=\"joblocation jobstate\" id=\"927947891JSTA1\" itemprop=\"addressRegion\"> State</span> </span> <span class=\"paddedline\"> <span class=\"jobline\" id=\"927947891JDES1\" itemprop=\"description\"> <ul> <li> Provided technical support in person and over the phone.</li> <li> Performed hardware and software installation and repair.</li> <li> Refurbished and setup PCs and peripheral devices.</li> </ul> </span> </span> </div> </div> <div class=\"paragraph\" id=\"PARAGRAPH_927947891_2_609980875\" itemscope=\"\" itemtype=\"https://schema.org/Organization\" style=\"padding-top:0px;\"> <div class=\"singlecolumn\"> <span class=\"paddedline\"> <span class=\"companyname\" id=\"927947891COMP2\" itemprop=\"name\"> Company Name</span> <span> </span> <span class=\"datesWrapper\"> <span class=\"jobdates\" format=\"%B %Y\" id=\"927947891JSTD2\"> January 2013</span> <span>  to </span> <span class=\"jobdates\" format=\"%B %Y\" id=\"927947891EDDT2\"> January 2014</span> </span> </span> <span class=\"paddedline\" itemscope=\"\" itemtype=\"https://schema.org/postalAddress\"> <span class=\"jobtitle\" id=\"927947891JTIT2\"> Shipping &amp; Receiving Associate</span> <br/> <span class=\"joblocation jobcity\" id=\"927947891JCIT2\" itemprop=\"addressLocality\"> City</span> <span> , </span> <span class=\"joblocation jobstate\" id=\"927947891JSTA2\" itemprop=\"addressRegion\"> State</span> </span> <span class=\"paddedline\"> <span class=\"jobline\" id=\"927947891JDES2\" itemprop=\"description\"> <ul> <li> Performed shipping and receiving of product.</li> <li> Assisted with inventory management.</li> <li> General logistics and warehouse duties.</li> </ul> </span> </span> </div> </div> <div class=\"paragraph\" id=\"PARAGRAPH_927947891_3_609980876\" itemscope=\"\" itemtype=\"https://schema.org/Organization\" style=\"padding-top:0px;\"> <div class=\"singlecolumn\"> <span class=\"paddedline\"> <span class=\"companyname\" id=\"927947891COMP3\" itemprop=\"name\"> Company Name</span> <span> </span> <span class=\"datesWrapper\"> <span class=\"jobdates\" format=\"%B %Y\" id=\"927947891JSTD3\"> January 2009</span> <span>  to </span> <span class=\"jobdates\" format=\"%B %Y\" id=\"927947891EDDT3\"> January 2012</span> </span> </span> <span class=\"paddedline\" itemscope=\"\" itemtype=\"https://schema.org/postalAddress\"> <span class=\"jobtitle\" id=\"927947891JTIT3\"> Assembler/Shipping &amp; Receiving Associate</span> <br/> <span class=\"joblocation jobcity\" id=\"927947891JCIT3\" itemprop=\"addressLocality\"> City</span> <span> , </span> <span class=\"joblocation jobstate\" id=\"927947891JSTA3\" itemprop=\"addressRegion\"> State</span> </span> <span class=\"paddedline\"> <span class=\"jobline\" id=\"927947891JDES3\" itemprop=\"description\"> <ul> <li> Assembled and tested tanks according to specifications.</li> <li> Maintained inventory of tools and supplies.</li> <li> Performed shipping and receiving duties.</li> </ul> </span> </span> </div> </div> <div class=\"paragraph\" id=\"PARAGRAPH_927947891_4_609980878\" itemscope=\"\" itemtype=\"https://schema.org/Organization\" style=\"padding-top:0px;\"> <div class=\"singlecolumn\"> <span class=\"paddedline\"> <span class=\"companyname\" id=\"927947891COMP4\" itemprop=\"name\"> Company Name</span> <span> </span> <span class=\"datesWrapper\"> <span class=\"jobdates\" format=\"%B %Y\" id=\"927947891JSTD4\"> January 2005</span> <span>  to </span> <span class=\"jobdates\" format=\"%B %Y\" id=\"927947891EDDT4\"> January 2009</span> </span> </span> <span class=\"paddedline\" itemscope=\"\" itemtype=\"https://schema.org/postalAddress\"> <span class=\"jobtitle\" id=\"927947891JTIT4\"> Aviation Electrician</span> <br/> <span class=\"joblocation jobcity\" id=\"927947891JCIT4\" itemprop=\"addressLocality\"> City</span> <span> , </span> <span class=\"joblocation jobstate\" id=\"927947891JSTA4\" itemprop=\"addressRegion\"> State</span> </span> <span class=\"paddedline\"> <span class=\"jobline\" id=\"927947891JDES4\" itemprop=\"description\"> <ul> <li> Performed troubleshooting and maintenance of aircraft.</li> <li> Performed ground handling and marshalling of aircraft.</li> <li> Performed daily safe for flight inspections.</li> </ul> </span> </span> </div> </div> </div> <div class=\"section\" id=\"SECTION_EDUC927947899\" style=\"padding-top:0px;\"> <div class=\"heading\"> <div class=\"sectiontitle\" id=\"SECTNAME_EDUC927947899\"> Education</div> </div> <div class=\"paragraph firstparagraph\" id=\"PARAGRAPH_927947899_1_609980879\" itemscope=\"\" itemtype=\"https://schema.org/EducationalOrganization\" style=\"padding-top:0px;\"> <div class=\"singlecolumn\"> <span class=\"paddedline\"> <span class=\"companyname companyname_educ\" id=\"927947899SCHO1\" itemprop=\"name\"> Purdue University</span> <span> </span> <span class=\"datesWrapper\"> <span class=\"jobdates\" id=\"927947899GRYR1\"> 2014</span> <span> </span> </span> </span> <span class=\"paddedline\" itemprop=\"description\"> <span class=\"degree\" id=\"927947899DGRE1\" itemprop=\"name\"> B.S</span> <span> : </span> <span class=\"programline\" id=\"927947899STUY1\"> Computer &amp; Information Technology</span> </span> <span class=\"paddedline\"> <span class=\"joblocation jobcity\" id=\"927947899SCIT1\"> City</span> <span> , </span> <span class=\"joblocation jobstate\" id=\"927947899SSTA1\"> State</span> <span class=\"joblocation jobstate\" id=\"927947899SCNT1\"> </span> </span> <span class=\"paddedline\"> <span class=\"field\" id=\"927947899FRFM1\"> Computer &amp; Information Technology</span> </span> </div> </div> </div> <div class=\"section\" id=\"SECTION_AFIL927947903\" style=\"padding-top:0px;\"> </div> <div class=\"section\" id=\"SECTION_SKLL927947902\" style=\"padding-top:0px;\"> <div class=\"heading\"> <div class=\"sectiontitle\" id=\"SECTNAME_SKLL927947902\"> Skills</div> </div> <div class=\"paragraph firstparagraph\" id=\"PARAGRAPH_927947902_1_609980882\" style=\"padding-top:0px;\"> <div class=\"field singlecolumn\" id=\"927947902FRFM1\"> Active Directory, Hardware, Customer Service, inventory management, inventory, logistics, Mac, Windows, Problem Solving, receiving, Research, shipping, software installation, technical support, User Training, phone, troubleshooting</div> </div> </div> </div>'\n",
      " '         PROGRAM DIRECTOR / OFFICE MANAGER           Summary    Highly personable, tech savvy Professional with 9 plus years of experience in administrative and customer service roles including 5 years of non-profit experience. Demonstrated ability to develop and maintain relationships through dependability and exceptional service leading to increased repeat and referral business and support. Effectively communicates with the Executive & Advisory Board of Directors with the constant ongoing of daily operation. Job responsibilities include facili- tating monthly support group meetings, training volunteers for educational awareness programs within the community, maintaining donor data with use of Sage Fundraising 50 donor software, mailings of thank you letters and fliers to donors, creating marketing materials and social media postings, and maintaining website and calendar updates. Additional qualifications include use of       Highlights        crosoft Word, Excel, Outlook, PowerPoint, Access, Publisher, Adobe Pro, Operating Systems\\nWindows XP, Vista and Mac, Skype, Facebook, YouTube, Twitter & LogMeIn Remote.              Experience      Program Director / Office Manager    March 2009   to   Current     Company Name   －   City  ,   State      Serve as director for a not-for-profit corporation tending to the needs of survivors diag- nosed with all forms of Gynecological cancers & their caregivers.  Raising awareness, fundraising, and hosting local lunch and learns and community events.  Implemented a program with third year medical students at U of L & U of K called \"Sur- vivors Teaching Students.\" Partnered with the James Graham Cancer Center & Norton Hospital in the design of a new High Risk Screening Clinic for Ovarian Cancer.  Facilitate monthly support group meetings to GYN Cancer Survivors and their Cargiv- er\\'s.  Handle all of the day to day operations in keeping a Non-Profit Organization healthy and thriving.  Maintain donor mailing lists and send out thank you letters and fliers for upcoming events.  Maintain website and calendar updates.  Create marketing materials and social media postings.  Maintain donor data with use of Sage Fundraising 50 donor software and Virtual Termi- nal and Merchant Solutions software.          Personal Assistant to Director of Aviation     Company Name   －   City  ,   State      Assisted in all day-to-day needs of the Director.  Made travel arrangements, organized office space, and hosted meetings for clients to review veneer products.  Assisted in the Interior design and implementation of high end Private Jets: Personally designed Oprah Winfrey\\'s & Cirque Du Soleil\\'s RJ, UPS, Fed Ex, Gulfstream and Bom- dardiers corporate company jets.          Guest Services Representative     Company Name   －   City  ,   State            Flight Attendant     Company Name   －   City  ,   State      Collaborated with Customer Care / In-Flight Managers to create strategic plans to en- hance customer satisfaction.  Provided employees with tools to maintain and increase service levels to both internal and external customers.  Increased employee knowledge by assisting with development and implementation of product-awareness program.  Served as In-Flight Training Instructor.  Emergency Safety (First Aide, CPR & Automated External Defibrillator) ·     Emergency Procedures ·     Crew Resource Management to Line Holding Pilots & Flight Attendants ·     Security ·     Serving ·     Customer Service ·     Aircraft Specifics ·     I.O.E.  Qualified.          Education      Bachelor of Arts   :   Psychology Social Sciences      The University of Louisville   －   City  ,   State      Psychology Social Sciences        High School Diploma        Presentation Academy   －   City  ,   State              Interests    Enjoy playing Tennis, Skiing, Flying and Photography. Psi Chi Member: The National Honor So- ciety of Psychology - Secretary/Treasurer. The Louisville Science Center; Twinbrook Nursing Home, The Home of the Innocence; Meredith Dunn Day Care Center and Retreat Leader, Deaf Adult/Youth Community events, Mini Deaf Olympics, The Junior League of Louisville & Ovarian Awareness of Kentucky Advisory Board member.       Skills    Adobe, CPR, clients, customer satisfaction, Customer Service, Customer Care, forms, Fundraising, Instructor, Interior design, letters, Mac, Director, marketing materials, meetings, Access, Excel, office, Outlook, PowerPoint, Publisher, Windows XP, Word, Norton, Operating Systems, Profit, QuickBooks, Safety, Sage, strategic plans, Teaching, travel arrangements, Vista, website      Additional Information      HOBBIES AND VOLUNTEER SERVICES Enjoy playing Tennis, Skiing, Flying and Photography. Psi Chi Member: The National Honor So- ciety of Psychology - Secretary/Treasurer. The Louisville Science Center; Twinbrook Nursing Home, The Home of the Innocence; Meredith Dunn Day Care Center and Retreat Leader, Deaf Adult/Youth Community events, Mini Deaf Olympics, The Junior League of Louisville & Ovarian Awareness of Kentucky Advisory Board member.       <div class=\"fontsize fontface vmargins hmargins linespacing pagesize\" id=\"document\"> <div class=\"section firstsection\" id=\"SECTION_NAME529790997\" style=\"\\n      padding-top:0px;\\n    \"> <div class=\"paragraph PARAGRAPH_NAME firstparagraph\" id=\"PARAGRAPH_529790997_1_346036720\" style=\"\\n      padding-top:0px;\\n    \"> <div class=\"name thinbottomborder\" itemprop=\"name\"> <span class=\"field\" id=\"529790997FNAM1\"> </span> <span> </span> <span class=\"field\" id=\"529790997LNAM1\"> PROGRAM DIRECTOR / OFFICE MANAGER</span> </div> <div class=\"myGap\"> </div> <div class=\"lowerborder thinbottomborder\"> </div> </div> </div> <div class=\"section\" id=\"SECTION_SUMM529790999\" style=\"\\n      padding-top:0px;\\n    \"> <div class=\"heading\"> <div class=\"sectiontitle thinbottomborder\" id=\"SECTNAME_SUMM529790999\"> Summary</div> </div> <div class=\"paragraph firstparagraph\" id=\"PARAGRAPH_529790999_1_346035644\" style=\"\\n      padding-top:0px;\\n    \"> <div class=\"field singlecolumn\" id=\"529790999FRFM1\"> Highly personable, tech savvy Professional with 9 plus years of experience in administrative and customer service roles including 5 years of non-profit experience. Demonstrated ability to develop and maintain relationships through dependability and exceptional service leading to increased repeat and referral business and support. Effectively communicates with the Executive &amp; Advisory Board of Directors with the constant ongoing of daily operation. Job responsibilities include facili- tating monthly support group meetings, training volunteers for educational awareness programs within the community, maintaining donor data with use of Sage Fundraising 50 donor software, mailings of thank you letters and fliers to donors, creating marketing materials and social media postings, and maintaining website and calendar updates. Additional qualifications include use of </div> </div> </div> <div class=\"section\" id=\"SECTION_HILT529791000\" style=\"\\n      padding-top:0px;\\n    \"> <div class=\"heading\"> <div class=\"sectiontitle thinbottomborder\" id=\"SECTNAME_HILT529791000\"> Highlights</div> </div> <div class=\"paragraph firstparagraph\" id=\"PARAGRAPH_529791000_1_346035646\" style=\"\\n      padding-top:0px;\\n    \"> <div class=\"singlecolumn maincolumn\"> <table class=\"twocol\"> <tbody> <tr> <td class=\"field twocol_1 charspace\" id=\"529791000SKC11\"> crosoft Word, Excel, Outlook, PowerPoint, Access, Publisher, Adobe Pro, Operating Systems\\nWindows XP, Vista and Mac, Skype, Facebook, YouTube, Twitter &amp; LogMeIn Remote.</td> <td class=\"field twocol_2 charspace\" id=\"529791000SKC21\"> </td> </tr> </tbody> </table> </div> </div> </div> <div class=\"section\" id=\"SECTION_ACCM529791943\" style=\"\\n      padding-top:0px;\\n    \"> </div> <div class=\"section\" id=\"SECTION_EXPR529791001\" style=\"\\n      padding-top:0px;\\n    \"> <div class=\"heading\"> <div class=\"sectiontitle thinbottomborder\" id=\"SECTNAME_EXPR529791001\"> Experience</div> </div> <div class=\"paragraph firstparagraph\" id=\"PARAGRAPH_529791001_1_346035637\" itemscope=\"\" itemtype=\"https://schema.org/Organization\" style=\"\\n      padding-top:0px;\\n    \"> <div class=\"singlecolumn\"> <span class=\"paddedline\"> <span class=\"jobtitle\" id=\"529791001JTIT1\"> Program Director / Office Manager</span> <br/> <span> <span class=\"jobdates\" format=\"%B %Y\" id=\"529791001JSTD1\"> March 2009</span> <span>  to </span> <span class=\"jobdates\" format=\"%B %Y\" id=\"529791001EDDT1\"> Current</span> </span> </span> <span class=\"paddedline\" itemscope=\"\" itemtype=\"https://schema.org/postalAddress\"> <span class=\"companyname\" id=\"529791001COMP1\" itemprop=\"name\"> Company Name</span> <span>  － </span> <span class=\"joblocation jobcity\" id=\"529791001JCIT1\" itemprop=\"addressLocality\"> City</span> <span> , </span> <span class=\"joblocation jobstate\" id=\"529791001JSTA1\" itemprop=\"addressRegion\"> State</span> </span> <span class=\"paddedline\"> <span class=\"jobline\" id=\"529791001JDES1\" itemprop=\"description\"> <ul> <li> Serve as director for a not-for-profit corporation tending to the needs of survivors diag- nosed with all forms of Gynecological cancers &amp; their caregivers.</li> <li> Raising awareness, fundraising, and hosting local lunch and learns and community events.</li> <li> Implemented a program with third year medical students at U of L &amp; U of K called \"Sur- vivors Teaching Students.\" Partnered with the James Graham Cancer Center &amp; Norton Hospital in the design of a new High Risk Screening Clinic for Ovarian Cancer.</li> <li> Facilitate monthly support group meetings to GYN Cancer Survivors and their Cargiv- er\\'s.</li> <li> Handle all of the day to day operations in keeping a Non-Profit Organization healthy and thriving.</li> <li> Maintain donor mailing lists and send out thank you letters and fliers for upcoming events.</li> <li> Maintain website and calendar updates.</li> <li> Create marketing materials and social media postings.</li> <li> Maintain donor data with use of Sage Fundraising 50 donor software and Virtual Termi- nal and Merchant Solutions software.</li> </ul> </span> </span> </div> </div> <div class=\"paragraph\" id=\"PARAGRAPH_529791001_2_346035639\" itemscope=\"\" itemtype=\"https://schema.org/Organization\" style=\"\\n      padding-top:0px;\\n    \"> <div class=\"singlecolumn\"> <span class=\"paddedline\"> <span class=\"jobtitle\" id=\"529791001JTIT2\"> Personal Assistant to Director of Aviation</span> <br/> </span> <span class=\"paddedline\" itemscope=\"\" itemtype=\"https://schema.org/postalAddress\"> <span class=\"companyname\" id=\"529791001COMP2\" itemprop=\"name\"> Company Name</span> <span>  － </span> <span class=\"joblocation jobcity\" id=\"529791001JCIT2\" itemprop=\"addressLocality\"> City</span> <span> , </span> <span class=\"joblocation jobstate\" id=\"529791001JSTA2\" itemprop=\"addressRegion\"> State</span> </span> <span class=\"paddedline\"> <span class=\"jobline\" id=\"529791001JDES2\" itemprop=\"description\"> <ul> <li> Assisted in all day-to-day needs of the Director.</li> <li> Made travel arrangements, organized office space, and hosted meetings for clients to review veneer products.</li> <li> Assisted in the Interior design and implementation of high end Private Jets: Personally designed Oprah Winfrey\\'s &amp; Cirque Du Soleil\\'s RJ, UPS, Fed Ex, Gulfstream and Bom- dardiers corporate company jets.</li> </ul> </span> </span> </div> </div> <div class=\"paragraph\" id=\"PARAGRAPH_529791001_3_346035640\" itemscope=\"\" itemtype=\"https://schema.org/Organization\" style=\"\\n      padding-top:0px;\\n    \"> <div class=\"singlecolumn\"> <span class=\"paddedline\"> <span class=\"jobtitle\" id=\"529791001JTIT3\"> Guest Services Representative</span> <br/> </span> <span class=\"paddedline\" itemscope=\"\" itemtype=\"https://schema.org/postalAddress\"> <span class=\"companyname\" id=\"529791001COMP3\" itemprop=\"name\"> Company Name</span> <span>  － </span> <span class=\"joblocation jobcity\" id=\"529791001JCIT3\" itemprop=\"addressLocality\"> City</span> <span> , </span> <span class=\"joblocation jobstate\" id=\"529791001JSTA3\" itemprop=\"addressRegion\"> State</span> </span> <span class=\"paddedline\"> <span class=\"jobline\" id=\"529791001JDES3\" itemprop=\"description\"> </span> </span> </div> </div> <div class=\"paragraph\" id=\"PARAGRAPH_529791001_4_346035641\" itemscope=\"\" itemtype=\"https://schema.org/Organization\" style=\"\\n      padding-top:0px;\\n    \"> <div class=\"singlecolumn\"> <span class=\"paddedline\"> <span class=\"jobtitle\" id=\"529791001JTIT4\"> Flight Attendant</span> <br/> </span> <span class=\"paddedline\" itemscope=\"\" itemtype=\"https://schema.org/postalAddress\"> <span class=\"companyname\" id=\"529791001COMP4\" itemprop=\"name\"> Company Name</span> <span>  － </span> <span class=\"joblocation jobcity\" id=\"529791001JCIT4\" itemprop=\"addressLocality\"> City</span> <span> , </span> <span class=\"joblocation jobstate\" id=\"529791001JSTA4\" itemprop=\"addressRegion\"> State</span> </span> <span class=\"paddedline\"> <span class=\"jobline\" id=\"529791001JDES4\" itemprop=\"description\"> <ul> <li> Collaborated with Customer Care / In-Flight Managers to create strategic plans to en- hance customer satisfaction.</li> <li> Provided employees with tools to maintain and increase service levels to both internal and external customers.</li> <li> Increased employee knowledge by assisting with development and implementation of product-awareness program.</li> <li> Served as In-Flight Training Instructor.</li> <li> Emergency Safety (First Aide, CPR &amp; Automated External Defibrillator) ·     Emergency Procedures ·     Crew Resource Management to Line Holding Pilots &amp; Flight Attendants ·     Security ·     Serving ·     Customer Service ·     Aircraft Specifics ·     I.O.E.</li> <li> Qualified.</li> </ul> </span> </span> </div> </div> </div> <div class=\"section\" id=\"SECTION_EDUC529791002\" style=\"\\n      padding-top:0px;\\n    \"> <div class=\"heading\"> <div class=\"sectiontitle thinbottomborder\" id=\"SECTNAME_EDUC529791002\"> Education</div> </div> <div class=\"paragraph firstparagraph\" id=\"PARAGRAPH_529791002_1_346035642\" itemscope=\"\" itemtype=\"https://schema.org/EducationalOrganization\" style=\"\\n      padding-top:0px;\\n    \"> <div class=\"singlecolumn\"> <span class=\"paddedline\" itemprop=\"description\"> <span class=\"degree\" dependency=\"DGRE\" id=\"529791002DGRE1\" itemprop=\"name\"> Bachelor of Arts</span> <span>  : </span> <span class=\"programline\" dependency=\"STUY\" id=\"529791002STUY1\"> Psychology Social Sciences</span> <span class=\"jobdates\" id=\"529791002GRYR1\"> </span> </span> <span class=\"paddedline\"> <span class=\"companyname companyname_educ\" dependency=\"SCHO\" id=\"529791002SCHO1\" itemprop=\"name\"> The University of Louisville</span> <span>  － </span> <span class=\"joblocation jobcity\" id=\"529791002SCIT1\"> City</span> <span> , </span> <span class=\"joblocation jobstate\" id=\"529791002SSTA1\"> State</span> <span class=\"joblocation jobstate\" id=\"529791002SCNT1\"> </span> </span> <span class=\"paddedline\"> <span class=\"field\" id=\"529791002FRFM1\"> Psychology Social Sciences</span> </span> </div> </div> <div class=\"paragraph\" id=\"PARAGRAPH_529791002_2_346035643\" itemscope=\"\" itemtype=\"https://schema.org/EducationalOrganization\" style=\"\\n      padding-top:0px;\\n    \"> <div class=\"singlecolumn\"> <span class=\"paddedline\" itemprop=\"description\"> <span class=\"degree\" dependency=\"DGRE\" id=\"529791002DGRE2\" itemprop=\"name\"> High School Diploma</span> <span class=\"programline\" dependency=\"STUY\" id=\"529791002STUY2\"> </span> <span class=\"jobdates\" id=\"529791002GRYR2\"> </span> </span> <span class=\"paddedline\"> <span class=\"companyname companyname_educ\" dependency=\"SCHO\" id=\"529791002SCHO2\" itemprop=\"name\"> Presentation Academy</span> <span>  － </span> <span class=\"joblocation jobcity\" id=\"529791002SCIT2\"> City</span> <span> , </span> <span class=\"joblocation jobstate\" id=\"529791002SSTA2\"> State</span> <span class=\"joblocation jobstate\" id=\"529791002SCNT2\"> </span> </span> <span class=\"paddedline\"> <span class=\"field\" id=\"529791002FRFM2\"> </span> </span> </div> </div> </div> <div class=\"section\" id=\"SECTION_INTR529791005\" style=\"\\n      padding-top:0px;\\n    \"> <div class=\"heading\"> <div class=\"sectiontitle thinbottomborder\" id=\"SECTNAME_INTR529791005\"> Interests</div> </div> <div class=\"paragraph firstparagraph\" id=\"PARAGRAPH_529791005_1_346035645\" style=\"\\n      padding-top:0px;\\n    \"> <div class=\"field singlecolumn\" id=\"529791005FRFM1\"> Enjoy playing Tennis, Skiing, Flying and Photography. Psi Chi Member: The National Honor So- ciety of Psychology - Secretary/Treasurer. The Louisville Science Center; Twinbrook Nursing Home, The Home of the Innocence; Meredith Dunn Day Care Center and Retreat Leader, Deaf Adult/Youth Community events, Mini Deaf Olympics, The Junior League of Louisville &amp; Ovarian Awareness of Kentucky Advisory Board member. </div> </div> </div> <div class=\"section\" id=\"SECTION_SKLL529791006\" style=\"\\n      padding-top:0px;\\n    \"> <div class=\"heading\"> <div class=\"sectiontitle thinbottomborder\" id=\"SECTNAME_SKLL529791006\"> Skills</div> </div> <div class=\"paragraph firstparagraph\" id=\"PARAGRAPH_529791006_1_346035647\" style=\"\\n      padding-top:0px;\\n    \"> <div class=\"field singlecolumn\" id=\"529791006FRFM1\"> Adobe, CPR, clients, customer satisfaction, Customer Service, Customer Care, forms, Fundraising, Instructor, Interior design, letters, Mac, Director, marketing materials, meetings, Access, Excel, office, Outlook, PowerPoint, Publisher, Windows XP, Word, Norton, Operating Systems, Profit, QuickBooks, Safety, Sage, strategic plans, Teaching, travel arrangements, Vista, website</div> </div> </div> <div class=\"section\" id=\"SECTION_ADDI529791007\" style=\"\\n      padding-top:0px;\\n    \"> <div class=\"heading\"> <div class=\"sectiontitle thinbottomborder\" id=\"SECTNAME_ADDI529791007\"> Additional Information</div> </div> <div class=\"paragraph firstparagraph\" id=\"PARAGRAPH_529791007_1_346035648\" style=\"\\n      padding-top:0px;\\n    \"> <div class=\"field singlecolumn\" id=\"529791007FRFM1\"> <ul> <li> HOBBIES AND VOLUNTEER SERVICES Enjoy playing Tennis, Skiing, Flying and Photography. Psi Chi Member: The National Honor So- ciety of Psychology - Secretary/Treasurer. The Louisville Science Center; Twinbrook Nursing Home, The Home of the Innocence; Meredith Dunn Day Care Center and Retreat Leader, Deaf Adult/Youth Community events, Mini Deaf Olympics, The Junior League of Louisville &amp; Ovarian Awareness of Kentucky Advisory Board member. </li> </ul> </div> </div> </div> </div>'\n",
      " '         STOREKEEPER II       Professional Summary    The purpose of this document is to secure a responsible career position that fully utilizes educational knowledge and experience while contributing to the goals and values of this organization. Having a friendly attitude and worm personality is an appreciated strong point, as it aided in building positive relationships with customers. As a result, repeat and satisfied customers were well known during career at Pioneer Packaging as well as while working for City of Peoria. Helping people is one of my best characteristics. Obtaining several years experience contacting vendors, answering phones and face to face contact with the public and governmental personnel has honed my customer service abilities. Problem solving skills and a positive work ethic makes communication easier. I am devoted and dedicated to serving in any way possible, and strive to accomplish assigned tasks quickly and efficiently. Exceptional people skills allow the ability to manage personnel and take care of conflicts, disputes and other personal needs of employees. Procurement and Purchasing: Over 10 years processing purchase orders. Primary vendor contact for Inventory Control and Fleet parts room purchases. Highly proficient utilizing inventory procurement practices and procedures.       Skills                    Work History      STOREKEEPER II       |   January 2002   -   January 2013     Maintaining and reconciling inventory through clerical support, using PeopleSoft to procure and receive shipments obtained by purchase order.  Create excel spread sheets for reports, manage inventory files and research inventory problems.  Conduct inventory cycle counts, coordinate stock and document transactions.  CSR): Provide Customer Service to Departmental and Fleet Maintenance Personnel, process work orders and fill Fleet Purchase Requisitions, contact vendors to procure fuel, parts and other automobile and truck supplies for fleet services.  Trainer: Forklift Operator Safety.         Company Name     Shipping: Fulfill orders with use of Infrared Scanning System (IFR).  Forklift operator: Four-stage electronic single person picker for order pulling and staging.  Word processing: Input shipping orders for USPS, UPS, FedEx, and other common carriers.  Prepare overseas containers for shipment; verify quantities, shipment labels and paperwork.         Company Name    WAREHOUSE FLOOR SUPERVISOR       |   January 1996   -   January 2001     Performance areas include: Interviewing prospective employees for higher.  Providing daily instruction to warehouse personnel and dispatching drivers for deliveries and pickups.  Routine cycle counts of inventory insure and verify, proper placement of inventory.  Receive all incoming shipments and verify counts create stock locations.  Maintain inventory and quality control procedures.  ACCOMPLISHMENTS Personal: Due to specialized training and procurement practices the City of Peoria had an annual savings of $1500.00 annually on costs of goods acquired by purchase order during career.  By developing a spreadsheet to record material requisitions and receiving logs, our department was able to stop purchasing preprinted forms from local vendor, as a result monthly operational cost were reduced.  Man hours during cycle counts and order pulling were also reduced through consolidating bulk inventory into more manageable amounts with the use of poly-bags rather than just dumping items into bin boxes.  Note: The points mentioned above are a small portion of the ideas introduced during career at City of Peoria.         Company Name    Aviation Structural Mechanic   |   City  ,   State         Line division supervisor assistant, plain captain while in line division.  Worked as an aircraft hydraulic and structural systems mechanic as a member of Naval Aircraft Squadron VS-38.  Received General under Honorable Conditions Discharge.  NJROTC, (Navy Junior Recruit Officer Training Corps).         Education      Bachelor\\'s Degree    Business Management Administration    Grand Canyon University    City  ,   State     Business Management Administration       Associate Degree        National Education Center    City  ,   State            Graduate        Naval Aviation A School    City  ,   State            Certified Trainer Forklift Truck Operator Safety\\nAutoCAD Certificate in Architectural Drafting\\nLlewellyn Technology, Certificate, Electro Mechanical Systems Repair        City  ,   State     Training also includes repair of Signode banding and tie wrapping machines, Synergy, Minipac-poly shrink film packaging systems, remove and replace damaged parts and components, and mechanical devices.       Skills    Architectural Drafting, AutoCAD, clerical, Customer Service, Data Entry, dispatching, drivers, film, Forklift, Forklift Operator, forms, instruction, inventory, Mechanical, mechanic, Excel, Microsoft Office, PowerPoint, Windows, Word, Navy, Naval, packaging, PeopleSoft, PeopleSoft 9.0, Personnel, presentations, procurement, purchasing, quality control, receiving, reconciling, research, Safety, Scanning, Shipping, spreadsheets, spread sheets, spreadsheet, supervisor, Trainer, Word Processing, Word Perfect    <div class=\"fontsize fontface vmargins hmargins linespacing pagesize\" id=\"document\"> <div class=\"section firstsection\" id=\"SECTION_NAME515694141\" style=\"\\n      padding-top:0px;\\n    \"> <div class=\"paragraph PARAGRAPH_NAME firstparagraph\" id=\"PARAGRAPH_515694141_1_336694356\"> <div class=\"name\" itemprop=\"name\"> <span class=\"field\" id=\"515694141FNAM1\"> </span> <span> </span> <span class=\"field\" id=\"515694141LNAM1\"> STOREKEEPER II</span> </div> </div> </div> <div class=\"section\" id=\"SECTION_SUMM515694145\" style=\"\\n      padding-top:0px;\\n    \"> <div class=\"heading\"> <div class=\"sectiontitle\" id=\"SECTNAME_SUMM515694145\"> Professional Summary</div> </div> <div class=\"paragraph smry firstparagraph\" id=\"PARAGRAPH_515694145_1_336694366\"> <div class=\"field singlecolumn\" id=\"515694145FRFM1\"> The purpose of this document is to secure a responsible career position that fully utilizes educational knowledge and experience while contributing to the goals and values of this organization. Having a friendly attitude and worm personality is an appreciated strong point, as it aided in building positive relationships with customers. As a result, repeat and satisfied customers were well known during career at Pioneer Packaging as well as while working for City of Peoria. Helping people is one of my best characteristics. Obtaining several years experience contacting vendors, answering phones and face to face contact with the public and governmental personnel has honed my customer service abilities. Problem solving skills and a positive work ethic makes communication easier. I am devoted and dedicated to serving in any way possible, and strive to accomplish assigned tasks quickly and efficiently. Exceptional people skills allow the ability to manage personnel and take care of conflicts, disputes and other personal needs of employees. Procurement and Purchasing: Over 10 years processing purchase orders. Primary vendor contact for Inventory Control and Fleet parts room purchases. Highly proficient utilizing inventory procurement practices and procedures. </div> </div> </div> <div class=\"section\" id=\"SECTION_HILT515694524\" style=\"\\n      padding-top:0px;\\n    \"> <div class=\"heading\"> <div class=\"sectiontitle\" id=\"SECTNAME_HILT515694524\"> Skills</div> </div> <div class=\"paragraph firstparagraph\" id=\"PARAGRAPH_515694524_1\"> <div class=\"singlecolumn maincolumn\"> <table class=\"twocol\"> <tbody> <tr> <td class=\"field twocol_1\" id=\"515694524SKC11\"> </td> <td class=\"field twocol_2\" id=\"515694524SKC21\"> </td> </tr> </tbody> </table> </div> </div> </div> <div class=\"section\" id=\"SECTION_EXPR515694143\" style=\"\\n      padding-top:0px;\\n    \"> <div class=\"heading\"> <div class=\"sectiontitle\" id=\"SECTNAME_EXPR515694143\"> Work History</div> </div> <div class=\"paragraph firstparagraph\" id=\"PARAGRAPH_515694143_1_336694358\" itemscope=\"\" itemtype=\"https://schema.org/Organization\"> <div class=\"singlecolumn\"> <span class=\"paddedline grayItl\" itemscope=\"\" itemtype=\"https://schema.org/postalAddress\"> <span class=\"jobtitle\" id=\"515694143JTIT1\"> STOREKEEPER II</span> <span class=\"joblocation\" id=\"515694143JCIT1\" itemprop=\"addressLocality\"> </span> <span class=\"joblocation\" id=\"515694143JSTA1\" itemprop=\"addressRegion\"> </span> <span>  | </span> <span class=\"jobdates\" format=\"%B %Y\" id=\"515694143JSTD1\"> January 2002</span> <span>  - </span> <span class=\"jobdates\" format=\"%B %Y\" id=\"515694143EDDT1\"> January 2013</span> </span> <span class=\"jobline\" id=\"515694143JDES1\" itemprop=\"description\"> <ul> <li> Maintaining and reconciling inventory through clerical support, using PeopleSoft to procure and receive shipments obtained by purchase order.</li> <li> Create excel spread sheets for reports, manage inventory files and research inventory problems.</li> <li> Conduct inventory cycle counts, coordinate stock and document transactions.</li> <li> CSR): Provide Customer Service to Departmental and Fleet Maintenance Personnel, process work orders and fill Fleet Purchase Requisitions, contact vendors to procure fuel, parts and other automobile and truck supplies for fleet services.</li> <li> Trainer: Forklift Operator Safety.</li> </ul> </span> </div> </div> <div class=\"paragraph\" id=\"PARAGRAPH_515694143_2_336694359\"> <div class=\"singlecolumn\"> <span class=\"paddedline\"> <span class=\"companyname\" id=\"515694143COMP2\" itemprop=\"name\"> Company Name</span> </span> <span class=\"jobline\" id=\"515694143JDES2\" itemprop=\"description\"> <ul> <li> Shipping: Fulfill orders with use of Infrared Scanning System (IFR).</li> <li> Forklift operator: Four-stage electronic single person picker for order pulling and staging.</li> <li> Word processing: Input shipping orders for USPS, UPS, FedEx, and other common carriers.</li> <li> Prepare overseas containers for shipment; verify quantities, shipment labels and paperwork.</li> </ul> </span> </div> </div> <div class=\"paragraph\" id=\"PARAGRAPH_515694143_3_336694360\" itemscope=\"\" itemtype=\"https://schema.org/Organization\"> <div class=\"singlecolumn\"> <span class=\"paddedline\"> <span class=\"companyname\" id=\"515694143COMP3\" itemprop=\"name\"> Company Name</span> </span> <span class=\"paddedline grayItl\" itemscope=\"\" itemtype=\"https://schema.org/postalAddress\"> <span class=\"jobtitle\" id=\"515694143JTIT3\"> WAREHOUSE FLOOR SUPERVISOR</span> <span class=\"joblocation\" id=\"515694143JCIT3\" itemprop=\"addressLocality\"> </span> <span class=\"joblocation\" id=\"515694143JSTA3\" itemprop=\"addressRegion\"> </span> <span>  | </span> <span class=\"jobdates\" format=\"%B %Y\" id=\"515694143JSTD3\"> January 1996</span> <span>  - </span> <span class=\"jobdates\" format=\"%B %Y\" id=\"515694143EDDT3\"> January 2001</span> </span> <span class=\"jobline\" id=\"515694143JDES3\" itemprop=\"description\"> <ul> <li> Performance areas include: Interviewing prospective employees for higher.</li> <li> Providing daily instruction to warehouse personnel and dispatching drivers for deliveries and pickups.</li> <li> Routine cycle counts of inventory insure and verify, proper placement of inventory.</li> <li> Receive all incoming shipments and verify counts create stock locations.</li> <li> Maintain inventory and quality control procedures.</li> <li> ACCOMPLISHMENTS Personal: Due to specialized training and procurement practices the City of Peoria had an annual savings of $1500.00 annually on costs of goods acquired by purchase order during career.</li> <li> By developing a spreadsheet to record material requisitions and receiving logs, our department was able to stop purchasing preprinted forms from local vendor, as a result monthly operational cost were reduced.</li> <li> Man hours during cycle counts and order pulling were also reduced through consolidating bulk inventory into more manageable amounts with the use of poly-bags rather than just dumping items into bin boxes.</li> <li> Note: The points mentioned above are a small portion of the ideas introduced during career at City of Peoria.</li> </ul> </span> </div> </div> <div class=\"paragraph\" id=\"PARAGRAPH_515694143_4_336694361\" itemscope=\"\" itemtype=\"https://schema.org/Organization\"> <div class=\"singlecolumn\"> <span class=\"paddedline\"> <span class=\"companyname\" id=\"515694143COMP4\" itemprop=\"name\"> Company Name</span> </span> <span class=\"paddedline grayItl\" itemscope=\"\" itemtype=\"https://schema.org/postalAddress\"> <span class=\"jobtitle\" id=\"515694143JTIT4\"> Aviation Structural Mechanic</span> <span>  | </span> <span class=\"joblocation\" id=\"515694143JCIT4\" itemprop=\"addressLocality\"> City</span> <span> , </span> <span class=\"joblocation\" id=\"515694143JSTA4\" itemprop=\"addressRegion\"> State</span> <span class=\"jobdates\" format=\"%B %Y\" id=\"515694143JSTD4\"> </span> <span class=\"jobdates\" format=\"%B %Y\" id=\"515694143EDDT4\"> </span> </span> <span class=\"jobline\" id=\"515694143JDES4\" itemprop=\"description\"> <ul> <li> Line division supervisor assistant, plain captain while in line division.</li> <li> Worked as an aircraft hydraulic and structural systems mechanic as a member of Naval Aircraft Squadron VS-38.</li> <li> Received General under Honorable Conditions Discharge.</li> <li> NJROTC, (Navy Junior Recruit Officer Training Corps).</li> </ul> </span> </div> </div> </div> <div class=\"section\" id=\"SECTION_EDUC515694144\" style=\"\\n      padding-top:0px;\\n    \"> <div class=\"heading\"> <div class=\"sectiontitle\" id=\"SECTNAME_EDUC515694144\"> Education</div> </div> <div class=\"paragraph firstparagraph\" id=\"PARAGRAPH_515694144_1_336694362\" itemscope=\"\" itemtype=\"https://schema.org/EducationalOrganization\"> <div class=\"singlecolumn\"> <span class=\"paddedline\" itemprop=\"description\"> <span class=\"degree\" id=\"515694144DGRE1\" itemprop=\"name\"> Bachelor\\'s Degree</span> <span> </span> <span class=\"programline\" id=\"515694144STUY1\"> Business Management Administration</span> </span> <span class=\"paddedline\"> <span id=\"515694144SCHO1\"> Grand Canyon University</span> </span> <span class=\"paddedline grayItl\"> <span id=\"515694144SCIT1\"> City</span> <span> , </span> <span id=\"515694144SSTA1\"> State</span> <span id=\"515694144GRYR1\"> </span> </span> <span class=\"field\" id=\"515694144FRFM1\"> Business Management Administration</span> </div> </div> <div class=\"paragraph\" id=\"PARAGRAPH_515694144_2_336694363\" itemscope=\"\" itemtype=\"https://schema.org/EducationalOrganization\"> <div class=\"singlecolumn\"> <span class=\"paddedline\" itemprop=\"description\"> <span class=\"degree\" id=\"515694144DGRE2\" itemprop=\"name\"> Associate Degree</span> <span> </span> <span class=\"programline\" id=\"515694144STUY2\"> </span> </span> <span class=\"paddedline\"> <span id=\"515694144SCHO2\"> National Education Center</span> </span> <span class=\"paddedline grayItl\"> <span id=\"515694144SCIT2\"> City</span> <span> , </span> <span id=\"515694144SSTA2\"> State</span> <span id=\"515694144GRYR2\"> </span> </span> <span class=\"field\" id=\"515694144FRFM2\"> </span> </div> </div> <div class=\"paragraph\" id=\"PARAGRAPH_515694144_3_336694364\" itemscope=\"\" itemtype=\"https://schema.org/EducationalOrganization\"> <div class=\"singlecolumn\"> <span class=\"paddedline\" itemprop=\"description\"> <span class=\"degree\" id=\"515694144DGRE3\" itemprop=\"name\"> Graduate</span> <span> </span> <span class=\"programline\" id=\"515694144STUY3\"> </span> </span> <span class=\"paddedline\"> <span id=\"515694144SCHO3\"> Naval Aviation A School</span> </span> <span class=\"paddedline grayItl\"> <span id=\"515694144SCIT3\"> City</span> <span> , </span> <span id=\"515694144SSTA3\"> State</span> <span id=\"515694144GRYR3\"> </span> </span> <span class=\"field\" id=\"515694144FRFM3\"> </span> </div> </div> <div class=\"paragraph\" id=\"PARAGRAPH_515694144_4_336694365\" itemscope=\"\" itemtype=\"https://schema.org/EducationalOrganization\"> <div class=\"singlecolumn\"> <span class=\"paddedline\" itemprop=\"description\"> <span class=\"degree\" id=\"515694144DGRE4\" itemprop=\"name\"> Certified Trainer Forklift Truck Operator Safety\\nAutoCAD Certificate in Architectural Drafting\\nLlewellyn Technology, Certificate, Electro Mechanical Systems Repair</span> <span> </span> <span class=\"programline\" id=\"515694144STUY4\"> </span> </span> <span class=\"paddedline grayItl\"> <span id=\"515694144SCIT4\"> City</span> <span> , </span> <span id=\"515694144SSTA4\"> State</span> <span id=\"515694144GRYR4\"> </span> </span> <span class=\"field\" id=\"515694144FRFM4\"> Training also includes repair of Signode banding and tie wrapping machines, Synergy, Minipac-poly shrink film packaging systems, remove and replace damaged parts and components, and mechanical devices.</span> </div> </div> </div> <div class=\"section\" id=\"SECTION_SKLL515694147\" style=\"\\n      padding-top:0px;\\n    \"> <div class=\"heading\"> <div class=\"sectiontitle\" id=\"SECTNAME_SKLL515694147\"> Skills</div> </div> <div class=\"paragraph firstparagraph\" id=\"PARAGRAPH_515694147_1_336694368\"> <div class=\"field singlecolumn\" id=\"515694147FRFM1\"> Architectural Drafting, AutoCAD, clerical, Customer Service, Data Entry, dispatching, drivers, film, Forklift, Forklift Operator, forms, instruction, inventory, Mechanical, mechanic, Excel, Microsoft Office, PowerPoint, Windows, Word, Navy, Naval, packaging, PeopleSoft, PeopleSoft 9.0, Personnel, presentations, procurement, purchasing, quality control, receiving, reconciling, research, Safety, Scanning, Shipping, spreadsheets, spread sheets, spreadsheet, supervisor, Trainer, Word Processing, Word Perfect</div> </div> </div> </div>']\n"
     ]
    }
   ],
   "source": [
    "print(x)"
   ]
  },
  {
   "cell_type": "code",
   "execution_count": 15,
   "metadata": {},
   "outputs": [
    {
     "name": "stdout",
     "output_type": "stream",
     "text": [
      "['HR' 'HR' 'HR' ... 'AVIATION' 'AVIATION' 'AVIATION']\n"
     ]
    }
   ],
   "source": [
    "print(y)"
   ]
  },
  {
   "cell_type": "code",
   "execution_count": 16,
   "metadata": {},
   "outputs": [
    {
     "data": {
      "text/plain": [
       "(2484,)"
      ]
     },
     "execution_count": 16,
     "metadata": {},
     "output_type": "execute_result"
    }
   ],
   "source": [
    "y.shape "
   ]
  },
  {
   "cell_type": "code",
   "execution_count": 17,
   "metadata": {},
   "outputs": [],
   "source": [
    "# Data preprocessing \n",
    "from sklearn.feature_extraction.text import TfidfVectorizer\n",
    "vectorizer = TfidfVectorizer()\n",
    "vectorizer.fit(x)\n",
    "X= vectorizer.transform(x)"
   ]
  },
  {
   "cell_type": "code",
   "execution_count": 18,
   "metadata": {},
   "outputs": [
    {
     "name": "stdout",
     "output_type": "stream",
     "text": [
      "  (0, 257341)\t0.008162367797525435\n",
      "  (0, 257078)\t0.022201252993322877\n",
      "  (0, 257030)\t0.018429082860566905\n",
      "  (0, 256898)\t0.03355927944380418\n",
      "  (0, 256688)\t0.009608532984148835\n",
      "  (0, 256565)\t0.008383662887864405\n",
      "  (0, 256506)\t0.029669689175267674\n",
      "  (0, 256021)\t0.002367372936947248\n",
      "  (0, 255529)\t0.00905998595221493\n",
      "  (0, 255428)\t0.023314957134625097\n",
      "  (0, 255299)\t0.011870484049256398\n",
      "  (0, 254926)\t0.016564507560737143\n",
      "  (0, 254789)\t0.03847714621033128\n",
      "  (0, 254668)\t0.002946218756184396\n",
      "  (0, 254667)\t0.002946218756184396\n",
      "  (0, 254666)\t0.002946218756184396\n",
      "  (0, 254313)\t0.022768253014878954\n",
      "  (0, 254198)\t0.01927731454924572\n",
      "  (0, 254167)\t0.026293517630774196\n",
      "  (0, 254143)\t0.0258531527881769\n",
      "  (0, 254140)\t0.017209766260598624\n",
      "  (0, 254137)\t0.02141772426772363\n",
      "  (0, 254097)\t0.01658776481110911\n",
      "  (0, 254055)\t0.005887573338326219\n",
      "  (0, 253921)\t0.050035962549314396\n",
      "  :\t:\n",
      "  (2483, 36604)\t0.02179084016024615\n",
      "  (2483, 36603)\t0.02179084016024615\n",
      "  (2483, 36602)\t0.02179084016024615\n",
      "  (2483, 36601)\t0.02179084016024615\n",
      "  (2483, 36600)\t0.02179084016024615\n",
      "  (2483, 36599)\t0.02179084016024615\n",
      "  (2483, 36598)\t0.02179084016024615\n",
      "  (2483, 36597)\t0.02179084016024615\n",
      "  (2483, 36596)\t0.02179084016024615\n",
      "  (2483, 36595)\t0.02179084016024615\n",
      "  (2483, 36594)\t0.02179084016024615\n",
      "  (2483, 36593)\t0.02179084016024615\n",
      "  (2483, 36592)\t0.02179084016024615\n",
      "  (2483, 36591)\t0.02179084016024615\n",
      "  (2483, 36590)\t0.02179084016024615\n",
      "  (2483, 36589)\t0.02179084016024615\n",
      "  (2483, 18836)\t0.03184172996346558\n",
      "  (2483, 14854)\t0.009812274209554144\n",
      "  (2483, 14820)\t0.015218243920773707\n",
      "  (2483, 14815)\t0.015458523702857522\n",
      "  (2483, 13972)\t0.018433670586721268\n",
      "  (2483, 13363)\t0.03161126030152189\n",
      "  (2483, 1469)\t0.010650972822475012\n",
      "  (2483, 1466)\t0.017463252455190263\n",
      "  (2483, 0)\t0.026130511712706576\n"
     ]
    }
   ],
   "source": [
    "print(X)"
   ]
  },
  {
   "cell_type": "code",
   "execution_count": 19,
   "metadata": {},
   "outputs": [
    {
     "data": {
      "text/plain": [
       "array([[0.        , 0.        , 0.        , ..., 0.        , 0.        ,\n",
       "        0.        ],\n",
       "       [0.        , 0.01179964, 0.        , ..., 0.        , 0.        ,\n",
       "        0.        ],\n",
       "       [0.        , 0.        , 0.        , ..., 0.        , 0.        ,\n",
       "        0.        ],\n",
       "       ...,\n",
       "       [0.        , 0.        , 0.        , ..., 0.        , 0.        ,\n",
       "        0.        ],\n",
       "       [0.        , 0.        , 0.        , ..., 0.        , 0.        ,\n",
       "        0.        ],\n",
       "       [0.02613051, 0.        , 0.        , ..., 0.        , 0.        ,\n",
       "        0.        ]])"
      ]
     },
     "execution_count": 19,
     "metadata": {},
     "output_type": "execute_result"
    }
   ],
   "source": [
    "X.toarray()"
   ]
  },
  {
   "cell_type": "code",
   "execution_count": 20,
   "metadata": {},
   "outputs": [],
   "source": [
    "from sklearn.model_selection import train_test_split  "
   ]
  },
  {
   "cell_type": "code",
   "execution_count": 21,
   "metadata": {},
   "outputs": [],
   "source": [
    "xtrain,xtest,ytrain,ytest=train_test_split(X,y,test_size=0.3, random_state=1)  # Split the data"
   ]
  },
  {
   "cell_type": "code",
   "execution_count": 22,
   "metadata": {},
   "outputs": [],
   "source": [
    "from sklearn.naive_bayes import MultinomialNB"
   ]
  },
  {
   "cell_type": "code",
   "execution_count": 23,
   "metadata": {},
   "outputs": [],
   "source": [
    "model=MultinomialNB()  # Initialize the model"
   ]
  },
  {
   "cell_type": "code",
   "execution_count": 24,
   "metadata": {},
   "outputs": [
    {
     "data": {
      "text/plain": [
       "MultinomialNB()"
      ]
     },
     "execution_count": 24,
     "metadata": {},
     "output_type": "execute_result"
    }
   ],
   "source": [
    "model.fit(xtrain,ytrain)   # Train the model"
   ]
  },
  {
   "cell_type": "code",
   "execution_count": 25,
   "metadata": {},
   "outputs": [
    {
     "data": {
      "text/plain": [
       "0.4155495978552279"
      ]
     },
     "execution_count": 25,
     "metadata": {},
     "output_type": "execute_result"
    }
   ],
   "source": [
    "model.score(xtest,ytest)  # model Accuracy"
   ]
  },
  {
   "cell_type": "code",
   "execution_count": 26,
   "metadata": {},
   "outputs": [],
   "source": [
    "pred=model.predict(xtest)"
   ]
  },
  {
   "cell_type": "code",
   "execution_count": 27,
   "metadata": {},
   "outputs": [
    {
     "data": {
      "text/plain": [
       "array(['SALES', 'SALES', 'INFORMATION-TECHNOLOGY', 'FINANCE', 'CHEF',\n",
       "       'BANKING', 'SALES', 'ACCOUNTANT', 'SALES',\n",
       "       'INFORMATION-TECHNOLOGY', 'ACCOUNTANT', 'AVIATION', 'ACCOUNTANT',\n",
       "       'PUBLIC-RELATIONS', 'ADVOCATE', 'INFORMATION-TECHNOLOGY', 'SALES',\n",
       "       'BUSINESS-DEVELOPMENT', 'FITNESS', 'TEACHER',\n",
       "       'INFORMATION-TECHNOLOGY', 'FITNESS', 'INFORMATION-TECHNOLOGY',\n",
       "       'CONSTRUCTION', 'ADVOCATE', 'INFORMATION-TECHNOLOGY', 'SALES',\n",
       "       'CONSTRUCTION', 'INFORMATION-TECHNOLOGY', 'INFORMATION-TECHNOLOGY',\n",
       "       'HR', 'PUBLIC-RELATIONS', 'BUSINESS-DEVELOPMENT',\n",
       "       'PUBLIC-RELATIONS', 'AVIATION', 'TEACHER', 'PUBLIC-RELATIONS',\n",
       "       'BUSINESS-DEVELOPMENT', 'HR', 'SALES', 'TEACHER', 'SALES',\n",
       "       'PUBLIC-RELATIONS', 'TEACHER', 'PUBLIC-RELATIONS', 'FITNESS',\n",
       "       'PUBLIC-RELATIONS', 'ADVOCATE', 'ENGINEERING', 'FINANCE', 'CHEF',\n",
       "       'AVIATION', 'FITNESS', 'PUBLIC-RELATIONS', 'SALES', 'TEACHER',\n",
       "       'PUBLIC-RELATIONS', 'PUBLIC-RELATIONS', 'ACCOUNTANT', 'SALES',\n",
       "       'INFORMATION-TECHNOLOGY', 'FITNESS', 'INFORMATION-TECHNOLOGY',\n",
       "       'PUBLIC-RELATIONS', 'ADVOCATE', 'ENGINEERING',\n",
       "       'BUSINESS-DEVELOPMENT', 'PUBLIC-RELATIONS', 'ADVOCATE', 'HR', 'HR',\n",
       "       'ACCOUNTANT', 'PUBLIC-RELATIONS', 'ADVOCATE', 'HR', 'CHEF',\n",
       "       'ACCOUNTANT', 'FITNESS', 'CHEF', 'ENGINEERING', 'SALES', 'HR',\n",
       "       'INFORMATION-TECHNOLOGY', 'SALES', 'INFORMATION-TECHNOLOGY',\n",
       "       'INFORMATION-TECHNOLOGY', 'BUSINESS-DEVELOPMENT', 'SALES',\n",
       "       'FITNESS', 'TEACHER', 'ADVOCATE', 'AVIATION', 'SALES',\n",
       "       'INFORMATION-TECHNOLOGY', 'INFORMATION-TECHNOLOGY', 'ACCOUNTANT',\n",
       "       'ADVOCATE', 'PUBLIC-RELATIONS', 'INFORMATION-TECHNOLOGY',\n",
       "       'FINANCE', 'ADVOCATE', 'HR', 'INFORMATION-TECHNOLOGY', 'SALES',\n",
       "       'SALES', 'SALES', 'ADVOCATE', 'ADVOCATE', 'AVIATION', 'ACCOUNTANT',\n",
       "       'ADVOCATE', 'SALES', 'HR', 'ENGINEERING', 'HR', 'FINANCE', 'HR',\n",
       "       'SALES', 'BANKING', 'INFORMATION-TECHNOLOGY',\n",
       "       'INFORMATION-TECHNOLOGY', 'TEACHER', 'FITNESS', 'FINANCE',\n",
       "       'ENGINEERING', 'ADVOCATE', 'PUBLIC-RELATIONS', 'CHEF', 'SALES',\n",
       "       'SALES', 'INFORMATION-TECHNOLOGY', 'FITNESS', 'FINANCE',\n",
       "       'INFORMATION-TECHNOLOGY', 'ACCOUNTANT', 'INFORMATION-TECHNOLOGY',\n",
       "       'SALES', 'TEACHER', 'BUSINESS-DEVELOPMENT', 'ENGINEERING',\n",
       "       'ADVOCATE', 'ADVOCATE', 'PUBLIC-RELATIONS', 'ADVOCATE',\n",
       "       'INFORMATION-TECHNOLOGY', 'SALES', 'INFORMATION-TECHNOLOGY',\n",
       "       'DESIGNER', 'PUBLIC-RELATIONS', 'INFORMATION-TECHNOLOGY', 'SALES',\n",
       "       'CHEF', 'HR', 'ADVOCATE', 'HR', 'ADVOCATE', 'HR',\n",
       "       'INFORMATION-TECHNOLOGY', 'SALES', 'ACCOUNTANT', 'CHEF',\n",
       "       'PUBLIC-RELATIONS', 'AVIATION', 'HR', 'ACCOUNTANT',\n",
       "       'PUBLIC-RELATIONS', 'HR', 'PUBLIC-RELATIONS', 'HR',\n",
       "       'BUSINESS-DEVELOPMENT', 'ADVOCATE', 'DESIGNER', 'HR', 'TEACHER',\n",
       "       'ACCOUNTANT', 'BANKING', 'CHEF', 'SALES', 'ACCOUNTANT', 'AVIATION',\n",
       "       'HR', 'SALES', 'INFORMATION-TECHNOLOGY', 'ACCOUNTANT', 'FINANCE',\n",
       "       'PUBLIC-RELATIONS', 'HR', 'CHEF', 'INFORMATION-TECHNOLOGY',\n",
       "       'PUBLIC-RELATIONS', 'AVIATION', 'ADVOCATE', 'FINANCE',\n",
       "       'PUBLIC-RELATIONS', 'FINANCE', 'INFORMATION-TECHNOLOGY', 'HR',\n",
       "       'SALES', 'ADVOCATE', 'SALES', 'AVIATION', 'ADVOCATE', 'AVIATION',\n",
       "       'HR', 'HR', 'AVIATION', 'SALES', 'AVIATION', 'ADVOCATE', 'FINANCE',\n",
       "       'SALES', 'AVIATION', 'AVIATION', 'CHEF', 'BUSINESS-DEVELOPMENT',\n",
       "       'FITNESS', 'SALES', 'INFORMATION-TECHNOLOGY', 'ACCOUNTANT',\n",
       "       'SALES', 'HR', 'CHEF', 'TEACHER', 'FITNESS', 'HR', 'CHEF',\n",
       "       'AVIATION', 'SALES', 'FINANCE', 'INFORMATION-TECHNOLOGY',\n",
       "       'ENGINEERING', 'INFORMATION-TECHNOLOGY', 'INFORMATION-TECHNOLOGY',\n",
       "       'INFORMATION-TECHNOLOGY', 'BANKING', 'ACCOUNTANT', 'ADVOCATE',\n",
       "       'FINANCE', 'SALES', 'PUBLIC-RELATIONS', 'ADVOCATE',\n",
       "       'BUSINESS-DEVELOPMENT', 'HR', 'ENGINEERING', 'ADVOCATE',\n",
       "       'ENGINEERING', 'SALES', 'HR', 'ADVOCATE', 'CHEF', 'DESIGNER',\n",
       "       'BANKING', 'AVIATION', 'HEALTHCARE', 'HR',\n",
       "       'INFORMATION-TECHNOLOGY', 'FITNESS', 'TEACHER',\n",
       "       'INFORMATION-TECHNOLOGY', 'SALES', 'SALES',\n",
       "       'INFORMATION-TECHNOLOGY', 'INFORMATION-TECHNOLOGY',\n",
       "       'PUBLIC-RELATIONS', 'CHEF', 'INFORMATION-TECHNOLOGY', 'SALES',\n",
       "       'TEACHER', 'CHEF', 'FITNESS', 'PUBLIC-RELATIONS', 'BANKING',\n",
       "       'PUBLIC-RELATIONS', 'ADVOCATE', 'BUSINESS-DEVELOPMENT', 'HR',\n",
       "       'BUSINESS-DEVELOPMENT', 'PUBLIC-RELATIONS',\n",
       "       'INFORMATION-TECHNOLOGY', 'PUBLIC-RELATIONS', 'ENGINEERING',\n",
       "       'PUBLIC-RELATIONS', 'INFORMATION-TECHNOLOGY', 'ACCOUNTANT',\n",
       "       'PUBLIC-RELATIONS', 'HR', 'INFORMATION-TECHNOLOGY', 'FINANCE',\n",
       "       'FITNESS', 'SALES', 'BANKING', 'CHEF', 'ACCOUNTANT', 'SALES',\n",
       "       'ENGINEERING', 'AVIATION', 'ADVOCATE', 'ACCOUNTANT', 'ADVOCATE',\n",
       "       'ADVOCATE', 'FINANCE', 'INFORMATION-TECHNOLOGY',\n",
       "       'INFORMATION-TECHNOLOGY', 'PUBLIC-RELATIONS', 'AVIATION',\n",
       "       'FINANCE', 'SALES', 'CHEF', 'CONSTRUCTION', 'ENGINEERING',\n",
       "       'ACCOUNTANT', 'SALES', 'HR', 'SALES', 'INFORMATION-TECHNOLOGY',\n",
       "       'ENGINEERING', 'ENGINEERING', 'SALES', 'SALES', 'FINANCE',\n",
       "       'BANKING', 'ADVOCATE', 'INFORMATION-TECHNOLOGY', 'ADVOCATE',\n",
       "       'INFORMATION-TECHNOLOGY', 'FINANCE', 'INFORMATION-TECHNOLOGY',\n",
       "       'INFORMATION-TECHNOLOGY', 'HR', 'AVIATION', 'ADVOCATE', 'FITNESS',\n",
       "       'ADVOCATE', 'ACCOUNTANT', 'SALES', 'ACCOUNTANT', 'ACCOUNTANT',\n",
       "       'ENGINEERING', 'PUBLIC-RELATIONS', 'SALES', 'ENGINEERING', 'SALES',\n",
       "       'HR', 'INFORMATION-TECHNOLOGY', 'ADVOCATE', 'SALES', 'HR',\n",
       "       'FINANCE', 'SALES', 'FITNESS', 'DESIGNER', 'SALES',\n",
       "       'PUBLIC-RELATIONS', 'ACCOUNTANT', 'SALES', 'ACCOUNTANT', 'CHEF',\n",
       "       'HR', 'AVIATION', 'SALES', 'FINANCE', 'ADVOCATE', 'CHEF', 'SALES',\n",
       "       'SALES', 'PUBLIC-RELATIONS', 'HR', 'FITNESS',\n",
       "       'INFORMATION-TECHNOLOGY', 'ADVOCATE', 'FITNESS', 'ACCOUNTANT',\n",
       "       'AVIATION', 'PUBLIC-RELATIONS', 'ADVOCATE',\n",
       "       'INFORMATION-TECHNOLOGY', 'HR', 'TEACHER', 'SALES',\n",
       "       'PUBLIC-RELATIONS', 'AVIATION', 'ACCOUNTANT', 'ACCOUNTANT', 'HR',\n",
       "       'TEACHER', 'PUBLIC-RELATIONS', 'SALES', 'INFORMATION-TECHNOLOGY',\n",
       "       'INFORMATION-TECHNOLOGY', 'PUBLIC-RELATIONS', 'ACCOUNTANT',\n",
       "       'INFORMATION-TECHNOLOGY', 'ACCOUNTANT', 'FINANCE', 'FITNESS',\n",
       "       'INFORMATION-TECHNOLOGY', 'ADVOCATE', 'FITNESS', 'ADVOCATE',\n",
       "       'PUBLIC-RELATIONS', 'AVIATION', 'SALES', 'SALES', 'HR', 'BANKING',\n",
       "       'PUBLIC-RELATIONS', 'PUBLIC-RELATIONS', 'ENGINEERING',\n",
       "       'PUBLIC-RELATIONS', 'SALES', 'ADVOCATE', 'ACCOUNTANT',\n",
       "       'CONSTRUCTION', 'PUBLIC-RELATIONS', 'SALES', 'HR',\n",
       "       'INFORMATION-TECHNOLOGY', 'HR', 'TEACHER', 'TEACHER', 'ADVOCATE',\n",
       "       'SALES', 'ADVOCATE', 'CHEF', 'ADVOCATE', 'PUBLIC-RELATIONS',\n",
       "       'PUBLIC-RELATIONS', 'SALES', 'AVIATION', 'PUBLIC-RELATIONS',\n",
       "       'ACCOUNTANT', 'ENGINEERING', 'HR', 'ADVOCATE', 'SALES',\n",
       "       'INFORMATION-TECHNOLOGY', 'SALES', 'CHEF',\n",
       "       'INFORMATION-TECHNOLOGY', 'ACCOUNTANT', 'AVIATION', 'ENGINEERING',\n",
       "       'PUBLIC-RELATIONS', 'SALES', 'ACCOUNTANT', 'SALES',\n",
       "       'PUBLIC-RELATIONS', 'PUBLIC-RELATIONS', 'HR',\n",
       "       'INFORMATION-TECHNOLOGY', 'DESIGNER', 'INFORMATION-TECHNOLOGY',\n",
       "       'HR', 'INFORMATION-TECHNOLOGY', 'ENGINEERING',\n",
       "       'INFORMATION-TECHNOLOGY', 'CONSTRUCTION', 'SALES', 'FINANCE',\n",
       "       'ENGINEERING', 'AVIATION', 'PUBLIC-RELATIONS', 'SALES', 'ADVOCATE',\n",
       "       'ACCOUNTANT', 'HR', 'FINANCE', 'AVIATION', 'ADVOCATE', 'CHEF',\n",
       "       'ADVOCATE', 'ADVOCATE', 'AVIATION', 'ADVOCATE',\n",
       "       'INFORMATION-TECHNOLOGY', 'SALES', 'ADVOCATE', 'ACCOUNTANT',\n",
       "       'ADVOCATE', 'FITNESS', 'BANKING', 'ADVOCATE', 'ENGINEERING',\n",
       "       'AVIATION', 'TEACHER', 'ENGINEERING', 'ENGINEERING', 'AVIATION',\n",
       "       'FINANCE', 'AVIATION', 'PUBLIC-RELATIONS',\n",
       "       'INFORMATION-TECHNOLOGY', 'DESIGNER', 'ENGINEERING', 'ENGINEERING',\n",
       "       'ADVOCATE', 'SALES', 'ENGINEERING', 'ADVOCATE',\n",
       "       'INFORMATION-TECHNOLOGY', 'CHEF', 'SALES', 'FINANCE', 'HR',\n",
       "       'BUSINESS-DEVELOPMENT', 'SALES', 'ENGINEERING', 'SALES',\n",
       "       'CONSTRUCTION', 'SALES', 'HR', 'ADVOCATE', 'FITNESS', 'ADVOCATE',\n",
       "       'SALES', 'TEACHER', 'ACCOUNTANT', 'DESIGNER', 'ADVOCATE',\n",
       "       'ACCOUNTANT', 'ACCOUNTANT', 'BANKING', 'AVIATION', 'SALES',\n",
       "       'ADVOCATE', 'FINANCE', 'CONSTRUCTION', 'INFORMATION-TECHNOLOGY',\n",
       "       'ADVOCATE', 'SALES', 'DESIGNER', 'HR', 'FITNESS', 'ADVOCATE',\n",
       "       'PUBLIC-RELATIONS', 'INFORMATION-TECHNOLOGY', 'ACCOUNTANT',\n",
       "       'TEACHER', 'ACCOUNTANT', 'SALES', 'PUBLIC-RELATIONS', 'SALES',\n",
       "       'INFORMATION-TECHNOLOGY', 'ADVOCATE', 'SALES', 'ENGINEERING',\n",
       "       'ADVOCATE', 'SALES', 'HR', 'ADVOCATE', 'AVIATION', 'ACCOUNTANT',\n",
       "       'TEACHER', 'ACCOUNTANT', 'ADVOCATE', 'DESIGNER', 'FINANCE',\n",
       "       'PUBLIC-RELATIONS', 'FITNESS', 'CONSTRUCTION', 'SALES',\n",
       "       'PUBLIC-RELATIONS', 'ADVOCATE', 'PUBLIC-RELATIONS', 'FINANCE',\n",
       "       'AVIATION', 'ACCOUNTANT', 'CONSTRUCTION', 'SALES',\n",
       "       'INFORMATION-TECHNOLOGY', 'AVIATION', 'AVIATION', 'DESIGNER',\n",
       "       'ADVOCATE', 'HR', 'HR', 'ENGINEERING', 'TEACHER', 'TEACHER',\n",
       "       'ADVOCATE', 'ADVOCATE', 'ADVOCATE', 'CHEF', 'FINANCE', 'HR',\n",
       "       'SALES', 'INFORMATION-TECHNOLOGY', 'AVIATION', 'CHEF', 'BANKING',\n",
       "       'ADVOCATE', 'SALES', 'INFORMATION-TECHNOLOGY', 'SALES',\n",
       "       'ACCOUNTANT', 'ADVOCATE', 'SALES', 'TEACHER', 'FINANCE',\n",
       "       'ADVOCATE', 'ACCOUNTANT', 'ENGINEERING', 'HR', 'ADVOCATE',\n",
       "       'DESIGNER', 'PUBLIC-RELATIONS', 'BANKING', 'PUBLIC-RELATIONS',\n",
       "       'AVIATION', 'INFORMATION-TECHNOLOGY', 'ADVOCATE', 'TEACHER',\n",
       "       'SALES', 'FINANCE', 'FINANCE', 'CHEF', 'BANKING', 'ADVOCATE',\n",
       "       'AVIATION', 'ADVOCATE', 'FINANCE', 'ACCOUNTANT',\n",
       "       'INFORMATION-TECHNOLOGY', 'BANKING', 'BUSINESS-DEVELOPMENT', 'HR',\n",
       "       'SALES', 'HR', 'SALES', 'ADVOCATE', 'ADVOCATE', 'ACCOUNTANT',\n",
       "       'PUBLIC-RELATIONS', 'SALES', 'SALES', 'ADVOCATE', 'FITNESS', 'HR',\n",
       "       'FINANCE', 'ENGINEERING', 'ADVOCATE', 'TEACHER', 'ENGINEERING',\n",
       "       'AVIATION', 'DESIGNER', 'INFORMATION-TECHNOLOGY', 'SALES',\n",
       "       'INFORMATION-TECHNOLOGY', 'INFORMATION-TECHNOLOGY', 'SALES',\n",
       "       'ACCOUNTANT', 'FINANCE', 'ACCOUNTANT', 'BUSINESS-DEVELOPMENT',\n",
       "       'SALES', 'SALES', 'FINANCE', 'SALES', 'BUSINESS-DEVELOPMENT',\n",
       "       'AVIATION', 'FITNESS', 'ACCOUNTANT', 'PUBLIC-RELATIONS',\n",
       "       'INFORMATION-TECHNOLOGY', 'CHEF', 'SALES', 'HR',\n",
       "       'INFORMATION-TECHNOLOGY', 'HR', 'SALES', 'FINANCE', 'BANKING',\n",
       "       'INFORMATION-TECHNOLOGY', 'SALES', 'INFORMATION-TECHNOLOGY',\n",
       "       'PUBLIC-RELATIONS', 'PUBLIC-RELATIONS', 'BUSINESS-DEVELOPMENT',\n",
       "       'SALES', 'SALES', 'CONSTRUCTION', 'FITNESS', 'SALES',\n",
       "       'INFORMATION-TECHNOLOGY', 'SALES', 'FITNESS', 'PUBLIC-RELATIONS',\n",
       "       'TEACHER', 'AVIATION', 'ENGINEERING', 'INFORMATION-TECHNOLOGY',\n",
       "       'ADVOCATE', 'SALES', 'INFORMATION-TECHNOLOGY',\n",
       "       'INFORMATION-TECHNOLOGY', 'HR', 'INFORMATION-TECHNOLOGY',\n",
       "       'AVIATION', 'TEACHER', 'INFORMATION-TECHNOLOGY', 'CHEF',\n",
       "       'AVIATION', 'INFORMATION-TECHNOLOGY', 'AVIATION', 'SALES', 'CHEF',\n",
       "       'ACCOUNTANT', 'HR', 'FITNESS', 'ADVOCATE', 'ADVOCATE', 'BANKING',\n",
       "       'ACCOUNTANT', 'INFORMATION-TECHNOLOGY', 'CHEF',\n",
       "       'INFORMATION-TECHNOLOGY', 'INFORMATION-TECHNOLOGY', 'ACCOUNTANT',\n",
       "       'PUBLIC-RELATIONS', 'PUBLIC-RELATIONS', 'HR', 'AVIATION', 'HR',\n",
       "       'ACCOUNTANT', 'INFORMATION-TECHNOLOGY', 'SALES', 'ACCOUNTANT',\n",
       "       'CONSTRUCTION', 'FINANCE', 'INFORMATION-TECHNOLOGY', 'ADVOCATE',\n",
       "       'INFORMATION-TECHNOLOGY', 'ACCOUNTANT', 'ADVOCATE', 'CHEF',\n",
       "       'ACCOUNTANT', 'PUBLIC-RELATIONS', 'ADVOCATE', 'PUBLIC-RELATIONS',\n",
       "       'SALES', 'PUBLIC-RELATIONS', 'HR', 'INFORMATION-TECHNOLOGY',\n",
       "       'ADVOCATE', 'BUSINESS-DEVELOPMENT', 'HR'], dtype='<U22')"
      ]
     },
     "execution_count": 27,
     "metadata": {},
     "output_type": "execute_result"
    }
   ],
   "source": [
    "pred"
   ]
  },
  {
   "cell_type": "code",
   "execution_count": 28,
   "metadata": {},
   "outputs": [],
   "source": [
    "from sklearn.metrics import accuracy_score"
   ]
  },
  {
   "cell_type": "code",
   "execution_count": 29,
   "metadata": {},
   "outputs": [
    {
     "data": {
      "text/plain": [
       "0.4155495978552279"
      ]
     },
     "execution_count": 29,
     "metadata": {},
     "output_type": "execute_result"
    }
   ],
   "source": [
    "accuracy_score(ytest,pred)  "
   ]
  },
  {
   "cell_type": "code",
   "execution_count": 30,
   "metadata": {},
   "outputs": [],
   "source": [
    "from sklearn.metrics import confusion_matrix"
   ]
  },
  {
   "cell_type": "code",
   "execution_count": 31,
   "metadata": {},
   "outputs": [
    {
     "data": {
      "text/plain": [
       "array([[34,  0,  0,  0,  0,  0,  0,  0,  0,  0,  0,  0,  0,  0,  0,  0,\n",
       "         2,  0,  0,  0,  0,  0,  1,  0],\n",
       "       [ 1, 18,  0,  0,  0,  0,  0,  0,  0,  0,  0,  0,  0,  0,  0,  0,\n",
       "         0,  1,  0,  3,  2,  0,  7,  0],\n",
       "       [ 1,  4,  0,  0,  0,  0,  2,  0,  0,  0,  0,  0,  0,  0,  0,  1,\n",
       "         0,  3,  0,  0,  0,  1,  2,  1],\n",
       "       [ 0,  2,  0,  0,  0,  0,  3,  0,  0,  0,  0,  0,  0,  2,  0,  1,\n",
       "         0,  0,  0,  3,  1,  1, 15,  0],\n",
       "       [ 0,  6,  0,  0,  0,  0,  3,  1,  0,  0,  2,  0,  0,  0,  0,  0,\n",
       "         0,  1,  0,  2,  2,  2,  5, 11],\n",
       "       [ 2,  5,  0,  0,  0,  0,  0,  0,  0,  0,  0,  0,  0,  0,  0,  1,\n",
       "         0,  0,  0,  0,  0,  0,  3,  0],\n",
       "       [ 0,  1,  0,  0,  0,  0, 17,  0,  0,  0,  0,  0,  0,  0,  0,  1,\n",
       "         1,  0,  0,  4,  2,  1,  1,  0],\n",
       "       [ 3,  2,  0,  0,  0,  0,  0, 10,  0,  1,  0,  0,  0,  0,  0,  0,\n",
       "        10,  0,  0,  2,  6,  1,  3,  0],\n",
       "       [ 1,  0,  0,  0,  0,  0,  0,  1,  0,  0,  0,  0,  0,  0,  0,  0,\n",
       "         0,  0,  0,  3,  1,  0,  1,  0],\n",
       "       [ 0,  5,  0,  0,  0,  0,  0,  2,  0,  9,  2,  0,  0,  0,  0,  0,\n",
       "         3,  0,  0,  5,  4,  6,  8,  0],\n",
       "       [ 0,  2,  0,  0,  0,  0,  2,  0,  0,  0, 25,  0,  0,  0,  0,  0,\n",
       "         0,  1,  0,  0,  0,  1,  5,  0],\n",
       "       [ 1,  2,  0,  0,  0,  0, 10,  1,  0,  0,  0, 11,  0,  0,  0,  3,\n",
       "         0,  1,  0,  3,  2,  0,  6,  0],\n",
       "       [ 0,  6,  0,  0,  0,  0,  2,  1,  0,  0,  0,  0,  0,  0,  0,  0,\n",
       "         3,  0,  0,  2, 15,  5,  5,  0],\n",
       "       [ 0,  2,  0,  0,  0,  0,  2,  0,  0,  0,  0,  0,  0, 10,  0,  5,\n",
       "         0,  0,  0,  0,  5,  2,  5,  0],\n",
       "       [ 1,  1,  0,  0,  0,  0,  0,  0,  0,  2,  0,  0,  0,  0,  0,  0,\n",
       "         0,  0,  0,  0,  8, 21,  4,  0],\n",
       "       [ 1,  0,  0,  0,  0,  0,  1,  0,  0,  0,  0,  0,  0,  0,  0, 19,\n",
       "         0,  0,  0,  1,  9,  0,  3,  0],\n",
       "       [11,  1,  0,  0,  0,  0,  0,  0,  0,  0,  0,  0,  0,  0,  0,  0,\n",
       "        17,  0,  0,  2,  1,  1,  5,  0],\n",
       "       [ 0,  3,  0,  0,  0,  0,  1,  1,  0,  0,  0,  0,  0,  0,  0,  1,\n",
       "         0, 21,  0,  1,  1,  1,  2,  0],\n",
       "       [ 1, 19,  0,  0,  0,  0,  1,  0,  0,  4,  1,  0,  0,  0,  0,  0,\n",
       "         1,  1,  1,  3,  5,  1,  0,  0],\n",
       "       [ 0,  1,  0,  0,  0,  0,  0,  0,  0,  0,  0,  0,  0,  0,  0,  0,\n",
       "         0,  0,  0, 25,  0,  1,  1,  0],\n",
       "       [ 0,  0,  0,  0,  0,  0,  0,  0,  0,  0,  0,  0,  0,  0,  0,  0,\n",
       "         0,  0,  0,  1, 31,  0,  0,  0],\n",
       "       [ 1,  2,  0,  0,  0,  0,  1,  0,  0,  0,  1,  0,  0,  0,  0,  0,\n",
       "         0,  0,  0,  2,  0, 22,  0,  0],\n",
       "       [ 0,  1,  0,  0,  0,  0,  1,  0,  0,  1,  0,  0,  0,  0,  0,  1,\n",
       "         0,  0,  0,  0,  0,  1, 25,  0],\n",
       "       [ 0,  6,  0,  0,  0,  0,  0,  0,  0,  0,  0,  0,  0,  0,  0,  1,\n",
       "         0,  0,  0,  1,  0,  1,  3, 15]], dtype=int64)"
      ]
     },
     "execution_count": 31,
     "metadata": {},
     "output_type": "execute_result"
    }
   ],
   "source": [
    "confusion_matrix(ytest,pred)"
   ]
  },
  {
   "cell_type": "code",
   "execution_count": 32,
   "metadata": {},
   "outputs": [],
   "source": [
    "from sklearn.metrics import classification_report"
   ]
  },
  {
   "cell_type": "code",
   "execution_count": 33,
   "metadata": {},
   "outputs": [
    {
     "name": "stdout",
     "output_type": "stream",
     "text": [
      "                        precision    recall  f1-score   support\n",
      "\n",
      "            ACCOUNTANT       0.59      0.92      0.72        37\n",
      "              ADVOCATE       0.20      0.56      0.30        32\n",
      "           AGRICULTURE       0.00      0.00      0.00        15\n",
      "               APPAREL       0.00      0.00      0.00        28\n",
      "                  ARTS       0.00      0.00      0.00        35\n",
      "            AUTOMOBILE       0.00      0.00      0.00        11\n",
      "              AVIATION       0.37      0.61      0.46        28\n",
      "               BANKING       0.59      0.26      0.36        38\n",
      "                   BPO       0.00      0.00      0.00         7\n",
      "  BUSINESS-DEVELOPMENT       0.53      0.20      0.30        44\n",
      "                  CHEF       0.81      0.69      0.75        36\n",
      "          CONSTRUCTION       1.00      0.28      0.43        40\n",
      "            CONSULTANT       0.00      0.00      0.00        39\n",
      "              DESIGNER       0.83      0.32      0.47        31\n",
      "         DIGITAL-MEDIA       0.00      0.00      0.00        37\n",
      "           ENGINEERING       0.56      0.56      0.56        34\n",
      "               FINANCE       0.46      0.45      0.45        38\n",
      "               FITNESS       0.72      0.66      0.69        32\n",
      "            HEALTHCARE       1.00      0.03      0.05        38\n",
      "                    HR       0.40      0.89      0.55        28\n",
      "INFORMATION-TECHNOLOGY       0.33      0.97      0.49        32\n",
      "      PUBLIC-RELATIONS       0.32      0.76      0.45        29\n",
      "                 SALES       0.23      0.83      0.36        30\n",
      "               TEACHER       0.56      0.56      0.56        27\n",
      "\n",
      "              accuracy                           0.42       746\n",
      "             macro avg       0.40      0.40      0.33       746\n",
      "          weighted avg       0.44      0.42      0.35       746\n",
      "\n"
     ]
    },
    {
     "name": "stderr",
     "output_type": "stream",
     "text": [
      "C:\\Users\\User\\anaconda3\\lib\\site-packages\\sklearn\\metrics\\_classification.py:1221: UndefinedMetricWarning: Precision and F-score are ill-defined and being set to 0.0 in labels with no predicted samples. Use `zero_division` parameter to control this behavior.\n",
      "  _warn_prf(average, modifier, msg_start, len(result))\n"
     ]
    }
   ],
   "source": [
    "print(classification_report(ytest,pred))"
   ]
  },
  {
   "cell_type": "code",
   "execution_count": 34,
   "metadata": {},
   "outputs": [],
   "source": [
    "from sklearn.svm import SVC  # Support Vector Machine "
   ]
  },
  {
   "cell_type": "code",
   "execution_count": 35,
   "metadata": {},
   "outputs": [],
   "source": [
    "model=SVC()   # Initialize the model"
   ]
  },
  {
   "cell_type": "code",
   "execution_count": 36,
   "metadata": {},
   "outputs": [],
   "source": [
    "model_=model.fit(xtrain,ytrain)  # Train the model"
   ]
  },
  {
   "cell_type": "code",
   "execution_count": 37,
   "metadata": {},
   "outputs": [
    {
     "data": {
      "text/plain": [
       "0.5415549597855228"
      ]
     },
     "execution_count": 37,
     "metadata": {},
     "output_type": "execute_result"
    }
   ],
   "source": [
    "model_.score(xtest,ytest)  # model Accuracy"
   ]
  },
  {
   "cell_type": "code",
   "execution_count": 38,
   "metadata": {},
   "outputs": [],
   "source": [
    "pred=model.predict(xtest)"
   ]
  },
  {
   "cell_type": "code",
   "execution_count": 39,
   "metadata": {},
   "outputs": [
    {
     "data": {
      "text/plain": [
       "array(['BUSINESS-DEVELOPMENT', 'BUSINESS-DEVELOPMENT',\n",
       "       'INFORMATION-TECHNOLOGY', 'BANKING', 'CHEF', 'BANKING', 'SALES',\n",
       "       'ACCOUNTANT', 'TEACHER', 'INFORMATION-TECHNOLOGY', 'ACCOUNTANT',\n",
       "       'ADVOCATE', 'CONSULTANT', 'PUBLIC-RELATIONS', 'ADVOCATE',\n",
       "       'DIGITAL-MEDIA', 'BANKING', 'BUSINESS-DEVELOPMENT', 'FITNESS',\n",
       "       'TEACHER', 'INFORMATION-TECHNOLOGY', 'FITNESS', 'HEALTHCARE',\n",
       "       'CONSTRUCTION', 'HEALTHCARE', 'ENGINEERING',\n",
       "       'BUSINESS-DEVELOPMENT', 'CONSTRUCTION', 'INFORMATION-TECHNOLOGY',\n",
       "       'INFORMATION-TECHNOLOGY', 'HR', 'DIGITAL-MEDIA',\n",
       "       'BUSINESS-DEVELOPMENT', 'DIGITAL-MEDIA', 'AVIATION', 'TEACHER',\n",
       "       'DIGITAL-MEDIA', 'BUSINESS-DEVELOPMENT', 'BUSINESS-DEVELOPMENT',\n",
       "       'APPAREL', 'TEACHER', 'SALES', 'PUBLIC-RELATIONS', 'TEACHER',\n",
       "       'PUBLIC-RELATIONS', 'ADVOCATE', 'PUBLIC-RELATIONS', 'ADVOCATE',\n",
       "       'ENGINEERING', 'FINANCE', 'CHEF', 'AVIATION', 'SALES', 'DESIGNER',\n",
       "       'SALES', 'TEACHER', 'PUBLIC-RELATIONS', 'DIGITAL-MEDIA',\n",
       "       'ACCOUNTANT', 'SALES', 'INFORMATION-TECHNOLOGY', 'FITNESS',\n",
       "       'CONSULTANT', 'PUBLIC-RELATIONS', 'ADVOCATE', 'ENGINEERING',\n",
       "       'BUSINESS-DEVELOPMENT', 'PUBLIC-RELATIONS', 'ADVOCATE', 'HR',\n",
       "       'ADVOCATE', 'FINANCE', 'PUBLIC-RELATIONS', 'HEALTHCARE', 'HR',\n",
       "       'CHEF', 'FINANCE', 'SALES', 'CHEF', 'ENGINEERING', 'APPAREL', 'HR',\n",
       "       'INFORMATION-TECHNOLOGY', 'APPAREL', 'INFORMATION-TECHNOLOGY',\n",
       "       'INFORMATION-TECHNOLOGY', 'BUSINESS-DEVELOPMENT', 'SALES',\n",
       "       'FITNESS', 'TEACHER', 'ADVOCATE', 'ADVOCATE', 'SALES',\n",
       "       'CONSULTANT', 'INFORMATION-TECHNOLOGY', 'ACCOUNTANT', 'ADVOCATE',\n",
       "       'PUBLIC-RELATIONS', 'ENGINEERING', 'FINANCE', 'ADVOCATE', 'HR',\n",
       "       'CONSULTANT', 'SALES', 'SALES', 'SALES', 'AVIATION', 'ADVOCATE',\n",
       "       'AVIATION', 'ACCOUNTANT', 'SALES', 'SALES', 'AVIATION',\n",
       "       'ENGINEERING', 'CONSULTANT', 'FINANCE', 'CONSULTANT', 'AVIATION',\n",
       "       'BANKING', 'DIGITAL-MEDIA', 'CONSULTANT', 'TEACHER', 'FITNESS',\n",
       "       'FINANCE', 'CONSTRUCTION', 'ADVOCATE', 'PUBLIC-RELATIONS', 'CHEF',\n",
       "       'SALES', 'SALES', 'INFORMATION-TECHNOLOGY', 'AVIATION',\n",
       "       'BUSINESS-DEVELOPMENT', 'CONSULTANT', 'ACCOUNTANT', 'DESIGNER',\n",
       "       'SALES', 'TEACHER', 'BUSINESS-DEVELOPMENT', 'ENGINEERING',\n",
       "       'HEALTHCARE', 'AVIATION', 'DIGITAL-MEDIA', 'ADVOCATE',\n",
       "       'INFORMATION-TECHNOLOGY', 'SALES', 'INFORMATION-TECHNOLOGY',\n",
       "       'DESIGNER', 'PUBLIC-RELATIONS', 'INFORMATION-TECHNOLOGY', 'SALES',\n",
       "       'CHEF', 'HR', 'BANKING', 'HR', 'APPAREL', 'BANKING',\n",
       "       'INFORMATION-TECHNOLOGY', 'SALES', 'ACCOUNTANT', 'CHEF',\n",
       "       'PUBLIC-RELATIONS', 'AVIATION', 'APPAREL', 'CONSTRUCTION', 'ARTS',\n",
       "       'CONSULTANT', 'PUBLIC-RELATIONS', 'ADVOCATE',\n",
       "       'BUSINESS-DEVELOPMENT', 'ADVOCATE', 'DESIGNER', 'CONSTRUCTION',\n",
       "       'ARTS', 'ACCOUNTANT', 'BANKING', 'CHEF', 'SALES', 'ACCOUNTANT',\n",
       "       'AVIATION', 'HR', 'BUSINESS-DEVELOPMENT', 'DIGITAL-MEDIA',\n",
       "       'ACCOUNTANT', 'BANKING', 'PUBLIC-RELATIONS', 'HR', 'CHEF',\n",
       "       'INFORMATION-TECHNOLOGY', 'PUBLIC-RELATIONS', 'CONSULTANT',\n",
       "       'TEACHER', 'BANKING', 'PUBLIC-RELATIONS', 'FINANCE', 'CONSULTANT',\n",
       "       'HR', 'SALES', 'TEACHER', 'SALES', 'CONSTRUCTION', 'ADVOCATE',\n",
       "       'AVIATION', 'HR', 'HR', 'CHEF', 'DESIGNER', 'ENGINEERING',\n",
       "       'BUSINESS-DEVELOPMENT', 'FINANCE', 'SALES', 'AVIATION', 'DESIGNER',\n",
       "       'CHEF', 'BUSINESS-DEVELOPMENT', 'BANKING', 'AVIATION',\n",
       "       'INFORMATION-TECHNOLOGY', 'ACCOUNTANT', 'SALES', 'SALES', 'CHEF',\n",
       "       'TEACHER', 'TEACHER', 'AVIATION', 'CHEF', 'CONSTRUCTION',\n",
       "       'AVIATION', 'FINANCE', 'CONSTRUCTION', 'DESIGNER',\n",
       "       'INFORMATION-TECHNOLOGY', 'INFORMATION-TECHNOLOGY', 'SALES',\n",
       "       'BANKING', 'FINANCE', 'AVIATION', 'BANKING', 'SALES',\n",
       "       'PUBLIC-RELATIONS', 'ADVOCATE', 'BUSINESS-DEVELOPMENT', 'SALES',\n",
       "       'CONSULTANT', 'ADVOCATE', 'CONSTRUCTION', 'DIGITAL-MEDIA',\n",
       "       'ADVOCATE', 'ADVOCATE', 'CHEF', 'DESIGNER', 'BANKING', 'AVIATION',\n",
       "       'HEALTHCARE', 'HR', 'CONSULTANT', 'FITNESS', 'TEACHER',\n",
       "       'PUBLIC-RELATIONS', 'SALES', 'DESIGNER', 'INFORMATION-TECHNOLOGY',\n",
       "       'CONSULTANT', 'BUSINESS-DEVELOPMENT', 'AVIATION',\n",
       "       'INFORMATION-TECHNOLOGY', 'SALES', 'ARTS', 'BUSINESS-DEVELOPMENT',\n",
       "       'FITNESS', 'AVIATION', 'BANKING', 'PUBLIC-RELATIONS', 'HEALTHCARE',\n",
       "       'BUSINESS-DEVELOPMENT', 'HR', 'BUSINESS-DEVELOPMENT',\n",
       "       'PUBLIC-RELATIONS', 'INFORMATION-TECHNOLOGY', 'DIGITAL-MEDIA',\n",
       "       'ENGINEERING', 'BUSINESS-DEVELOPMENT', 'AVIATION', 'ACCOUNTANT',\n",
       "       'DIGITAL-MEDIA', 'HR', 'INFORMATION-TECHNOLOGY', 'BANKING',\n",
       "       'FITNESS', 'SALES', 'BANKING', 'CHEF', 'FINANCE', 'SALES',\n",
       "       'ENGINEERING', 'AVIATION', 'HEALTHCARE', 'ACCOUNTANT',\n",
       "       'HEALTHCARE', 'HEALTHCARE', 'FINANCE', 'ENGINEERING', 'CONSULTANT',\n",
       "       'PUBLIC-RELATIONS', 'CONSTRUCTION', 'BANKING', 'BANKING', 'CHEF',\n",
       "       'CONSTRUCTION', 'ENGINEERING', 'ACCOUNTANT', 'SALES', 'AVIATION',\n",
       "       'AVIATION', 'INFORMATION-TECHNOLOGY', 'ENGINEERING', 'ENGINEERING',\n",
       "       'SALES', 'SALES', 'FINANCE', 'BANKING', 'AGRICULTURE',\n",
       "       'INFORMATION-TECHNOLOGY', 'ADVOCATE', 'BANKING', 'BANKING',\n",
       "       'INFORMATION-TECHNOLOGY', 'CONSULTANT', 'SALES', 'CONSTRUCTION',\n",
       "       'ADVOCATE', 'BUSINESS-DEVELOPMENT', 'HEALTHCARE', 'ADVOCATE',\n",
       "       'SALES', 'ACCOUNTANT', 'ACCOUNTANT', 'CONSTRUCTION',\n",
       "       'PUBLIC-RELATIONS', 'SALES', 'ENGINEERING', 'SALES', 'APPAREL',\n",
       "       'INFORMATION-TECHNOLOGY', 'HEALTHCARE', 'SALES', 'HR', 'FINANCE',\n",
       "       'APPAREL', 'FITNESS', 'DESIGNER', 'SALES', 'PUBLIC-RELATIONS',\n",
       "       'ACCOUNTANT', 'SALES', 'ACCOUNTANT', 'AVIATION', 'HR',\n",
       "       'CONSTRUCTION', 'DESIGNER', 'FINANCE', 'ADVOCATE', 'CHEF',\n",
       "       'AVIATION', 'APPAREL', 'DIGITAL-MEDIA', 'HR', 'SALES',\n",
       "       'INFORMATION-TECHNOLOGY', 'AVIATION', 'ADVOCATE', 'BANKING',\n",
       "       'AVIATION', 'DIGITAL-MEDIA', 'ADVOCATE', 'INFORMATION-TECHNOLOGY',\n",
       "       'HR', 'TEACHER', 'SALES', 'PUBLIC-RELATIONS', 'AGRICULTURE',\n",
       "       'ACCOUNTANT', 'ACCOUNTANT', 'TEACHER', 'TEACHER',\n",
       "       'BUSINESS-DEVELOPMENT', 'SALES', 'INFORMATION-TECHNOLOGY',\n",
       "       'ENGINEERING', 'PUBLIC-RELATIONS', 'ACCOUNTANT',\n",
       "       'INFORMATION-TECHNOLOGY', 'AVIATION', 'APPAREL', 'ADVOCATE',\n",
       "       'CONSULTANT', 'TEACHER', 'FITNESS', 'ADVOCATE', 'PUBLIC-RELATIONS',\n",
       "       'AVIATION', 'SALES', 'SALES', 'HEALTHCARE', 'BANKING',\n",
       "       'PUBLIC-RELATIONS', 'PUBLIC-RELATIONS', 'ENGINEERING',\n",
       "       'DIGITAL-MEDIA', 'APPAREL', 'ADVOCATE', 'ACCOUNTANT',\n",
       "       'CONSTRUCTION', 'PUBLIC-RELATIONS', 'BUSINESS-DEVELOPMENT', 'HR',\n",
       "       'INFORMATION-TECHNOLOGY', 'SALES', 'TEACHER', 'TEACHER',\n",
       "       'ADVOCATE', 'BANKING', 'ADVOCATE', 'CHEF', 'ADVOCATE',\n",
       "       'PUBLIC-RELATIONS', 'PUBLIC-RELATIONS', 'ADVOCATE', 'ADVOCATE',\n",
       "       'DIGITAL-MEDIA', 'ACCOUNTANT', 'ENGINEERING', 'BANKING',\n",
       "       'HEALTHCARE', 'SALES', 'INFORMATION-TECHNOLOGY', 'APPAREL',\n",
       "       'SALES', 'INFORMATION-TECHNOLOGY', 'FINANCE', 'AVIATION',\n",
       "       'ENGINEERING', 'DIGITAL-MEDIA', 'BUSINESS-DEVELOPMENT',\n",
       "       'ACCOUNTANT', 'SALES', 'DESIGNER', 'PUBLIC-RELATIONS', 'HR',\n",
       "       'INFORMATION-TECHNOLOGY', 'DESIGNER', 'DIGITAL-MEDIA', 'APPAREL',\n",
       "       'DIGITAL-MEDIA', 'ENGINEERING', 'INFORMATION-TECHNOLOGY',\n",
       "       'CONSTRUCTION', 'SALES', 'BANKING', 'DESIGNER', 'CONSTRUCTION',\n",
       "       'DIGITAL-MEDIA', 'AVIATION', 'HEALTHCARE', 'FINANCE',\n",
       "       'BUSINESS-DEVELOPMENT', 'BANKING', 'AVIATION', 'ADVOCATE', 'CHEF',\n",
       "       'HEALTHCARE', 'ADVOCATE', 'AVIATION', 'ADVOCATE',\n",
       "       'INFORMATION-TECHNOLOGY', 'SALES', 'ADVOCATE', 'ACCOUNTANT',\n",
       "       'DESIGNER', 'CONSTRUCTION', 'AVIATION', 'HEALTHCARE',\n",
       "       'AGRICULTURE', 'AVIATION', 'TEACHER', 'ENGINEERING', 'ENGINEERING',\n",
       "       'ENGINEERING', 'CONSULTANT', 'CONSULTANT', 'DESIGNER',\n",
       "       'ENGINEERING', 'DESIGNER', 'ENGINEERING', 'ENGINEERING',\n",
       "       'ADVOCATE', 'BUSINESS-DEVELOPMENT', 'DESIGNER', 'ADVOCATE',\n",
       "       'AVIATION', 'ADVOCATE', 'SALES', 'FINANCE', 'CONSULTANT',\n",
       "       'BUSINESS-DEVELOPMENT', 'SALES', 'ENGINEERING', 'SALES',\n",
       "       'CONSTRUCTION', 'DESIGNER', 'HR', 'HEALTHCARE', 'TEACHER',\n",
       "       'HEALTHCARE', 'SALES', 'TEACHER', 'BANKING', 'DESIGNER',\n",
       "       'ADVOCATE', 'ACCOUNTANT', 'BANKING', 'BANKING', 'ENGINEERING',\n",
       "       'SALES', 'AVIATION', 'FINANCE', 'CONSTRUCTION',\n",
       "       'INFORMATION-TECHNOLOGY', 'ARTS', 'SALES', 'DESIGNER', 'ADVOCATE',\n",
       "       'FITNESS', 'SALES', 'PUBLIC-RELATIONS', 'INFORMATION-TECHNOLOGY',\n",
       "       'FINANCE', 'TEACHER', 'ADVOCATE', 'AVIATION', 'PUBLIC-RELATIONS',\n",
       "       'SALES', 'INFORMATION-TECHNOLOGY', 'ADVOCATE', 'SALES',\n",
       "       'ENGINEERING', 'HEALTHCARE', 'SALES', 'HR', 'BANKING', 'AVIATION',\n",
       "       'ACCOUNTANT', 'TEACHER', 'FINANCE', 'AVIATION', 'DESIGNER',\n",
       "       'BANKING', 'DIGITAL-MEDIA', 'FITNESS', 'CONSTRUCTION', 'SALES',\n",
       "       'DIGITAL-MEDIA', 'ADVOCATE', 'PUBLIC-RELATIONS', 'BANKING',\n",
       "       'AVIATION', 'ADVOCATE', 'CONSTRUCTION', 'SALES',\n",
       "       'INFORMATION-TECHNOLOGY', 'AVIATION', 'AVIATION', 'DESIGNER',\n",
       "       'APPAREL', 'HEALTHCARE', 'CONSULTANT', 'DESIGNER', 'TEACHER',\n",
       "       'TEACHER', 'ADVOCATE', 'HEALTHCARE', 'ARTS', 'CHEF', 'CONSULTANT',\n",
       "       'CONSTRUCTION', 'SALES', 'INFORMATION-TECHNOLOGY', 'AVIATION',\n",
       "       'CHEF', 'BUSINESS-DEVELOPMENT', 'HEALTHCARE', 'SALES',\n",
       "       'INFORMATION-TECHNOLOGY', 'SALES', 'ACCOUNTANT', 'ADVOCATE',\n",
       "       'SALES', 'TEACHER', 'FINANCE', 'ADVOCATE', 'ACCOUNTANT',\n",
       "       'ENGINEERING', 'AVIATION', 'BUSINESS-DEVELOPMENT', 'DESIGNER',\n",
       "       'DIGITAL-MEDIA', 'BANKING', 'DIGITAL-MEDIA', 'AVIATION',\n",
       "       'DESIGNER', 'TEACHER', 'TEACHER', 'SALES', 'FINANCE', 'CONSULTANT',\n",
       "       'CHEF', 'AVIATION', 'ADVOCATE', 'CONSTRUCTION', 'ADVOCATE',\n",
       "       'FINANCE', 'HEALTHCARE', 'AVIATION', 'BANKING',\n",
       "       'BUSINESS-DEVELOPMENT', 'HR', 'APPAREL', 'HR', 'SALES', 'ADVOCATE',\n",
       "       'CONSTRUCTION', 'ACCOUNTANT', 'PUBLIC-RELATIONS', 'SALES', 'SALES',\n",
       "       'ARTS', 'AVIATION', 'HR', 'BANKING', 'ENGINEERING', 'ADVOCATE',\n",
       "       'TEACHER', 'ENGINEERING', 'AVIATION', 'DESIGNER',\n",
       "       'INFORMATION-TECHNOLOGY', 'SALES', 'INFORMATION-TECHNOLOGY',\n",
       "       'ADVOCATE', 'AVIATION', 'ACCOUNTANT', 'BANKING', 'ACCOUNTANT',\n",
       "       'BUSINESS-DEVELOPMENT', 'APPAREL', 'SALES', 'FINANCE', 'SALES',\n",
       "       'BUSINESS-DEVELOPMENT', 'AVIATION', 'FITNESS', 'ACCOUNTANT',\n",
       "       'PUBLIC-RELATIONS', 'INFORMATION-TECHNOLOGY', 'CHEF', 'SALES',\n",
       "       'HR', 'INFORMATION-TECHNOLOGY', 'HR', 'SALES', 'FINANCE',\n",
       "       'BANKING', 'INFORMATION-TECHNOLOGY', 'BANKING',\n",
       "       'INFORMATION-TECHNOLOGY', 'BUSINESS-DEVELOPMENT',\n",
       "       'PUBLIC-RELATIONS', 'BUSINESS-DEVELOPMENT', 'AVIATION',\n",
       "       'BUSINESS-DEVELOPMENT', 'CONSTRUCTION', 'ADVOCATE', 'AVIATION',\n",
       "       'INFORMATION-TECHNOLOGY', 'CONSTRUCTION', 'SALES', 'DIGITAL-MEDIA',\n",
       "       'TEACHER', 'CONSTRUCTION', 'DESIGNER', 'INFORMATION-TECHNOLOGY',\n",
       "       'HEALTHCARE', 'SALES', 'INFORMATION-TECHNOLOGY', 'ENGINEERING',\n",
       "       'HR', 'AVIATION', 'AVIATION', 'TEACHER', 'INFORMATION-TECHNOLOGY',\n",
       "       'CHEF', 'AVIATION', 'BUSINESS-DEVELOPMENT', 'AVIATION', 'TEACHER',\n",
       "       'CHEF', 'ACCOUNTANT', 'BANKING', 'APPAREL', 'HEALTHCARE',\n",
       "       'HEALTHCARE', 'BANKING', 'ACCOUNTANT', 'CONSULTANT', 'CHEF',\n",
       "       'CONSULTANT', 'INFORMATION-TECHNOLOGY', 'ACCOUNTANT',\n",
       "       'BUSINESS-DEVELOPMENT', 'PUBLIC-RELATIONS', 'HR', 'AVIATION',\n",
       "       'AVIATION', 'ACCOUNTANT', 'INFORMATION-TECHNOLOGY', 'SALES',\n",
       "       'BANKING', 'CONSTRUCTION', 'CONSULTANT', 'SALES', 'ADVOCATE',\n",
       "       'INFORMATION-TECHNOLOGY', 'ACCOUNTANT', 'ADVOCATE', 'CHEF',\n",
       "       'ACCOUNTANT', 'PUBLIC-RELATIONS', 'HEALTHCARE', 'PUBLIC-RELATIONS',\n",
       "       'DESIGNER', 'DIGITAL-MEDIA', 'HEALTHCARE', 'CONSULTANT',\n",
       "       'ADVOCATE', 'BUSINESS-DEVELOPMENT', 'ADVOCATE'], dtype=object)"
      ]
     },
     "execution_count": 39,
     "metadata": {},
     "output_type": "execute_result"
    }
   ],
   "source": [
    "pred"
   ]
  },
  {
   "cell_type": "code",
   "execution_count": 40,
   "metadata": {},
   "outputs": [],
   "source": [
    "from sklearn.metrics import accuracy_score"
   ]
  },
  {
   "cell_type": "code",
   "execution_count": 41,
   "metadata": {},
   "outputs": [
    {
     "data": {
      "text/plain": [
       "0.5415549597855228"
      ]
     },
     "execution_count": 41,
     "metadata": {},
     "output_type": "execute_result"
    }
   ],
   "source": [
    "accuracy_score(ytest,pred)"
   ]
  },
  {
   "cell_type": "code",
   "execution_count": 42,
   "metadata": {},
   "outputs": [],
   "source": [
    "from sklearn.metrics import confusion_matrix"
   ]
  },
  {
   "cell_type": "code",
   "execution_count": 43,
   "metadata": {},
   "outputs": [
    {
     "data": {
      "text/plain": [
       "array([[29,  1,  0,  0,  0,  0,  0,  2,  0,  0,  0,  0,  1,  0,  0,  0,\n",
       "         3,  0,  0,  0,  0,  0,  1,  0],\n",
       "       [ 0, 15,  0,  0,  0,  0,  1,  0,  0,  2,  0,  0,  0,  0,  0,  0,\n",
       "         0,  0,  4,  1,  2,  0,  7,  0],\n",
       "       [ 0,  4,  3,  0,  0,  0,  2,  1,  0,  1,  0,  0,  0,  0,  0,  0,\n",
       "         1,  0,  0,  0,  0,  0,  2,  1],\n",
       "       [ 0,  2,  0,  8,  0,  0,  2,  1,  0,  0,  0,  0,  1,  2,  0,  2,\n",
       "         0,  0,  1,  0,  0,  1,  8,  0],\n",
       "       [ 0,  5,  0,  0,  5,  0,  3,  1,  0,  0,  1,  0,  0,  0,  1,  0,\n",
       "         0,  0,  0,  0,  1,  2,  7,  9],\n",
       "       [ 1,  3,  0,  1,  0,  0,  1,  0,  0,  0,  0,  0,  0,  0,  0,  1,\n",
       "         0,  0,  1,  0,  0,  0,  3,  0],\n",
       "       [ 0,  3,  0,  0,  0,  0, 20,  0,  0,  0,  0,  0,  0,  0,  0,  1,\n",
       "         1,  0,  0,  0,  1,  1,  1,  0],\n",
       "       [ 0,  1,  0,  0,  0,  0,  1, 23,  0,  2,  0,  0,  3,  0,  0,  0,\n",
       "         2,  0,  0,  0,  5,  1,  0,  0],\n",
       "       [ 0,  0,  0,  0,  0,  0,  1,  2,  0,  0,  0,  0,  0,  0,  0,  1,\n",
       "         0,  0,  1,  1,  0,  0,  1,  0],\n",
       "       [ 0,  1,  0,  0,  0,  0,  2,  6,  0, 20,  1,  0,  3,  0,  1,  0,\n",
       "         0,  0,  2,  0,  0,  3,  5,  0],\n",
       "       [ 0,  0,  0,  0,  0,  0,  4,  0,  0,  1, 24,  0,  0,  0,  0,  0,\n",
       "         0,  0,  2,  0,  0,  0,  4,  1],\n",
       "       [ 0,  0,  0,  1,  0,  0,  5,  1,  0,  0,  0, 26,  3,  1,  0,  0,\n",
       "         0,  0,  0,  0,  0,  0,  3,  0],\n",
       "       [ 0,  6,  0,  1,  0,  0,  2,  3,  0,  1,  0,  1,  6,  0,  1,  1,\n",
       "         0,  0,  1,  0,  9,  4,  3,  0],\n",
       "       [ 0,  0,  0,  0,  0,  0,  3,  0,  0,  1,  0,  0,  1, 24,  0,  1,\n",
       "         0,  0,  0,  0,  1,  0,  0,  0],\n",
       "       [ 1,  1,  0,  1,  1,  0,  0,  0,  0,  3,  0,  0,  2,  1, 20,  0,\n",
       "         0,  0,  0,  0,  2,  4,  1,  0],\n",
       "       [ 1,  1,  0,  0,  0,  0,  2,  0,  0,  0,  0,  0,  1,  0,  0, 24,\n",
       "         0,  0,  0,  0,  3,  0,  2,  0],\n",
       "       [ 6,  2,  0,  1,  0,  0,  1,  2,  0,  0,  0,  0,  0,  0,  0,  0,\n",
       "        18,  0,  0,  1,  1,  1,  5,  0],\n",
       "       [ 0,  5,  0,  1,  0,  0,  2,  0,  0,  1,  0,  0,  2,  0,  0,  1,\n",
       "         0, 13,  0,  0,  0,  1,  4,  2],\n",
       "       [ 0,  6,  0,  1,  0,  0,  1,  0,  0,  4,  1,  1,  0,  0,  1,  0,\n",
       "         1,  0, 15,  2,  3,  0,  1,  1],\n",
       "       [ 0,  1,  0,  0,  0,  0,  0,  0,  0,  0,  0,  0,  2,  0,  0,  0,\n",
       "         0,  0,  0, 23,  0,  1,  1,  0],\n",
       "       [ 0,  0,  0,  0,  0,  0,  0,  0,  0,  0,  0,  0,  2,  0,  0,  0,\n",
       "         0,  0,  0,  1, 28,  0,  1,  0],\n",
       "       [ 1,  2,  0,  0,  0,  0,  2,  0,  0,  0,  0,  0,  0,  1,  0,  0,\n",
       "         0,  0,  0,  1,  0, 21,  1,  0],\n",
       "       [ 0,  0,  0,  1,  0,  0,  4,  0,  0,  3,  0,  1,  0,  0,  1,  0,\n",
       "         0,  0,  1,  0,  0,  0, 19,  0],\n",
       "       [ 0,  2,  0,  0,  0,  0,  1,  0,  0,  0,  0,  0,  0,  0,  0,  1,\n",
       "         0,  0,  0,  0,  0,  1,  2, 20]], dtype=int64)"
      ]
     },
     "execution_count": 43,
     "metadata": {},
     "output_type": "execute_result"
    }
   ],
   "source": [
    "confusion_matrix(ytest,pred)"
   ]
  },
  {
   "cell_type": "code",
   "execution_count": 44,
   "metadata": {},
   "outputs": [],
   "source": [
    "from sklearn.metrics import classification_report"
   ]
  },
  {
   "cell_type": "code",
   "execution_count": 45,
   "metadata": {},
   "outputs": [
    {
     "name": "stdout",
     "output_type": "stream",
     "text": [
      "                        precision    recall  f1-score   support\n",
      "\n",
      "            ACCOUNTANT       0.74      0.78      0.76        37\n",
      "              ADVOCATE       0.25      0.47      0.32        32\n",
      "           AGRICULTURE       1.00      0.20      0.33        15\n",
      "               APPAREL       0.50      0.29      0.36        28\n",
      "                  ARTS       0.83      0.14      0.24        35\n",
      "            AUTOMOBILE       0.00      0.00      0.00        11\n",
      "              AVIATION       0.33      0.71      0.45        28\n",
      "               BANKING       0.55      0.61      0.57        38\n",
      "                   BPO       0.00      0.00      0.00         7\n",
      "  BUSINESS-DEVELOPMENT       0.51      0.45      0.48        44\n",
      "                  CHEF       0.89      0.67      0.76        36\n",
      "          CONSTRUCTION       0.90      0.65      0.75        40\n",
      "            CONSULTANT       0.22      0.15      0.18        39\n",
      "              DESIGNER       0.83      0.77      0.80        31\n",
      "         DIGITAL-MEDIA       0.80      0.54      0.65        37\n",
      "           ENGINEERING       0.73      0.71      0.72        34\n",
      "               FINANCE       0.69      0.47      0.56        38\n",
      "               FITNESS       1.00      0.41      0.58        32\n",
      "            HEALTHCARE       0.54      0.39      0.45        38\n",
      "                    HR       0.77      0.82      0.79        28\n",
      "INFORMATION-TECHNOLOGY       0.50      0.88      0.64        32\n",
      "      PUBLIC-RELATIONS       0.51      0.72      0.60        29\n",
      "                 SALES       0.23      0.63      0.34        30\n",
      "               TEACHER       0.59      0.74      0.66        27\n",
      "\n",
      "              accuracy                           0.54       746\n",
      "             macro avg       0.58      0.51      0.50       746\n",
      "          weighted avg       0.61      0.54      0.54       746\n",
      "\n"
     ]
    }
   ],
   "source": [
    "print(classification_report(ytest,pred))"
   ]
  },
  {
   "cell_type": "code",
   "execution_count": null,
   "metadata": {},
   "outputs": [],
   "source": []
  }
 ],
 "metadata": {
  "kernelspec": {
   "display_name": "Python 3",
   "language": "python",
   "name": "python3"
  },
  "language_info": {
   "codemirror_mode": {
    "name": "ipython",
    "version": 3
   },
   "file_extension": ".py",
   "mimetype": "text/x-python",
   "name": "python",
   "nbconvert_exporter": "python",
   "pygments_lexer": "ipython3",
   "version": "3.8.5"
  }
 },
 "nbformat": 4,
 "nbformat_minor": 4
}
