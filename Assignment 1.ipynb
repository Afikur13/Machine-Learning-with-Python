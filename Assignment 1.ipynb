{
 "cells": [
  {
   "cell_type": "markdown",
   "metadata": {},
   "source": [
    "# Assignment 1"
   ]
  },
  {
   "cell_type": "code",
   "execution_count": 7,
   "metadata": {},
   "outputs": [
    {
     "name": "stdout",
     "output_type": "stream",
     "text": [
      "Enter the length: 10\n",
      "Enter the breqdth: 10\n",
      " it is square\n"
     ]
    }
   ],
   "source": [
    "length=float(input('Enter the length: '))\n",
    "\n",
    "breadth=float(input('Enter the breqdth: '))\n",
    "\n",
    "if length==breadth:\n",
    "    print(\" it is square\")\n",
    "else:\n",
    "    print(\"it is Not square\")"
   ]
  },
  {
   "cell_type": "markdown",
   "metadata": {},
   "source": [
    "# Assignment 2"
   ]
  },
  {
   "cell_type": "code",
   "execution_count": 15,
   "metadata": {},
   "outputs": [
    {
     "name": "stdout",
     "output_type": "stream",
     "text": [
      "Enter The frist number: 5\n",
      "enter the secound number: 4\n",
      "Enter the third number: 1\n",
      " x is gretest number\n"
     ]
    }
   ],
   "source": [
    "x=float(input('Enter The frist number: '))\n",
    "y=float(input('enter the secound number: '))\n",
    "z=float(input('Enter the third number: '))\n",
    "\n",
    "if x>y and x>z:\n",
    "    print(' x is gretest number')\n",
    "elif y>x and y>z:\n",
    "    print(' y is gretest number')\n",
    "else:\n",
    "    print(' z is gretest number')\n"
   ]
  },
  {
   "cell_type": "markdown",
   "metadata": {},
   "source": [
    "# assignment 3"
   ]
  },
  {
   "cell_type": "code",
   "execution_count": 27,
   "metadata": {},
   "outputs": [
    {
     "name": "stdout",
     "output_type": "stream",
     "text": [
      "Number of class held: 25\n",
      " number of class attended: 10\n"
     ]
    }
   ],
   "source": [
    "held= int(input('Number of class held: '))  # tOTAL NUMBER OF CLASS\n",
    "attended= int(input(' number of class attended: '))\n",
    "attended_ratio= (attended/held) * 100"
   ]
  },
  {
   "cell_type": "code",
   "execution_count": 28,
   "metadata": {},
   "outputs": [
    {
     "data": {
      "text/plain": [
       "40.0"
      ]
     },
     "execution_count": 28,
     "metadata": {},
     "output_type": "execute_result"
    }
   ],
   "source": [
    "attended_ratio"
   ]
  },
  {
   "cell_type": "code",
   "execution_count": 29,
   "metadata": {},
   "outputs": [
    {
     "name": "stdout",
     "output_type": "stream",
     "text": [
      "Exam not allowed\n"
     ]
    }
   ],
   "source": [
    "if attended_ratio>=75:\n",
    "    print('Exam allowed')\n",
    "else:\n",
    "    print('Exam not allowed')"
   ]
  },
  {
   "cell_type": "markdown",
   "metadata": {},
   "source": [
    "# Assignment 4"
   ]
  },
  {
   "cell_type": "code",
   "execution_count": 7,
   "metadata": {},
   "outputs": [
    {
     "name": "stdout",
     "output_type": "stream",
     "text": [
      "Enter the mark: 20\n",
      "F\n"
     ]
    }
   ],
   "source": [
    "x=int(input('Enter the mark: '))\n",
    "if x>=90:\n",
    "    print('A+')\n",
    "elif x>=80 and x<=89:\n",
    "    print('A')\n",
    "elif x>=60 and x<=79:\n",
    "    print('B')\n",
    "elif x>=50 and x<=59:\n",
    "    print('C')\n",
    "elif x>=45 and x<=49:\n",
    "    print('D')\n",
    "elif x>=25 and x<=44:\n",
    "    print('E')\n",
    "else:\n",
    "    print('F')"
   ]
  },
  {
   "cell_type": "markdown",
   "metadata": {},
   "source": [
    "# user kas theke input nibo seta 2 and 5 dara  Divisible kina ta check "
   ]
  },
  {
   "cell_type": "code",
   "execution_count": 3,
   "metadata": {},
   "outputs": [
    {
     "name": "stdout",
     "output_type": "stream",
     "text": [
      "Enter any Number: 20\n",
      "20.0 number ta 2 and 5 divisible\n"
     ]
    }
   ],
   "source": [
    "num=float(input('Enter any Number: '))\n",
    "\n",
    "if (num%2==0) and (num%5==0):\n",
    "    print(num,'number ta 2 and 5 divisible')\n",
    "else:\n",
    "    print('not divisible')"
   ]
  },
  {
   "cell_type": "code",
   "execution_count": null,
   "metadata": {},
   "outputs": [],
   "source": []
  },
  {
   "cell_type": "code",
   "execution_count": null,
   "metadata": {},
   "outputs": [],
   "source": []
  }
 ],
 "metadata": {
  "kernelspec": {
   "display_name": "Python 3",
   "language": "python",
   "name": "python3"
  },
  "language_info": {
   "codemirror_mode": {
    "name": "ipython",
    "version": 3
   },
   "file_extension": ".py",
   "mimetype": "text/x-python",
   "name": "python",
   "nbconvert_exporter": "python",
   "pygments_lexer": "ipython3",
   "version": "3.8.5"
  }
 },
 "nbformat": 4,
 "nbformat_minor": 4
}
