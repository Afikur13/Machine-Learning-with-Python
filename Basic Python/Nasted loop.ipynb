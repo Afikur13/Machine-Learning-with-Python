{
 "cells": [
  {
   "cell_type": "markdown",
   "metadata": {},
   "source": [
    "# Nasted loop"
   ]
  },
  {
   "cell_type": "code",
   "execution_count": 4,
   "metadata": {},
   "outputs": [],
   "source": [
    "# Ex-  #\n",
    "       # #\n",
    "       # # #\n",
    "       # # # #\n"
   ]
  },
  {
   "cell_type": "code",
   "execution_count": 10,
   "metadata": {},
   "outputs": [
    {
     "name": "stdout",
     "output_type": "stream",
     "text": [
      "#  \n",
      "# #  \n",
      "# # #  \n",
      "# # # #  \n"
     ]
    }
   ],
   "source": [
    "rows = 4\n",
    "for x in range(1,rows+1): \n",
    "    for y in range(1,x+1):  \n",
    "        print('#', end=' ') \n",
    "    print(' ')\n"
   ]
  },
  {
   "cell_type": "markdown",
   "metadata": {},
   "source": [
    "# Oporer example number diye koro"
   ]
  },
  {
   "cell_type": "code",
   "execution_count": 11,
   "metadata": {},
   "outputs": [
    {
     "name": "stdout",
     "output_type": "stream",
     "text": [
      "1  \n",
      "1 2  \n",
      "1 2 3  \n",
      "1 2 3 4  \n"
     ]
    }
   ],
   "source": [
    "rows=4\n",
    "for x in range(1,rows+1): \n",
    "    for y in range(1,x+1):\n",
    "        print(y,end=' ')\n",
    "    print(' ')"
   ]
  },
  {
   "cell_type": "code",
   "execution_count": 13,
   "metadata": {},
   "outputs": [
    {
     "name": "stdout",
     "output_type": "stream",
     "text": [
      "1 2 3 4  \n",
      "1 2 3 4  \n",
      "1 2 3 4  \n",
      "1 2 3 4  \n"
     ]
    }
   ],
   "source": [
    "num=[1,2,3,4]\n",
    "for ele in num:\n",
    "    index=0\n",
    "    while index<len(num):\n",
    "        print(num[index], end=' ')\n",
    "        index+=1\n",
    "    print(' ')"
   ]
  },
  {
   "cell_type": "code",
   "execution_count": 15,
   "metadata": {},
   "outputs": [
    {
     "name": "stdout",
     "output_type": "stream",
     "text": [
      "1 2 3 4 5 6 7 8 9  \n",
      "2 4 6 8 10 12 14 16 18  \n",
      "3 6 9 12 15 18 21 24 27  \n",
      "4 8 12 16 20 24 28 32 36  \n",
      "5 10 15 20 25 30 35 40 45  \n",
      "6 12 18 24 30 36 42 48 54  \n",
      "7 14 21 28 35 42 49 56 63  \n",
      "8 16 24 32 40 48 56 64 72  \n",
      "9 18 27 36 45 54 63 72 81  \n"
     ]
    }
   ],
   "source": [
    "for i in range(1,10):\n",
    "    for j in range(1,10):\n",
    "        print(i*j, end=(' '))\n",
    "    print(' ')"
   ]
  },
  {
   "cell_type": "code",
   "execution_count": 16,
   "metadata": {},
   "outputs": [
    {
     "name": "stdout",
     "output_type": "stream",
     "text": [
      "1 3 5 7 9  \n",
      "2 6 10 14 18  \n",
      "3 9 15 21 27  \n",
      "4 12 20 28 36  \n",
      "5 15 25 35 45  \n",
      "6 18 30 42 54  \n",
      "7 21 35 49 63  \n",
      "8 24 40 56 72  \n",
      "9 27 45 63 81  \n"
     ]
    }
   ],
   "source": [
    "for i in range(1,10):\n",
    "    for j in range(1,10,2):\n",
    "        print(i*j, end=(' '))\n",
    "    print(' ')"
   ]
  },
  {
   "cell_type": "code",
   "execution_count": 17,
   "metadata": {},
   "outputs": [
    {
     "name": "stdout",
     "output_type": "stream",
     "text": [
      "0 0\n",
      "0 1\n",
      "0 2\n",
      "0 3\n",
      " \n",
      "1 0\n",
      "1 1\n",
      "1 2\n",
      "1 3\n",
      " \n",
      "2 0\n",
      "2 1\n",
      "2 2\n",
      "2 3\n",
      " \n"
     ]
    }
   ],
   "source": [
    "for i in range(0,3):\n",
    "    for j in range(0,4):\n",
    "        print(i,j)\n",
    "    print(' ')"
   ]
  },
  {
   "cell_type": "code",
   "execution_count": 18,
   "metadata": {},
   "outputs": [],
   "source": [
    "#       0\n",
    "#      00\n",
    "#     000\n",
    "#    0000\n",
    "#   00000\n",
    "#  000000\n",
    "# 0000000"
   ]
  },
  {
   "cell_type": "code",
   "execution_count": 64,
   "metadata": {},
   "outputs": [
    {
     "name": "stdout",
     "output_type": "stream",
     "text": [
      "              0  \n",
      "            0 0  \n",
      "          0 0 0  \n",
      "        0 0 0 0  \n",
      "      0 0 0 0 0  \n",
      "    0 0 0 0 0 0  \n",
      "  0 0 0 0 0 0 0  \n"
     ]
    }
   ],
   "source": [
    "for i in range(0,7):\n",
    "    for j in range(0, 7-i):\n",
    "        print(' ',end=' ')\n",
    "    for k in range(0,i+1):\n",
    "        print('0', end=' ')\n",
    "    print(' ')"
   ]
  },
  {
   "cell_type": "code",
   "execution_count": 63,
   "metadata": {},
   "outputs": [
    {
     "name": "stdout",
     "output_type": "stream",
     "text": [
      "              0  \n",
      "            0 0 0  \n",
      "          0 0 0 0 0  \n",
      "        0 0 0 0 0 0 0  \n",
      "      0 0 0 0 0 0 0 0 0  \n",
      "    0 0 0 0 0 0 0 0 0 0 0  \n",
      "  0 0 0 0 0 0 0 0 0 0 0 0 0  \n"
     ]
    }
   ],
   "source": [
    "for i in range(0,7):\n",
    "    for j in range(0, 7-i):\n",
    "        print(' ',end=' ')\n",
    "    for k in range(0,2*i+1):\n",
    "        print('0', end=' ')\n",
    "    print(' ')"
   ]
  },
  {
   "cell_type": "code",
   "execution_count": null,
   "metadata": {},
   "outputs": [],
   "source": []
  }
 ],
 "metadata": {
  "kernelspec": {
   "display_name": "Python 3",
   "language": "python",
   "name": "python3"
  },
  "language_info": {
   "codemirror_mode": {
    "name": "ipython",
    "version": 3
   },
   "file_extension": ".py",
   "mimetype": "text/x-python",
   "name": "python",
   "nbconvert_exporter": "python",
   "pygments_lexer": "ipython3",
   "version": "3.8.5"
  }
 },
 "nbformat": 4,
 "nbformat_minor": 4
}
